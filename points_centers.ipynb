{
 "cells": [
  {
   "cell_type": "code",
   "execution_count": 1,
   "id": "3baf0261",
   "metadata": {},
   "outputs": [],
   "source": [
    "# catching spark instance\n",
    "import findspark\n",
    "findspark.init()\n",
    "\n",
    "# initialize sparsession and sparkcontext\n",
    "import pyspark\n",
    "from pyspark.sql import SparkSession\n",
    "spark = SparkSession.builder.getOrCreate()\n",
    "sc=spark.sparkContext\n",
    "\n",
    "# import necssary libraries\n",
    "from pyspark.sql.functions import col,collect_list,concat_ws,concat,lit,when\n",
    "from pyspark.sql.types import StringType\n",
    "from functools import reduce\n",
    "from pyspark.sql import DataFrame\n",
    "\n",
    "# path to save files\n",
    "filepath=\"\""
   ]
  },
  {
   "cell_type": "markdown",
   "id": "1d54384e",
   "metadata": {},
   "source": [
    "# Generate rdd & broadcast"
   ]
  },
  {
   "cell_type": "code",
   "execution_count": 2,
   "id": "75ca2b4e",
   "metadata": {},
   "outputs": [],
   "source": [
    "points = sc.parallelize([('p1', 20.9, 15.3, 20.4),\n",
    "                         ('p2', 0.6, 34.7, 8.1),\n",
    "                         ('p3', 12.1, 15.8, 2.3),\n",
    "                         ('p4', 15.0, 5.8, 16.9)])\n",
    "centers = sc.broadcast([('c1', 10, 10, 10),\n",
    "                        ('c2', 20, 20, 20)])\n"
   ]
  },
  {
   "cell_type": "markdown",
   "id": "d981ff4c",
   "metadata": {},
   "source": [
    "# Generate dataframes"
   ]
  },
  {
   "cell_type": "code",
   "execution_count": 3,
   "id": "ee39567f",
   "metadata": {},
   "outputs": [
    {
     "name": "stdout",
     "output_type": "stream",
     "text": [
      "+------+------------------+\n",
      "|points|      Total_Points|\n",
      "+------+------------------+\n",
      "|    p1|              56.6|\n",
      "|    p2|43.400000000000006|\n",
      "|    p3|              30.2|\n",
      "|    p4|              37.7|\n",
      "+------+------------------+\n",
      "\n"
     ]
    }
   ],
   "source": [
    "points_df=spark.createDataFrame(points,[\"points\",\"col1\",\"col2\",\"col3\"])\n",
    "points_df=points_df.withColumn(\"Total_Points\",col(\"col1\")+col(\"col2\")+col(\"col3\"))\n",
    "points_df=points_df.select(\"points\",\"Total_Points\")\n",
    "points_df.show()"
   ]
  },
  {
   "cell_type": "code",
   "execution_count": 4,
   "id": "28eb439f",
   "metadata": {},
   "outputs": [
    {
     "name": "stdout",
     "output_type": "stream",
     "text": [
      "+------+------------+\n",
      "|center|Total_Center|\n",
      "+------+------------+\n",
      "|    c1|          30|\n",
      "|    c2|          60|\n",
      "+------+------------+\n",
      "\n"
     ]
    }
   ],
   "source": [
    "center_df=spark.createDataFrame(centers.value,[\"center\",\"center1\",\"center2\",\"center3\"])\n",
    "center_df=center_df.withColumn(\"Total_Center\",col(\"center1\")+col(\"center2\")+col(\"center3\"))\n",
    "center_df=center_df.select(\"center\",\"Total_Center\")\n",
    "center_df.show()"
   ]
  },
  {
   "cell_type": "markdown",
   "id": "5d25ac65",
   "metadata": {},
   "source": [
    "# RDD to dict"
   ]
  },
  {
   "cell_type": "code",
   "execution_count": 5,
   "id": "b6643e00",
   "metadata": {},
   "outputs": [
    {
     "data": {
      "text/plain": [
       "{'p1': 56.6, 'p2': 43.400000000000006, 'p3': 30.2, 'p4': 37.7}"
      ]
     },
     "execution_count": 5,
     "metadata": {},
     "output_type": "execute_result"
    }
   ],
   "source": [
    "points_rdd=points_df.rdd\n",
    "keypair_points_rdd=points_rdd.map(lambda x : (x[0],x[1]))\n",
    "dict_points=keypair_points_rdd.collectAsMap()\n",
    "\n",
    "dict_points"
   ]
  },
  {
   "cell_type": "code",
   "execution_count": 6,
   "id": "dd2b5352",
   "metadata": {},
   "outputs": [
    {
     "data": {
      "text/plain": [
       "{'c1': 30, 'c2': 60}"
      ]
     },
     "execution_count": 6,
     "metadata": {},
     "output_type": "execute_result"
    }
   ],
   "source": [
    "center_rdd=center_df.rdd\n",
    "keypair_center_rdd=center_rdd.map(lambda x : (x[0],x[1]))\n",
    "dict_center=keypair_center_rdd.collectAsMap()\n",
    "\n",
    "dict_center"
   ]
  },
  {
   "cell_type": "markdown",
   "id": "16960935",
   "metadata": {},
   "source": [
    "# getting results"
   ]
  },
  {
   "cell_type": "code",
   "execution_count": 7,
   "id": "28d8d2e0",
   "metadata": {},
   "outputs": [
    {
     "data": {
      "text/plain": [
       "{'p1c1': 26.6,\n",
       " 'p1c2': 3.3999999999999986,\n",
       " 'p2c1': 13.400000000000006,\n",
       " 'p2c2': 16.599999999999994,\n",
       " 'p3c1': 0.1999999999999993,\n",
       " 'p3c2': 29.8,\n",
       " 'p4c1': 7.700000000000003,\n",
       " 'p4c2': 22.299999999999997}"
      ]
     },
     "execution_count": 7,
     "metadata": {},
     "output_type": "execute_result"
    }
   ],
   "source": [
    "new_dict={}\n",
    "for key,value in dict_points.items():\n",
    "    \n",
    "    for k,v in dict_center.items():\n",
    "            new_dict[key+k]=abs(value-v)\n",
    "       \n",
    "new_dict            "
   ]
  },
  {
   "cell_type": "code",
   "execution_count": 8,
   "id": "a798b5f7",
   "metadata": {},
   "outputs": [
    {
     "name": "stdout",
     "output_type": "stream",
     "text": [
      "+----+------------------+------------------+------------------+------------------+----+-----------------+------------------+\n",
      "|p1c1|              p1c2|              p2c1|              p2c2|              p3c1|p3c2|             p4c1|              p4c2|\n",
      "+----+------------------+------------------+------------------+------------------+----+-----------------+------------------+\n",
      "|26.6|3.3999999999999986|13.400000000000006|16.599999999999994|0.1999999999999993|29.8|7.700000000000003|22.299999999999997|\n",
      "+----+------------------+------------------+------------------+------------------+----+-----------------+------------------+\n",
      "\n"
     ]
    }
   ],
   "source": [
    "rdd = sc.parallelize([new_dict])\n",
    "processed_df=spark.read.json(rdd)\n",
    "processed_df.show()"
   ]
  },
  {
   "cell_type": "code",
   "execution_count": 9,
   "id": "7714cf86",
   "metadata": {},
   "outputs": [],
   "source": [
    "processed_df_1=processed_df.select(when(col(\"p1c1\")<col(\"p1c2\"),\"p1<\\\\tab>c1\").otherwise(\"p1<\\\\tab>c2\").alias(\"P1\"),\n",
    "              when(col(\"p2c1\")<col(\"p2c2\"),\"p2<\\\\tab>c1\").otherwise(\"p2<\\\\tab>c2\").alias(\"P2\"),\n",
    "              when(col(\"p3c1\")<col(\"p3c2\"),\"p3<\\\\tab>c1\").otherwise(\"p3<\\\\tab>c2\").alias(\"P3\"),\n",
    "              when(col(\"p4c1\")<col(\"p4c2\"),\"p4<\\\\tab>c1\").otherwise(\"p4<\\\\tab>c2\").alias(\"P4\"))"
   ]
  },
  {
   "cell_type": "code",
   "execution_count": 10,
   "id": "d795ee3a",
   "metadata": {},
   "outputs": [],
   "source": [
    "d1=processed_df_1.select(\"P1\")\n",
    "d2=processed_df_1.select(\"P2\")\n",
    "d3=processed_df_1.select(\"P3\")\n",
    "d4=processed_df_1.select(\"P4\")"
   ]
  },
  {
   "cell_type": "code",
   "execution_count": 11,
   "id": "f201a240",
   "metadata": {},
   "outputs": [
    {
     "name": "stdout",
     "output_type": "stream",
     "text": [
      "+----------+\n",
      "|        P1|\n",
      "+----------+\n",
      "|p1<\\tab>c2|\n",
      "|p2<\\tab>c1|\n",
      "|p3<\\tab>c1|\n",
      "|p4<\\tab>c1|\n",
      "+----------+\n",
      "\n"
     ]
    }
   ],
   "source": [
    "dfs = [d1,d2,d3,d4]\n",
    "df_data = reduce(DataFrame.unionAll, dfs)\n",
    "df_data.show()"
   ]
  },
  {
   "cell_type": "code",
   "execution_count": 12,
   "id": "d9e9762a",
   "metadata": {},
   "outputs": [],
   "source": [
    "df_data.coalesce(1)\\\n",
    ".write.mode(\"overwrite\")\\\n",
    ".option('header', 'true') \\\n",
    ".option(\"mapreduce.fileoutputcommitter.marksuccessfuljobs\",\"false\")\\\n",
    ".csv(filepath+\"problem_1\")"
   ]
  },
  {
   "cell_type": "markdown",
   "id": "8ed3879f",
   "metadata": {},
   "source": [
    "# Problem 2"
   ]
  },
  {
   "cell_type": "code",
   "execution_count": 13,
   "id": "0cc4b4d7",
   "metadata": {},
   "outputs": [
    {
     "name": "stdout",
     "output_type": "stream",
     "text": [
      "+------+--------+\n",
      "|center|  points|\n",
      "+------+--------+\n",
      "|    c1|p2,p3,p4|\n",
      "|    c2|      p1|\n",
      "+------+--------+\n",
      "\n"
     ]
    }
   ],
   "source": [
    "df_data_1=df_data.select(df_data[\"P1\"].substr(1,2).alias(\"points\"),\n",
    "              df_data[\"P1\"].substr(9,10).alias(\"center\"))\n",
    "\n",
    "df_data_1=df_data_1.sort(df_data_1[\"center\"].asc())\n",
    "\n",
    "df_data_1=df_data_1.groupBy(\"center\").agg(concat_ws(\",\", collect_list(\"points\")).alias(\"points\"))\n",
    "\n",
    "df_data_1.show()"
   ]
  },
  {
   "cell_type": "code",
   "execution_count": 14,
   "id": "54f1c57b",
   "metadata": {},
   "outputs": [
    {
     "name": "stdout",
     "output_type": "stream",
     "text": [
      "+----------------+\n",
      "|            data|\n",
      "+----------------+\n",
      "|c1<\\tab>p2,p3,p4|\n",
      "|      c2<\\tab>p1|\n",
      "+----------------+\n",
      "\n"
     ]
    }
   ],
   "source": [
    "df_data_1.select(concat(col(\"center\"), lit(\"<\\\\tab>\"), col(\"points\")).alias(\"data\")).show()"
   ]
  },
  {
   "cell_type": "code",
   "execution_count": 15,
   "id": "205b168e",
   "metadata": {},
   "outputs": [],
   "source": [
    "df_data_1.coalesce(1)\\\n",
    ".write.mode(\"overwrite\")\\\n",
    ".option('header', 'true') \\\n",
    ".option(\"mapreduce.fileoutputcommitter.marksuccessfuljobs\",\"false\")\\\n",
    ".csv(filepath+\"problem_2\")"
   ]
  },
  {
   "cell_type": "code",
   "execution_count": null,
   "id": "c1dde300",
   "metadata": {},
   "outputs": [],
   "source": []
  }
 ],
 "metadata": {
  "kernelspec": {
   "display_name": "Python 3",
   "language": "python",
   "name": "python3"
  },
  "language_info": {
   "codemirror_mode": {
    "name": "ipython",
    "version": 3
   },
   "file_extension": ".py",
   "mimetype": "text/x-python",
   "name": "python",
   "nbconvert_exporter": "python",
   "pygments_lexer": "ipython3",
   "version": "3.8.8"
  }
 },
 "nbformat": 4,
 "nbformat_minor": 5
}
