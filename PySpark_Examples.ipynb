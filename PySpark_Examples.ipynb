{
 "cells": [
  {
   "cell_type": "markdown",
   "id": "446dfec3",
   "metadata": {},
   "source": [
    "# Intializing Spark Session"
   ]
  },
  {
   "cell_type": "code",
   "execution_count": 1,
   "id": "b9460f84",
   "metadata": {},
   "outputs": [],
   "source": [
    "import findspark\n",
    "findspark.init()\n",
    "\n",
    "import pyspark\n",
    "from pyspark.sql import SparkSession \n",
    "spark = SparkSession.builder.getOrCreate()"
   ]
  },
  {
   "cell_type": "markdown",
   "id": "990b53d7",
   "metadata": {},
   "source": [
    "# creating dataframe"
   ]
  },
  {
   "cell_type": "code",
   "execution_count": 2,
   "id": "74668990",
   "metadata": {},
   "outputs": [
    {
     "name": "stdout",
     "output_type": "stream",
     "text": [
      "+------+\n",
      "|number|\n",
      "+------+\n",
      "|     0|\n",
      "|     1|\n",
      "|     2|\n",
      "|     3|\n",
      "|     4|\n",
      "|     5|\n",
      "|     6|\n",
      "|     7|\n",
      "|     8|\n",
      "|     9|\n",
      "|    10|\n",
      "|    11|\n",
      "|    12|\n",
      "|    13|\n",
      "|    14|\n",
      "|    15|\n",
      "|    16|\n",
      "|    17|\n",
      "|    18|\n",
      "|    19|\n",
      "+------+\n",
      "only showing top 20 rows\n",
      "\n"
     ]
    }
   ],
   "source": [
    "myRange = spark.range(1000).toDF(\"number\")\n",
    "myRange.show()"
   ]
  },
  {
   "cell_type": "markdown",
   "id": "899ab1c7",
   "metadata": {},
   "source": [
    "# where"
   ]
  },
  {
   "cell_type": "code",
   "execution_count": 3,
   "id": "eaf0cb56",
   "metadata": {},
   "outputs": [
    {
     "name": "stdout",
     "output_type": "stream",
     "text": [
      "+------+\n",
      "|number|\n",
      "+------+\n",
      "|     0|\n",
      "|     2|\n",
      "|     4|\n",
      "|     6|\n",
      "|     8|\n",
      "|    10|\n",
      "|    12|\n",
      "|    14|\n",
      "|    16|\n",
      "|    18|\n",
      "|    20|\n",
      "|    22|\n",
      "|    24|\n",
      "|    26|\n",
      "|    28|\n",
      "|    30|\n",
      "|    32|\n",
      "|    34|\n",
      "|    36|\n",
      "|    38|\n",
      "+------+\n",
      "only showing top 20 rows\n",
      "\n"
     ]
    }
   ],
   "source": [
    "# doing transformation and action\n",
    "divisBy2 = myRange.where(\"number % 2 = 0\")\n",
    "divisBy2.show()"
   ]
  },
  {
   "cell_type": "markdown",
   "id": "688470b1",
   "metadata": {},
   "source": [
    "# csv read"
   ]
  },
  {
   "cell_type": "code",
   "execution_count": 4,
   "id": "0b463e60",
   "metadata": {},
   "outputs": [],
   "source": [
    "flightData2015 = spark\\\n",
    ".read\\\n",
    ".option(\"inferSchema\", \"true\")\\\n",
    ".option(\"header\", \"true\")\\\n",
    ".csv(r\"C:\\Users\\Admin\\Documents\\spark\\Spark-The-Definitive-Guide-master\\data\\flight-data\\csv\\2015-summary.csv\")"
   ]
  },
  {
   "cell_type": "code",
   "execution_count": 5,
   "id": "b47a28a4",
   "metadata": {},
   "outputs": [
    {
     "name": "stdout",
     "output_type": "stream",
     "text": [
      "+--------------------+-------------------+-----+\n",
      "|   DEST_COUNTRY_NAME|ORIGIN_COUNTRY_NAME|count|\n",
      "+--------------------+-------------------+-----+\n",
      "|       United States|            Romania|   15|\n",
      "|       United States|            Croatia|    1|\n",
      "|       United States|            Ireland|  344|\n",
      "|               Egypt|      United States|   15|\n",
      "|       United States|              India|   62|\n",
      "|       United States|          Singapore|    1|\n",
      "|       United States|            Grenada|   62|\n",
      "|          Costa Rica|      United States|  588|\n",
      "|             Senegal|      United States|   40|\n",
      "|             Moldova|      United States|    1|\n",
      "|       United States|       Sint Maarten|  325|\n",
      "|       United States|   Marshall Islands|   39|\n",
      "|              Guyana|      United States|   64|\n",
      "|               Malta|      United States|    1|\n",
      "|            Anguilla|      United States|   41|\n",
      "|             Bolivia|      United States|   30|\n",
      "|       United States|           Paraguay|    6|\n",
      "|             Algeria|      United States|    4|\n",
      "|Turks and Caicos ...|      United States|  230|\n",
      "|       United States|          Gibraltar|    1|\n",
      "+--------------------+-------------------+-----+\n",
      "only showing top 20 rows\n",
      "\n"
     ]
    }
   ],
   "source": [
    "flightData2015.show()"
   ]
  },
  {
   "cell_type": "code",
   "execution_count": 6,
   "id": "ea561f30",
   "metadata": {},
   "outputs": [
    {
     "data": {
      "text/plain": [
       "[Row(DEST_COUNTRY_NAME='United States', ORIGIN_COUNTRY_NAME='Romania', count=15),\n",
       " Row(DEST_COUNTRY_NAME='United States', ORIGIN_COUNTRY_NAME='Croatia', count=1),\n",
       " Row(DEST_COUNTRY_NAME='United States', ORIGIN_COUNTRY_NAME='Ireland', count=344)]"
      ]
     },
     "execution_count": 6,
     "metadata": {},
     "output_type": "execute_result"
    }
   ],
   "source": [
    "flightData2015.take(3)"
   ]
  },
  {
   "cell_type": "markdown",
   "id": "9634ad7a",
   "metadata": {},
   "source": [
    "# explain"
   ]
  },
  {
   "cell_type": "code",
   "execution_count": 7,
   "id": "ad7c379e",
   "metadata": {},
   "outputs": [
    {
     "name": "stdout",
     "output_type": "stream",
     "text": [
      "== Physical Plan ==\n",
      "*(1) Sort [count#32 ASC NULLS FIRST], true, 0\n",
      "+- *(1) Project [DEST_COUNTRY_NAME#30, ORIGIN_COUNTRY_NAME#31, count#32]\n",
      "   +- BatchScan[DEST_COUNTRY_NAME#30, ORIGIN_COUNTRY_NAME#31, count#32] CSVScan Location: InMemoryFileIndex[file:/C:/Users/Admin/Documents/spark/Spark-The-Definitive-Guide-master/data/fli..., ReadSchema: struct<DEST_COUNTRY_NAME:string,ORIGIN_COUNTRY_NAME:string,count:int>\n",
      "\n",
      "\n"
     ]
    }
   ],
   "source": [
    "# to see how spark will execute the query\n",
    "# sort is a wide dependency transformation\n",
    "flightData2015.sort(\"count\").explain()"
   ]
  },
  {
   "cell_type": "code",
   "execution_count": 8,
   "id": "adc0936a",
   "metadata": {},
   "outputs": [
    {
     "data": {
      "text/plain": [
       "[Row(DEST_COUNTRY_NAME='United States', ORIGIN_COUNTRY_NAME='Singapore', count=1),\n",
       " Row(DEST_COUNTRY_NAME='Moldova', ORIGIN_COUNTRY_NAME='United States', count=1)]"
      ]
     },
     "execution_count": 8,
     "metadata": {},
     "output_type": "execute_result"
    }
   ],
   "source": [
    "# setting number of partitions upto 5\n",
    "spark.conf.set(\"spark.sql.shuffle.partitions\", \"5\")\n",
    "flightData2015.sort(\"count\").take(2)"
   ]
  },
  {
   "cell_type": "code",
   "execution_count": 9,
   "id": "510d76bb",
   "metadata": {},
   "outputs": [],
   "source": [
    "# create table or view for spark sql\n",
    "flightData2015.createOrReplaceTempView(\"flight_data_2015\")"
   ]
  },
  {
   "cell_type": "code",
   "execution_count": 10,
   "id": "8c679498",
   "metadata": {},
   "outputs": [],
   "source": [
    "sqlWay = spark.sql(\"\"\"\n",
    "SELECT DEST_COUNTRY_NAME, count(1)\n",
    "FROM flight_data_2015\n",
    "GROUP BY DEST_COUNTRY_NAME\n",
    "\"\"\")\n",
    "# above logic in data frame\n",
    "dataFrameWay = flightData2015\\\n",
    ".groupBy(\"DEST_COUNTRY_NAME\")\\\n",
    ".count()"
   ]
  },
  {
   "cell_type": "code",
   "execution_count": 11,
   "id": "9442ab05",
   "metadata": {},
   "outputs": [
    {
     "name": "stdout",
     "output_type": "stream",
     "text": [
      "== Physical Plan ==\n",
      "*(1) HashAggregate(keys=[DEST_COUNTRY_NAME#30], functions=[count(1)])\n",
      "+- *(1) HashAggregate(keys=[DEST_COUNTRY_NAME#30], functions=[partial_count(1)])\n",
      "   +- *(1) Project [DEST_COUNTRY_NAME#30]\n",
      "      +- BatchScan[DEST_COUNTRY_NAME#30] CSVScan Location: InMemoryFileIndex[file:/C:/Users/Admin/Documents/spark/Spark-The-Definitive-Guide-master/data/fli..., ReadSchema: struct<DEST_COUNTRY_NAME:string>\n",
      "\n",
      "\n",
      "None\n",
      "== Physical Plan ==\n",
      "*(1) HashAggregate(keys=[DEST_COUNTRY_NAME#30], functions=[count(1)])\n",
      "+- *(1) HashAggregate(keys=[DEST_COUNTRY_NAME#30], functions=[partial_count(1)])\n",
      "   +- *(1) Project [DEST_COUNTRY_NAME#30]\n",
      "      +- BatchScan[DEST_COUNTRY_NAME#30] CSVScan Location: InMemoryFileIndex[file:/C:/Users/Admin/Documents/spark/Spark-The-Definitive-Guide-master/data/fli..., ReadSchema: struct<DEST_COUNTRY_NAME:string>\n",
      "\n",
      "\n",
      "None\n"
     ]
    }
   ],
   "source": [
    "# both generates same physical plan so it doesn't matter which approach you are using\n",
    "print(sqlWay.explain())\n",
    "print(dataFrameWay.explain())"
   ]
  },
  {
   "cell_type": "code",
   "execution_count": 12,
   "id": "845ea643",
   "metadata": {},
   "outputs": [
    {
     "data": {
      "text/plain": [
       "[Row(max(count)=370002)]"
      ]
     },
     "execution_count": 12,
     "metadata": {},
     "output_type": "execute_result"
    }
   ],
   "source": [
    "spark.sql(\"SELECT max(count) from flight_data_2015\").take(1)"
   ]
  },
  {
   "cell_type": "code",
   "execution_count": 13,
   "id": "5ecf9ddb",
   "metadata": {},
   "outputs": [
    {
     "data": {
      "text/plain": [
       "[Row(max(count)=370002)]"
      ]
     },
     "execution_count": 13,
     "metadata": {},
     "output_type": "execute_result"
    }
   ],
   "source": [
    "from pyspark.sql.functions import max\n",
    "flightData2015.select(max(\"count\")).take(1)"
   ]
  },
  {
   "cell_type": "code",
   "execution_count": 14,
   "id": "44deb2d9",
   "metadata": {},
   "outputs": [
    {
     "name": "stdout",
     "output_type": "stream",
     "text": [
      "+-----------------+-----------------+\n",
      "|DEST_COUNTRY_NAME|destination_total|\n",
      "+-----------------+-----------------+\n",
      "|    United States|           411352|\n",
      "|           Canada|             8399|\n",
      "|           Mexico|             7140|\n",
      "|   United Kingdom|             2025|\n",
      "|            Japan|             1548|\n",
      "+-----------------+-----------------+\n",
      "\n"
     ]
    }
   ],
   "source": [
    "# finding top 5 destinations \n",
    "maxSql = spark.sql(\"\"\"\n",
    "SELECT DEST_COUNTRY_NAME, sum(count) as destination_total\n",
    "FROM flight_data_2015\n",
    "GROUP BY DEST_COUNTRY_NAME\n",
    "ORDER BY sum(count) DESC\n",
    "LIMIT 5\n",
    "\"\"\")\n",
    "maxSql.show()"
   ]
  },
  {
   "cell_type": "code",
   "execution_count": 15,
   "id": "6db1edfa",
   "metadata": {},
   "outputs": [
    {
     "name": "stdout",
     "output_type": "stream",
     "text": [
      "+-----------------+-----------------+\n",
      "|DEST_COUNTRY_NAME|destination_total|\n",
      "+-----------------+-----------------+\n",
      "|    United States|           411352|\n",
      "|           Canada|             8399|\n",
      "|           Mexico|             7140|\n",
      "|   United Kingdom|             2025|\n",
      "|            Japan|             1548|\n",
      "+-----------------+-----------------+\n",
      "\n"
     ]
    }
   ],
   "source": [
    "from pyspark.sql.functions import desc\n",
    "flightData2015\\\n",
    ".groupBy(\"DEST_COUNTRY_NAME\")\\\n",
    ".sum(\"count\")\\\n",
    ".withColumnRenamed(\"sum(count)\", \"destination_total\")\\\n",
    ".sort(desc(\"destination_total\"))\\\n",
    ".limit(5)\\\n",
    ".show()"
   ]
  },
  {
   "cell_type": "markdown",
   "id": "5268e9c8",
   "metadata": {},
   "source": [
    "# STRUCTURED STREAMING EXAMPLE"
   ]
  },
  {
   "cell_type": "code",
   "execution_count": 16,
   "id": "e1e21631",
   "metadata": {},
   "outputs": [],
   "source": [
    "staticDataFrame = spark.read.format(\"csv\")\\\n",
    ".option(\"header\", \"true\")\\\n",
    ".option(\"inferSchema\", \"true\")\\\n",
    ".load(r\"C:\\Users\\Admin\\Documents\\spark\\Spark-The-Definitive-Guide-master\\data\\retail-data\\by-day\\*.csv\")\n",
    "staticDataFrame.createOrReplaceTempView(\"retail_data\")\n",
    "staticSchema = staticDataFrame.schema"
   ]
  },
  {
   "cell_type": "code",
   "execution_count": 17,
   "id": "39c9a9e7",
   "metadata": {},
   "outputs": [
    {
     "name": "stdout",
     "output_type": "stream",
     "text": [
      "+----------+--------------------+------------------+\n",
      "|CustomerId|              window|   sum(total_cost)|\n",
      "+----------+--------------------+------------------+\n",
      "|   14075.0|[2011-12-05 05:00...|316.78000000000003|\n",
      "|   18180.0|[2011-12-05 05:00...|            310.73|\n",
      "|   15358.0|[2011-12-05 05:00...| 830.0600000000003|\n",
      "|   15392.0|[2011-12-05 05:00...|304.40999999999997|\n",
      "|   15290.0|[2011-12-05 05:00...|263.02000000000004|\n",
      "|   16811.0|[2011-12-05 05:00...|             232.3|\n",
      "|   12748.0|[2011-12-05 05:00...| 363.7899999999999|\n",
      "|   16500.0|[2011-12-05 05:00...| 52.74000000000001|\n",
      "|   16873.0|[2011-12-05 05:00...|1854.8300000000002|\n",
      "|   14060.0|[2011-12-05 05:00...|297.47999999999996|\n",
      "|   14649.0|[2011-12-05 05:00...| 513.9899999999998|\n",
      "|   16904.0|[2011-12-05 05:00...| 349.0200000000001|\n",
      "|   17857.0|[2011-12-05 05:00...|            2979.6|\n",
      "|   14083.0|[2011-12-05 05:00...| 446.5700000000001|\n",
      "|   14777.0|[2011-12-05 05:00...|             -2.95|\n",
      "|   16684.0|[2011-12-05 05:00...| 5401.979999999999|\n",
      "|   13685.0|[2011-12-05 05:00...|              5.48|\n",
      "|   15159.0|[2011-12-05 05:00...|           1730.84|\n",
      "|   18015.0|[2011-12-05 05:00...|            120.03|\n",
      "|   13305.0|[2011-12-05 05:00...|213.15999999999997|\n",
      "+----------+--------------------+------------------+\n",
      "only showing top 20 rows\n",
      "\n"
     ]
    }
   ],
   "source": [
    "# batch code\n",
    "from pyspark.sql.functions import window, column, desc, col\n",
    "staticDataFrame\\\n",
    ".selectExpr(\"CustomerId\",\"(UnitPrice * Quantity) as total_cost\",\"InvoiceDate\")\\\n",
    ".groupBy(col(\"CustomerId\"),window(col(\"InvoiceDate\"),\"1 day\"))\\\n",
    ".sum(\"total_cost\")\\\n",
    ".show()"
   ]
  },
  {
   "cell_type": "code",
   "execution_count": 18,
   "id": "790edc53",
   "metadata": {},
   "outputs": [],
   "source": [
    "spark.conf.set(\"spark.sql.shuffle.partitions\", \"5\")"
   ]
  },
  {
   "cell_type": "code",
   "execution_count": 19,
   "id": "98df143f",
   "metadata": {},
   "outputs": [],
   "source": [
    "streamingDataFrame = spark.readStream\\\n",
    ".schema(staticSchema)\\\n",
    ".option(\"maxFilesPerTrigger\", 1)\\\n",
    ".format(\"csv\")\\\n",
    ".option(\"header\", \"true\")\\\n",
    ".load(r\"C:\\Users\\Admin\\Documents\\spark\\Spark-The-Definitive-Guide-master\\data\\retail-data\\by-day\\*.csv\")"
   ]
  },
  {
   "cell_type": "code",
   "execution_count": 20,
   "id": "490c8e3e",
   "metadata": {},
   "outputs": [
    {
     "data": {
      "text/plain": [
       "True"
      ]
     },
     "execution_count": 20,
     "metadata": {},
     "output_type": "execute_result"
    }
   ],
   "source": [
    "streamingDataFrame.isStreaming"
   ]
  },
  {
   "cell_type": "code",
   "execution_count": 21,
   "id": "5e143907",
   "metadata": {},
   "outputs": [],
   "source": [
    "purchaseByCustomerPerHour = streamingDataFrame\\\n",
    ".selectExpr(\n",
    "\"CustomerId\",\n",
    "\"(UnitPrice * Quantity) as total_cost\",\n",
    "\"InvoiceDate\")\\\n",
    ".groupBy(\n",
    "col(\"CustomerId\"), window(col(\"InvoiceDate\"), \"1 day\"))\\\n",
    ".sum(\"total_cost\")"
   ]
  },
  {
   "cell_type": "code",
   "execution_count": 22,
   "id": "1d7cdac5",
   "metadata": {},
   "outputs": [
    {
     "data": {
      "text/plain": [
       "\"purchaseByCustomerPerHour.writeStream.format('memory').queryName('customer_purchases').outputMode('complete').start()\""
      ]
     },
     "execution_count": 22,
     "metadata": {},
     "output_type": "execute_result"
    }
   ],
   "source": [
    "# performing action on stream\n",
    "\"\"\"purchaseByCustomerPerHour.writeStream\\\n",
    ".format('memory')\\\n",
    ".queryName('customer_purchases')\\\n",
    ".outputMode('complete')\\\n",
    ".start()\"\"\""
   ]
  },
  {
   "cell_type": "code",
   "execution_count": 23,
   "id": "a8791889",
   "metadata": {},
   "outputs": [],
   "source": [
    "# spark.sql('SELECT * FROM customer_purchases ORDER BY `sum(total_cost)` DESC').show(5)"
   ]
  },
  {
   "cell_type": "code",
   "execution_count": 24,
   "id": "3a3a60c3",
   "metadata": {},
   "outputs": [
    {
     "name": "stdout",
     "output_type": "stream",
     "text": [
      "root\n",
      " |-- InvoiceNo: string (nullable = true)\n",
      " |-- StockCode: string (nullable = true)\n",
      " |-- Description: string (nullable = true)\n",
      " |-- Quantity: integer (nullable = true)\n",
      " |-- InvoiceDate: string (nullable = true)\n",
      " |-- UnitPrice: double (nullable = true)\n",
      " |-- CustomerID: double (nullable = true)\n",
      " |-- Country: string (nullable = true)\n",
      "\n"
     ]
    }
   ],
   "source": [
    "staticDataFrame.printSchema()"
   ]
  },
  {
   "cell_type": "code",
   "execution_count": 25,
   "id": "06bc19b9",
   "metadata": {},
   "outputs": [],
   "source": [
    "from pyspark.sql.functions import date_format, col\n",
    "preppedDataFrame = staticDataFrame\\\n",
    ".na.fill(0)\\\n",
    ".withColumn(\"day_of_week\", date_format(col(\"InvoiceDate\"), \"EEEE\"))\\\n",
    ".coalesce(5)"
   ]
  },
  {
   "cell_type": "code",
   "execution_count": 26,
   "id": "e7075ba8",
   "metadata": {},
   "outputs": [],
   "source": [
    "trainDataFrame = preppedDataFrame\\\n",
    ".where(\"InvoiceDate < '2011-07-01'\")\n",
    "testDataFrame = preppedDataFrame\\\n",
    ".where(\"InvoiceDate >= '2011-07-01'\")"
   ]
  },
  {
   "cell_type": "code",
   "execution_count": 27,
   "id": "2588e23a",
   "metadata": {},
   "outputs": [
    {
     "data": {
      "text/plain": [
       "296006"
      ]
     },
     "execution_count": 27,
     "metadata": {},
     "output_type": "execute_result"
    }
   ],
   "source": [
    "trainDataFrame.count()\n",
    "testDataFrame.count()"
   ]
  },
  {
   "cell_type": "code",
   "execution_count": 28,
   "id": "d91c1705",
   "metadata": {},
   "outputs": [],
   "source": [
    "from pyspark.ml.feature import StringIndexer\n",
    "indexer = StringIndexer()\\\n",
    ".setInputCol(\"day_of_week\")\\\n",
    ".setOutputCol(\"day_of_week_index\")"
   ]
  },
  {
   "cell_type": "code",
   "execution_count": 29,
   "id": "c4e542c0",
   "metadata": {},
   "outputs": [],
   "source": [
    "from pyspark.ml.feature import OneHotEncoder\n",
    "encoder = OneHotEncoder()\\\n",
    ".setInputCol(\"day_of_week_index\")\\\n",
    ".setOutputCol(\"day_of_week_encoded\")"
   ]
  },
  {
   "cell_type": "code",
   "execution_count": 30,
   "id": "d748a634",
   "metadata": {},
   "outputs": [],
   "source": [
    "from pyspark.ml.feature import VectorAssembler\n",
    "vectorAssembler = VectorAssembler()\\\n",
    ".setInputCols([\"UnitPrice\", \"Quantity\", \"day_of_week_encoded\"])\\\n",
    ".setOutputCol(\"features\")"
   ]
  },
  {
   "cell_type": "code",
   "execution_count": 31,
   "id": "861f8167",
   "metadata": {},
   "outputs": [],
   "source": [
    "from pyspark.ml import Pipeline\n",
    "transformationPipeline = Pipeline()\\\n",
    ".setStages([indexer, encoder, vectorAssembler])"
   ]
  },
  {
   "cell_type": "code",
   "execution_count": 32,
   "id": "2334b561",
   "metadata": {},
   "outputs": [],
   "source": [
    "fittedPipeline = transformationPipeline.fit(trainDataFrame)"
   ]
  },
  {
   "cell_type": "code",
   "execution_count": 33,
   "id": "4387fc6f",
   "metadata": {},
   "outputs": [],
   "source": [
    "transformedTraining = fittedPipeline.transform(trainDataFrame)"
   ]
  },
  {
   "cell_type": "code",
   "execution_count": 34,
   "id": "7e7a9c6e",
   "metadata": {},
   "outputs": [
    {
     "name": "stdout",
     "output_type": "stream",
     "text": [
      "+---------+---------+--------------------+--------+-------------------+---------+----------+--------------+-----------+-----------------+-------------------+--------------------+\n",
      "|InvoiceNo|StockCode|         Description|Quantity|        InvoiceDate|UnitPrice|CustomerID|       Country|day_of_week|day_of_week_index|day_of_week_encoded|            features|\n",
      "+---------+---------+--------------------+--------+-------------------+---------+----------+--------------+-----------+-----------------+-------------------+--------------------+\n",
      "|   537226|    22811|SET OF 6 T-LIGHTS...|       6|2010-12-06 08:34:00|     2.95|   15987.0|United Kingdom|     Monday|              2.0|      (5,[2],[1.0])|(7,[0,1,4],[2.95,...|\n",
      "|   537226|    21713|CITRONELLA CANDLE...|       8|2010-12-06 08:34:00|      2.1|   15987.0|United Kingdom|     Monday|              2.0|      (5,[2],[1.0])|(7,[0,1,4],[2.1,8...|\n",
      "|   537226|    22927|GREEN GIANT GARDE...|       2|2010-12-06 08:34:00|     5.95|   15987.0|United Kingdom|     Monday|              2.0|      (5,[2],[1.0])|(7,[0,1,4],[5.95,...|\n",
      "|   537226|    20802|SMALL GLASS SUNDA...|       6|2010-12-06 08:34:00|     1.65|   15987.0|United Kingdom|     Monday|              2.0|      (5,[2],[1.0])|(7,[0,1,4],[1.65,...|\n",
      "|   537226|    22052|VINTAGE CARAVAN G...|      25|2010-12-06 08:34:00|     0.42|   15987.0|United Kingdom|     Monday|              2.0|      (5,[2],[1.0])|(7,[0,1,4],[0.42,...|\n",
      "|   537226|    22705|   WRAP GREEN PEARS |      25|2010-12-06 08:34:00|     0.42|   15987.0|United Kingdom|     Monday|              2.0|      (5,[2],[1.0])|(7,[0,1,4],[0.42,...|\n",
      "|   537226|    20781|GOLD EAR MUFF HEA...|       2|2010-12-06 08:34:00|     5.49|   15987.0|United Kingdom|     Monday|              2.0|      (5,[2],[1.0])|(7,[0,1,4],[5.49,...|\n",
      "|   537226|    22310|IVORY KNITTED MUG...|       6|2010-12-06 08:34:00|     1.65|   15987.0|United Kingdom|     Monday|              2.0|      (5,[2],[1.0])|(7,[0,1,4],[1.65,...|\n",
      "|   537226|    22389|PAPERWEIGHT SAVE ...|       6|2010-12-06 08:34:00|     2.55|   15987.0|United Kingdom|     Monday|              2.0|      (5,[2],[1.0])|(7,[0,1,4],[2.55,...|\n",
      "|   537227|    22941|CHRISTMAS LIGHTS ...|       2|2010-12-06 08:42:00|      8.5|   17677.0|United Kingdom|     Monday|              2.0|      (5,[2],[1.0])|(7,[0,1,4],[8.5,2...|\n",
      "|   537227|    22696| WICKER WREATH LARGE|       6|2010-12-06 08:42:00|     1.95|   17677.0|United Kingdom|     Monday|              2.0|      (5,[2],[1.0])|(7,[0,1,4],[1.95,...|\n",
      "|   537227|    22193|RED DINER WALL CLOCK|       2|2010-12-06 08:42:00|      8.5|   17677.0|United Kingdom|     Monday|              2.0|      (5,[2],[1.0])|(7,[0,1,4],[8.5,2...|\n",
      "|   537227|    21212|PACK OF 72 RETROS...|     120|2010-12-06 08:42:00|     0.42|   17677.0|United Kingdom|     Monday|              2.0|      (5,[2],[1.0])|(7,[0,1,4],[0.42,...|\n",
      "|   537227|    21977|PACK OF 60 PINK P...|      48|2010-12-06 08:42:00|     0.55|   17677.0|United Kingdom|     Monday|              2.0|      (5,[2],[1.0])|(7,[0,1,4],[0.55,...|\n",
      "|   537227|    84991|60 TEATIME FAIRY ...|      48|2010-12-06 08:42:00|     0.55|   17677.0|United Kingdom|     Monday|              2.0|      (5,[2],[1.0])|(7,[0,1,4],[0.55,...|\n",
      "|   537227|    21213|PACK OF 72 SKULL ...|      48|2010-12-06 08:42:00|     0.55|   17677.0|United Kingdom|     Monday|              2.0|      (5,[2],[1.0])|(7,[0,1,4],[0.55,...|\n",
      "|   537227|    21080|SET/20 RED RETROS...|      12|2010-12-06 08:42:00|     0.85|   17677.0|United Kingdom|     Monday|              2.0|      (5,[2],[1.0])|(7,[0,1,4],[0.85,...|\n",
      "|   537227|    22632|HAND WARMER RED R...|      48|2010-12-06 08:42:00|      2.1|   17677.0|United Kingdom|     Monday|              2.0|      (5,[2],[1.0])|(7,[0,1,4],[2.1,4...|\n",
      "|   537227|    22315|200 RED + WHITE B...|      12|2010-12-06 08:42:00|     1.25|   17677.0|United Kingdom|     Monday|              2.0|      (5,[2],[1.0])|(7,[0,1,4],[1.25,...|\n",
      "|   537227|    21232|STRAWBERRY CERAMI...|      12|2010-12-06 08:42:00|     1.25|   17677.0|United Kingdom|     Monday|              2.0|      (5,[2],[1.0])|(7,[0,1,4],[1.25,...|\n",
      "+---------+---------+--------------------+--------+-------------------+---------+----------+--------------+-----------+-----------------+-------------------+--------------------+\n",
      "only showing top 20 rows\n",
      "\n"
     ]
    }
   ],
   "source": [
    "transformedTraining.show()"
   ]
  },
  {
   "cell_type": "code",
   "execution_count": 35,
   "id": "068297f1",
   "metadata": {},
   "outputs": [
    {
     "data": {
      "text/plain": [
       "DataFrame[InvoiceNo: string, StockCode: string, Description: string, Quantity: int, InvoiceDate: string, UnitPrice: double, CustomerID: double, Country: string, day_of_week: string, day_of_week_index: double, day_of_week_encoded: vector, features: vector]"
      ]
     },
     "execution_count": 35,
     "metadata": {},
     "output_type": "execute_result"
    }
   ],
   "source": [
    "transformedTraining.cache()"
   ]
  },
  {
   "cell_type": "code",
   "execution_count": 36,
   "id": "481f7173",
   "metadata": {},
   "outputs": [],
   "source": [
    "from pyspark.ml.clustering import KMeans\n",
    "kmeans = KMeans().setK(20)"
   ]
  },
  {
   "cell_type": "code",
   "execution_count": 37,
   "id": "f59e502d",
   "metadata": {},
   "outputs": [],
   "source": [
    "kmModel = kmeans.fit(transformedTraining)"
   ]
  },
  {
   "cell_type": "code",
   "execution_count": 38,
   "id": "1c48611f",
   "metadata": {},
   "outputs": [
    {
     "data": {
      "text/plain": [
       "DataFrame[_1: bigint]"
      ]
     },
     "execution_count": 38,
     "metadata": {},
     "output_type": "execute_result"
    }
   ],
   "source": [
    "# in Python\n",
    "from pyspark.sql import Row\n",
    "spark.sparkContext.parallelize([Row(1), Row(2), Row(3)]).toDF()"
   ]
  },
  {
   "cell_type": "code",
   "execution_count": 39,
   "id": "8e5c9631",
   "metadata": {},
   "outputs": [
    {
     "data": {
      "text/plain": [
       "[Row(id=0), Row(id=1)]"
      ]
     },
     "execution_count": 39,
     "metadata": {},
     "output_type": "execute_result"
    }
   ],
   "source": [
    "spark.range(2).collect()"
   ]
  },
  {
   "cell_type": "markdown",
   "id": "f0409534",
   "metadata": {},
   "source": [
    "# how we instantiate, or declare, a column to be of a certain type."
   ]
  },
  {
   "cell_type": "code",
   "execution_count": 40,
   "id": "044f0e91",
   "metadata": {},
   "outputs": [],
   "source": [
    "# To work with the correct Python types, use the following\n",
    "from pyspark.sql.types import *\n",
    "b = ByteType()"
   ]
  },
  {
   "cell_type": "markdown",
   "id": "4585fa7f",
   "metadata": {},
   "source": [
    "# Basic Structured Operations"
   ]
  },
  {
   "cell_type": "code",
   "execution_count": 41,
   "id": "88afc51f",
   "metadata": {},
   "outputs": [
    {
     "name": "stdout",
     "output_type": "stream",
     "text": [
      "root\n",
      " |-- DEST_COUNTRY_NAME: string (nullable = true)\n",
      " |-- ORIGIN_COUNTRY_NAME: string (nullable = true)\n",
      " |-- count: long (nullable = true)\n",
      "\n"
     ]
    }
   ],
   "source": [
    "df = spark.read.format(\"json\")\\\n",
    "    .load(r\"C:\\Users\\Admin\\Documents\\spark\\Spark-The-Definitive-Guide-master\\data\\flight-data\\json\\2015-summary.json\")\n",
    "df.printSchema()"
   ]
  },
  {
   "cell_type": "code",
   "execution_count": 42,
   "id": "78683c8b",
   "metadata": {},
   "outputs": [
    {
     "data": {
      "text/plain": [
       "StructType(List(StructField(DEST_COUNTRY_NAME,StringType,true),StructField(ORIGIN_COUNTRY_NAME,StringType,true),StructField(count,LongType,true)))"
      ]
     },
     "execution_count": 42,
     "metadata": {},
     "output_type": "execute_result"
    }
   ],
   "source": [
    "spark.read.format(\"json\")\\\n",
    "    .load(r\"C:\\Users\\Admin\\Documents\\spark\\Spark-The-Definitive-Guide-master\\data\\flight-data\\json\\2015-summary.json\")\\\n",
    "    .schema"
   ]
  },
  {
   "cell_type": "markdown",
   "id": "e29e1a42",
   "metadata": {},
   "source": [
    "# Enforce Schema in Spark "
   ]
  },
  {
   "cell_type": "code",
   "execution_count": 43,
   "id": "f26fb6d7",
   "metadata": {},
   "outputs": [],
   "source": [
    "from pyspark.sql.types import StructField, StructType, StringType, LongType\n",
    "\n",
    "myManualSchema = StructType([\n",
    "    StructField(\"DEST_COUNTRY_NAME\",StringType(),True),\n",
    "    StructField(\"ORIGIN_COUNTRY_NAME\",StringType(),True),\n",
    "    StructField(\"count\",LongType(),False,metadata={\"hello\":\"world\"})\n",
    "])\n",
    "df = spark.read.format(\"json\")\\\n",
    "    .schema(myManualSchema)\\\n",
    "    .load(r\"C:\\Users\\Admin\\Documents\\spark\\Spark-The-Definitive-Guide-master\\data\\flight-data\\json\\2015-summary.json\")"
   ]
  },
  {
   "cell_type": "code",
   "execution_count": 44,
   "id": "a5db008c",
   "metadata": {},
   "outputs": [
    {
     "name": "stdout",
     "output_type": "stream",
     "text": [
      "+--------------------+-------------------+-----+\n",
      "|   DEST_COUNTRY_NAME|ORIGIN_COUNTRY_NAME|count|\n",
      "+--------------------+-------------------+-----+\n",
      "|       United States|            Romania|   15|\n",
      "|       United States|            Croatia|    1|\n",
      "|       United States|            Ireland|  344|\n",
      "|               Egypt|      United States|   15|\n",
      "|       United States|              India|   62|\n",
      "|       United States|          Singapore|    1|\n",
      "|       United States|            Grenada|   62|\n",
      "|          Costa Rica|      United States|  588|\n",
      "|             Senegal|      United States|   40|\n",
      "|             Moldova|      United States|    1|\n",
      "|       United States|       Sint Maarten|  325|\n",
      "|       United States|   Marshall Islands|   39|\n",
      "|              Guyana|      United States|   64|\n",
      "|               Malta|      United States|    1|\n",
      "|            Anguilla|      United States|   41|\n",
      "|             Bolivia|      United States|   30|\n",
      "|       United States|           Paraguay|    6|\n",
      "|             Algeria|      United States|    4|\n",
      "|Turks and Caicos ...|      United States|  230|\n",
      "|       United States|          Gibraltar|    1|\n",
      "+--------------------+-------------------+-----+\n",
      "only showing top 20 rows\n",
      "\n"
     ]
    }
   ],
   "source": [
    "df.show()"
   ]
  },
  {
   "cell_type": "markdown",
   "id": "2382dc37",
   "metadata": {},
   "source": [
    "# Creating Columns"
   ]
  },
  {
   "cell_type": "code",
   "execution_count": 45,
   "id": "8fe8375e",
   "metadata": {},
   "outputs": [
    {
     "data": {
      "text/plain": [
       "Column<b'someColumnName'>"
      ]
     },
     "execution_count": 45,
     "metadata": {},
     "output_type": "execute_result"
    }
   ],
   "source": [
    "from pyspark.sql.functions import col, column\n",
    "col(\"someColumnName\")\n",
    "column(\"someColumnName\")"
   ]
  },
  {
   "cell_type": "code",
   "execution_count": 46,
   "id": "8a4f707a",
   "metadata": {},
   "outputs": [
    {
     "data": {
      "text/plain": [
       "['DEST_COUNTRY_NAME', 'ORIGIN_COUNTRY_NAME', 'count']"
      ]
     },
     "execution_count": 46,
     "metadata": {},
     "output_type": "execute_result"
    }
   ],
   "source": [
    "# to see columns\n",
    "spark.read.format(\"json\")\\\n",
    "    .load(r\"C:\\Users\\Admin\\Documents\\spark\\Spark-The-Definitive-Guide-master\\data\\flight-data\\json\\2015-summary.json\")\\\n",
    "    .columns"
   ]
  },
  {
   "cell_type": "code",
   "execution_count": 47,
   "id": "704255b2",
   "metadata": {},
   "outputs": [
    {
     "data": {
      "text/plain": [
       "Row(DEST_COUNTRY_NAME='United States', ORIGIN_COUNTRY_NAME='Romania', count=15)"
      ]
     },
     "execution_count": 47,
     "metadata": {},
     "output_type": "execute_result"
    }
   ],
   "source": [
    "df.first()"
   ]
  },
  {
   "cell_type": "markdown",
   "id": "4f094e66",
   "metadata": {},
   "source": [
    "# Creating Rows"
   ]
  },
  {
   "cell_type": "code",
   "execution_count": 48,
   "id": "dcb96c5c",
   "metadata": {},
   "outputs": [
    {
     "data": {
      "text/plain": [
       "<Row('Hello', None, 1, False)>"
      ]
     },
     "execution_count": 48,
     "metadata": {},
     "output_type": "execute_result"
    }
   ],
   "source": [
    "from pyspark.sql import Row\n",
    "myRow = Row(\"Hello\", None, 1, False)\n",
    "myRow"
   ]
  },
  {
   "cell_type": "code",
   "execution_count": 49,
   "id": "330f1d3d",
   "metadata": {},
   "outputs": [
    {
     "name": "stdout",
     "output_type": "stream",
     "text": [
      "Hello\n",
      "1\n"
     ]
    }
   ],
   "source": [
    "print(myRow[0])\n",
    "print(myRow[2])"
   ]
  },
  {
   "cell_type": "code",
   "execution_count": 50,
   "id": "2613195d",
   "metadata": {},
   "outputs": [],
   "source": [
    "df.createOrReplaceTempView('dfTable')"
   ]
  },
  {
   "cell_type": "code",
   "execution_count": 51,
   "id": "3039b3a2",
   "metadata": {},
   "outputs": [
    {
     "name": "stdout",
     "output_type": "stream",
     "text": [
      "+-----+----+-----+\n",
      "| some| col|names|\n",
      "+-----+----+-----+\n",
      "|Hello|null|    1|\n",
      "+-----+----+-----+\n",
      "\n"
     ]
    }
   ],
   "source": [
    "# manually creating data frame\n",
    "from pyspark.sql import Row\n",
    "from pyspark.sql.types import StructField, StructType, StringType, LongType\n",
    "myManualSchema = StructType([\n",
    "StructField(\"some\", StringType(), True),\n",
    "StructField(\"col\", StringType(), True),\n",
    "StructField(\"names\", LongType(), False)\n",
    "])\n",
    "myRow = Row(\"Hello\", None, 1)\n",
    "myDf = spark.createDataFrame([myRow], myManualSchema)\n",
    "myDf.show()"
   ]
  },
  {
   "cell_type": "code",
   "execution_count": 52,
   "id": "bf974566",
   "metadata": {},
   "outputs": [
    {
     "name": "stdout",
     "output_type": "stream",
     "text": [
      "+-----------------+\n",
      "|DEST_COUNTRY_NAME|\n",
      "+-----------------+\n",
      "|    United States|\n",
      "|    United States|\n",
      "+-----------------+\n",
      "only showing top 2 rows\n",
      "\n"
     ]
    }
   ],
   "source": [
    "df.select(\"DEST_COUNTRY_NAME\").show(2)"
   ]
  },
  {
   "cell_type": "code",
   "execution_count": 53,
   "id": "521cb93a",
   "metadata": {},
   "outputs": [
    {
     "name": "stdout",
     "output_type": "stream",
     "text": [
      "+-----------------+-------------------+\n",
      "|DEST_COUNTRY_NAME|ORIGIN_COUNTRY_NAME|\n",
      "+-----------------+-------------------+\n",
      "|    United States|            Romania|\n",
      "|    United States|            Croatia|\n",
      "+-----------------+-------------------+\n",
      "only showing top 2 rows\n",
      "\n"
     ]
    }
   ],
   "source": [
    "df.select(\"DEST_COUNTRY_NAME\", \"ORIGIN_COUNTRY_NAME\").show(2)"
   ]
  },
  {
   "cell_type": "code",
   "execution_count": 54,
   "id": "37b505c3",
   "metadata": {},
   "outputs": [
    {
     "name": "stdout",
     "output_type": "stream",
     "text": [
      "+-----------------+-----------------+-----------------+\n",
      "|DEST_COUNTRY_NAME|DEST_COUNTRY_NAME|DEST_COUNTRY_NAME|\n",
      "+-----------------+-----------------+-----------------+\n",
      "|    United States|    United States|    United States|\n",
      "|    United States|    United States|    United States|\n",
      "+-----------------+-----------------+-----------------+\n",
      "only showing top 2 rows\n",
      "\n"
     ]
    }
   ],
   "source": [
    "from pyspark.sql.functions import expr, col, column\n",
    "df.select(\n",
    "expr(\"DEST_COUNTRY_NAME\"),\n",
    "col(\"DEST_COUNTRY_NAME\"),\n",
    "column(\"DEST_COUNTRY_NAME\"))\\\n",
    ".show(2)"
   ]
  },
  {
   "cell_type": "code",
   "execution_count": 55,
   "id": "37a7ee93",
   "metadata": {},
   "outputs": [
    {
     "data": {
      "text/plain": [
       "DataFrame[DEST_COUNTRY_NAME: string, DEST_COUNTRY_NAME: string]"
      ]
     },
     "execution_count": 55,
     "metadata": {},
     "output_type": "execute_result"
    }
   ],
   "source": [
    "# this will result in error you cannot select with string \n",
    "df.select(col(\"DEST_COUNTRY_NAME\"), \"DEST_COUNTRY_NAME\")"
   ]
  },
  {
   "cell_type": "code",
   "execution_count": 56,
   "id": "349ed61f",
   "metadata": {},
   "outputs": [
    {
     "name": "stdout",
     "output_type": "stream",
     "text": [
      "+-------------+\n",
      "|  destination|\n",
      "+-------------+\n",
      "|United States|\n",
      "|United States|\n",
      "+-------------+\n",
      "only showing top 2 rows\n",
      "\n"
     ]
    }
   ],
   "source": [
    "df.select(expr(\"DEST_COUNTRY_NAME AS destination\")).show(2)"
   ]
  },
  {
   "cell_type": "code",
   "execution_count": 57,
   "id": "ecdd767e",
   "metadata": {},
   "outputs": [
    {
     "name": "stdout",
     "output_type": "stream",
     "text": [
      "+-----------------+\n",
      "|DEST_COUNTRY_NAME|\n",
      "+-----------------+\n",
      "|    United States|\n",
      "|    United States|\n",
      "+-----------------+\n",
      "only showing top 2 rows\n",
      "\n"
     ]
    }
   ],
   "source": [
    "df.select(expr(\"DEST_COUNTRY_NAME as destination\").alias(\"DEST_COUNTRY_NAME\"))\\\n",
    ".show(2)"
   ]
  },
  {
   "cell_type": "code",
   "execution_count": 58,
   "id": "c86421f8",
   "metadata": {},
   "outputs": [
    {
     "name": "stdout",
     "output_type": "stream",
     "text": [
      "+-------------+-----------------+\n",
      "|newColumnName|DEST_COUNTRY_NAME|\n",
      "+-------------+-----------------+\n",
      "|United States|    United States|\n",
      "|United States|    United States|\n",
      "+-------------+-----------------+\n",
      "only showing top 2 rows\n",
      "\n"
     ]
    }
   ],
   "source": [
    "# to use select with expr\n",
    "df.selectExpr(\"DEST_COUNTRY_NAME as newColumnName\", \"DEST_COUNTRY_NAME\").show(2)"
   ]
  },
  {
   "cell_type": "code",
   "execution_count": 59,
   "id": "2d096bc6",
   "metadata": {},
   "outputs": [
    {
     "name": "stdout",
     "output_type": "stream",
     "text": [
      "+-----------------+-------------------+-----+-------------+\n",
      "|DEST_COUNTRY_NAME|ORIGIN_COUNTRY_NAME|count|withinCountry|\n",
      "+-----------------+-------------------+-----+-------------+\n",
      "|    United States|            Romania|   15|        false|\n",
      "|    United States|            Croatia|    1|        false|\n",
      "+-----------------+-------------------+-----+-------------+\n",
      "only showing top 2 rows\n",
      "\n"
     ]
    }
   ],
   "source": [
    "df.selectExpr(\n",
    "\"*\", # all original columns\n",
    "\"(DEST_COUNTRY_NAME = ORIGIN_COUNTRY_NAME) as withinCountry\")\\\n",
    ".show(2)"
   ]
  },
  {
   "cell_type": "code",
   "execution_count": 60,
   "id": "05a74a80",
   "metadata": {},
   "outputs": [
    {
     "name": "stdout",
     "output_type": "stream",
     "text": [
      "+-----------+---------------------------------+\n",
      "| avg(count)|count(DISTINCT DEST_COUNTRY_NAME)|\n",
      "+-----------+---------------------------------+\n",
      "|1770.765625|                              132|\n",
      "+-----------+---------------------------------+\n",
      "\n"
     ]
    }
   ],
   "source": [
    "df.selectExpr(\"avg(count)\", \"count(distinct(DEST_COUNTRY_NAME))\").show(2)\n",
    "# in sql\n",
    "# SELECT avg(count), count(distinct(DEST_COUNTRY_NAME)) FROM dfTable LIMIT 2"
   ]
  },
  {
   "cell_type": "code",
   "execution_count": 61,
   "id": "2a976b5b",
   "metadata": {},
   "outputs": [
    {
     "name": "stdout",
     "output_type": "stream",
     "text": [
      "+-----------------+-------------------+-----+---+\n",
      "|DEST_COUNTRY_NAME|ORIGIN_COUNTRY_NAME|count|One|\n",
      "+-----------------+-------------------+-----+---+\n",
      "|    United States|            Romania|   15|  1|\n",
      "|    United States|            Croatia|    1|  1|\n",
      "+-----------------+-------------------+-----+---+\n",
      "only showing top 2 rows\n",
      "\n"
     ]
    }
   ],
   "source": [
    "from pyspark.sql.functions import lit\n",
    "df.select(expr(\"*\"), lit(1).alias(\"One\")).show(2)\n",
    "#SELECT *, 1 as One FROM dfTable LIMIT 2"
   ]
  },
  {
   "cell_type": "markdown",
   "id": "8f67d97e",
   "metadata": {},
   "source": [
    "# Adding Columns"
   ]
  },
  {
   "cell_type": "code",
   "execution_count": 62,
   "id": "879ed4c5",
   "metadata": {},
   "outputs": [
    {
     "name": "stdout",
     "output_type": "stream",
     "text": [
      "+-----------------+-------------------+-----+---------+\n",
      "|DEST_COUNTRY_NAME|ORIGIN_COUNTRY_NAME|count|numberOne|\n",
      "+-----------------+-------------------+-----+---------+\n",
      "|    United States|            Romania|   15|        1|\n",
      "|    United States|            Croatia|    1|        1|\n",
      "+-----------------+-------------------+-----+---------+\n",
      "only showing top 2 rows\n",
      "\n"
     ]
    }
   ],
   "source": [
    "df.withColumn(\"numberOne\", lit(1)).show(2)\n",
    "# SELECT *, 1 as numberOne FROM dfTable LIMIT 2"
   ]
  },
  {
   "cell_type": "code",
   "execution_count": 63,
   "id": "b8d8e7f3",
   "metadata": {},
   "outputs": [
    {
     "name": "stdout",
     "output_type": "stream",
     "text": [
      "+-----------------+-------------------+-----+-------------+\n",
      "|DEST_COUNTRY_NAME|ORIGIN_COUNTRY_NAME|count|withinCountry|\n",
      "+-----------------+-------------------+-----+-------------+\n",
      "|    United States|            Romania|   15|        false|\n",
      "|    United States|            Croatia|    1|        false|\n",
      "+-----------------+-------------------+-----+-------------+\n",
      "only showing top 2 rows\n",
      "\n"
     ]
    }
   ],
   "source": [
    "df.withColumn(\"withinCountry\", expr(\"ORIGIN_COUNTRY_NAME == DEST_COUNTRY_NAME\"))\\\n",
    ".show(2)"
   ]
  },
  {
   "cell_type": "code",
   "execution_count": 64,
   "id": "ae6630c4",
   "metadata": {},
   "outputs": [
    {
     "data": {
      "text/plain": [
       "['DEST_COUNTRY_NAME', 'ORIGIN_COUNTRY_NAME', 'count', 'Destination']"
      ]
     },
     "execution_count": 64,
     "metadata": {},
     "output_type": "execute_result"
    }
   ],
   "source": [
    "df.withColumn(\"Destination\", expr(\"DEST_COUNTRY_NAME\")).columns"
   ]
  },
  {
   "cell_type": "markdown",
   "id": "81a1611d",
   "metadata": {},
   "source": [
    "# Renaming Columns"
   ]
  },
  {
   "cell_type": "code",
   "execution_count": 65,
   "id": "642b8222",
   "metadata": {},
   "outputs": [
    {
     "data": {
      "text/plain": [
       "['dest', 'ORIGIN_COUNTRY_NAME', 'count']"
      ]
     },
     "execution_count": 65,
     "metadata": {},
     "output_type": "execute_result"
    }
   ],
   "source": [
    "df.withColumnRenamed(\"DEST_COUNTRY_NAME\", \"dest\").columns"
   ]
  },
  {
   "cell_type": "code",
   "execution_count": 66,
   "id": "28b83f47",
   "metadata": {},
   "outputs": [],
   "source": [
    "dfWithLongColName = df.withColumn(\n",
    "\"This Long Column-Name\",\n",
    "expr(\"ORIGIN_COUNTRY_NAME\"))"
   ]
  },
  {
   "cell_type": "markdown",
   "id": "9e40878f",
   "metadata": {},
   "source": [
    "# Reserved Characters and Keywords"
   ]
  },
  {
   "cell_type": "code",
   "execution_count": 67,
   "id": "0bf51c19",
   "metadata": {},
   "outputs": [
    {
     "name": "stdout",
     "output_type": "stream",
     "text": [
      "+-----------------+-------------------+-----+---------------------+\n",
      "|DEST_COUNTRY_NAME|ORIGIN_COUNTRY_NAME|count|This Long Column-Name|\n",
      "+-----------------+-------------------+-----+---------------------+\n",
      "|    United States|            Romania|   15|              Romania|\n",
      "|    United States|            Croatia|    1|              Croatia|\n",
      "|    United States|            Ireland|  344|              Ireland|\n",
      "+-----------------+-------------------+-----+---------------------+\n",
      "only showing top 3 rows\n",
      "\n"
     ]
    }
   ],
   "source": [
    "\"\"\"\n",
    "One thing that you might come across is reserved characters like spaces or dashes in column\n",
    "names. Handling these means escaping column names appropriately. In Spark, we do this by\n",
    "using backtick (`) characters\n",
    "\"\"\"\n",
    "dfWithLongColName = df.withColumn(\n",
    "\"This Long Column-Name\",\n",
    "expr(\"ORIGIN_COUNTRY_NAME\"))\n",
    "\n",
    "dfWithLongColName.show(3)"
   ]
  },
  {
   "cell_type": "code",
   "execution_count": 68,
   "id": "3e8a5ec0",
   "metadata": {},
   "outputs": [
    {
     "name": "stdout",
     "output_type": "stream",
     "text": [
      "+---------------------+-------+\n",
      "|This Long Column-Name|new col|\n",
      "+---------------------+-------+\n",
      "|              Romania|Romania|\n",
      "|              Croatia|Croatia|\n",
      "+---------------------+-------+\n",
      "only showing top 2 rows\n",
      "\n"
     ]
    }
   ],
   "source": [
    "dfWithLongColName.selectExpr(\n",
    "\"`This Long Column-Name`\",\n",
    "\"`This Long Column-Name` as `new col`\")\\\n",
    ".show(2)"
   ]
  },
  {
   "cell_type": "code",
   "execution_count": 69,
   "id": "06881e45",
   "metadata": {},
   "outputs": [],
   "source": [
    "dfWithLongColName.createOrReplaceTempView(\"dfTableLong\")"
   ]
  },
  {
   "cell_type": "code",
   "execution_count": 70,
   "id": "c71cf14c",
   "metadata": {},
   "outputs": [
    {
     "data": {
      "text/plain": [
       "['This Long Column-Name']"
      ]
     },
     "execution_count": 70,
     "metadata": {},
     "output_type": "execute_result"
    }
   ],
   "source": [
    "dfWithLongColName.select(expr(\"`This Long Column-Name`\")).columns"
   ]
  },
  {
   "cell_type": "markdown",
   "id": "9bf8a13d",
   "metadata": {},
   "source": [
    "# Removing Columns"
   ]
  },
  {
   "cell_type": "code",
   "execution_count": 71,
   "id": "6b1dbfac",
   "metadata": {},
   "outputs": [
    {
     "data": {
      "text/plain": [
       "['DEST_COUNTRY_NAME', 'count']"
      ]
     },
     "execution_count": 71,
     "metadata": {},
     "output_type": "execute_result"
    }
   ],
   "source": [
    "df.drop(\"ORIGIN_COUNTRY_NAME\").columns"
   ]
  },
  {
   "cell_type": "code",
   "execution_count": 72,
   "id": "59ae4e67",
   "metadata": {},
   "outputs": [
    {
     "data": {
      "text/plain": [
       "DataFrame[count: bigint, This Long Column-Name: string]"
      ]
     },
     "execution_count": 72,
     "metadata": {},
     "output_type": "execute_result"
    }
   ],
   "source": [
    "dfWithLongColName.drop(\"ORIGIN_COUNTRY_NAME\", \"DEST_COUNTRY_NAME\")"
   ]
  },
  {
   "cell_type": "markdown",
   "id": "e500d7a5",
   "metadata": {},
   "source": [
    "# Changing a Column’s Type (cast)"
   ]
  },
  {
   "cell_type": "code",
   "execution_count": 73,
   "id": "af14de15",
   "metadata": {},
   "outputs": [
    {
     "data": {
      "text/plain": [
       "DataFrame[DEST_COUNTRY_NAME: string, ORIGIN_COUNTRY_NAME: string, count: bigint, count2: bigint]"
      ]
     },
     "execution_count": 73,
     "metadata": {},
     "output_type": "execute_result"
    }
   ],
   "source": [
    "df.withColumn(\"count2\", col(\"count\").cast(\"long\"))\n",
    "# SELECT *, cast(count as long) AS count2 FROM dfTable"
   ]
  },
  {
   "cell_type": "markdown",
   "id": "c45f4357",
   "metadata": {},
   "source": [
    "# Filtering Rows"
   ]
  },
  {
   "cell_type": "code",
   "execution_count": 74,
   "id": "53face4d",
   "metadata": {},
   "outputs": [
    {
     "name": "stdout",
     "output_type": "stream",
     "text": [
      "+-----------------+-------------------+-----+\n",
      "|DEST_COUNTRY_NAME|ORIGIN_COUNTRY_NAME|count|\n",
      "+-----------------+-------------------+-----+\n",
      "|    United States|            Croatia|    1|\n",
      "|    United States|          Singapore|    1|\n",
      "+-----------------+-------------------+-----+\n",
      "only showing top 2 rows\n",
      "\n"
     ]
    }
   ],
   "source": [
    "df.filter(col(\"count\") < 2).show(2)"
   ]
  },
  {
   "cell_type": "code",
   "execution_count": 75,
   "id": "33ec7ea4",
   "metadata": {},
   "outputs": [
    {
     "name": "stdout",
     "output_type": "stream",
     "text": [
      "+-----------------+-------------------+-----+\n",
      "|DEST_COUNTRY_NAME|ORIGIN_COUNTRY_NAME|count|\n",
      "+-----------------+-------------------+-----+\n",
      "|    United States|            Croatia|    1|\n",
      "|    United States|          Singapore|    1|\n",
      "+-----------------+-------------------+-----+\n",
      "only showing top 2 rows\n",
      "\n"
     ]
    }
   ],
   "source": [
    "df.where(\"count < 2\").show(2)\n",
    "# SELECT * FROM dfTable WHERE count < 2 LIMIT 2"
   ]
  },
  {
   "cell_type": "code",
   "execution_count": 76,
   "id": "cd29a0ca",
   "metadata": {},
   "outputs": [
    {
     "name": "stdout",
     "output_type": "stream",
     "text": [
      "+-----------------+-------------------+-----+\n",
      "|DEST_COUNTRY_NAME|ORIGIN_COUNTRY_NAME|count|\n",
      "+-----------------+-------------------+-----+\n",
      "|    United States|          Singapore|    1|\n",
      "|          Moldova|      United States|    1|\n",
      "+-----------------+-------------------+-----+\n",
      "only showing top 2 rows\n",
      "\n"
     ]
    }
   ],
   "source": [
    "df.where(col(\"count\") < 2).where(col(\"ORIGIN_COUNTRY_NAME\") != \"Croatia\")\\\n",
    ".show(2)\n",
    "# SELECT * FROM dfTable WHERE count < 2 AND ORIGIN_COUNTRY_NAME != \"Croatia\" LIMIT 2"
   ]
  },
  {
   "cell_type": "markdown",
   "id": "7cbac0fa",
   "metadata": {},
   "source": [
    "# Getting Unique Rows"
   ]
  },
  {
   "cell_type": "code",
   "execution_count": 77,
   "id": "b879d8b6",
   "metadata": {},
   "outputs": [
    {
     "data": {
      "text/plain": [
       "256"
      ]
     },
     "execution_count": 77,
     "metadata": {},
     "output_type": "execute_result"
    }
   ],
   "source": [
    "df.select(\"ORIGIN_COUNTRY_NAME\", \"DEST_COUNTRY_NAME\").distinct().count()\n",
    "# SELECT COUNT(DISTINCT(ORIGIN_COUNTRY_NAME, DEST_COUNTRY_NAME)) FROM dfTable"
   ]
  },
  {
   "cell_type": "code",
   "execution_count": 78,
   "id": "55a77c81",
   "metadata": {},
   "outputs": [
    {
     "data": {
      "text/plain": [
       "256"
      ]
     },
     "execution_count": 78,
     "metadata": {},
     "output_type": "execute_result"
    }
   ],
   "source": [
    "df.select(\"ORIGIN_COUNTRY_NAME\", \"DEST_COUNTRY_NAME\").count()"
   ]
  },
  {
   "cell_type": "code",
   "execution_count": 79,
   "id": "eb3a29e6",
   "metadata": {},
   "outputs": [
    {
     "data": {
      "text/plain": [
       "125"
      ]
     },
     "execution_count": 79,
     "metadata": {},
     "output_type": "execute_result"
    }
   ],
   "source": [
    "df.select(\"ORIGIN_COUNTRY_NAME\").distinct().count()\n",
    "# SELECT COUNT(DISTINCT ORIGIN_COUNTRY_NAME) FROM dfTable"
   ]
  },
  {
   "cell_type": "markdown",
   "id": "52ae6d06",
   "metadata": {},
   "source": [
    "# Random Samples"
   ]
  },
  {
   "cell_type": "code",
   "execution_count": 80,
   "id": "60a485e7",
   "metadata": {},
   "outputs": [
    {
     "data": {
      "text/plain": [
       "138"
      ]
     },
     "execution_count": 80,
     "metadata": {},
     "output_type": "execute_result"
    }
   ],
   "source": [
    "\"\"\"\n",
    "Sometimes, you might just want to sample some random records from your DataFrame. You can\n",
    "do this by using the sample method on a DataFrame, which makes it possible for you to specify\n",
    "a fraction of rows to extract from a DataFrame and whether you’d like to sample with or without\n",
    "replacement\n",
    "\"\"\"\n",
    "seed = 5\n",
    "withReplacement = False\n",
    "fraction = 0.5\n",
    "df.sample(withReplacement, fraction, seed).count()"
   ]
  },
  {
   "cell_type": "markdown",
   "id": "7a0490b9",
   "metadata": {},
   "source": [
    "# Random Splits"
   ]
  },
  {
   "cell_type": "code",
   "execution_count": 81,
   "id": "973cbf34",
   "metadata": {},
   "outputs": [
    {
     "data": {
      "text/plain": [
       "False"
      ]
     },
     "execution_count": 81,
     "metadata": {},
     "output_type": "execute_result"
    }
   ],
   "source": [
    "\"\"\"\n",
    "Random splits can be helpful when you need to break up your DataFrame into a random “splits”\n",
    "of the original DataFrame. This is often used with machine learning algorithms to create training,\n",
    "validation, and test sets. In this next example, we’ll split our DataFrame into two different\n",
    "DataFrames by setting the weights by which we will split the DataFrame (these are the\n",
    "arguments to the function). Because this method is designed to be randomized, we will also\n",
    "specify a seed (just replace seed with a number of your choosing in the code block). It’s\n",
    "important to note that if you don’t specify a proportion for each DataFrame that adds up to one,\n",
    "they will be normalized so that they do\n",
    "\"\"\"\n",
    "dataFrames = df.randomSplit([0.25, 0.75], seed)\n",
    "dataFrames[0].count() > dataFrames[1].count() # False"
   ]
  },
  {
   "cell_type": "code",
   "execution_count": 82,
   "id": "423abf2e",
   "metadata": {},
   "outputs": [
    {
     "data": {
      "text/plain": [
       "2"
      ]
     },
     "execution_count": 82,
     "metadata": {},
     "output_type": "execute_result"
    }
   ],
   "source": [
    "len(dataFrames)"
   ]
  },
  {
   "cell_type": "markdown",
   "id": "1ea7e03a",
   "metadata": {},
   "source": [
    "# Concatenating and Appending Rows (Union)"
   ]
  },
  {
   "cell_type": "code",
   "execution_count": 83,
   "id": "69e61b1f",
   "metadata": {},
   "outputs": [
    {
     "name": "stdout",
     "output_type": "stream",
     "text": [
      "+-----------------+-------------------+-----+\n",
      "|DEST_COUNTRY_NAME|ORIGIN_COUNTRY_NAME|count|\n",
      "+-----------------+-------------------+-----+\n",
      "|    United States|            Croatia|    1|\n",
      "|    United States|          Singapore|    1|\n",
      "|    United States|          Gibraltar|    1|\n",
      "|    United States|             Cyprus|    1|\n",
      "|    United States|            Estonia|    1|\n",
      "|    United States|          Lithuania|    1|\n",
      "|    United States|           Bulgaria|    1|\n",
      "|    United States|            Georgia|    1|\n",
      "|    United States|            Bahrain|    1|\n",
      "|    United States|   Papua New Guinea|    1|\n",
      "|    United States|         Montenegro|    1|\n",
      "|    United States|            Namibia|    1|\n",
      "|    New Country 2|    Other Country 3|    1|\n",
      "+-----------------+-------------------+-----+\n",
      "\n"
     ]
    }
   ],
   "source": [
    "\"\"\"\n",
    "As you learned in the previous section, DataFrames are immutable. This means users cannot\n",
    "append to DataFrames because that would be changing it. To append to a DataFrame, you must\n",
    "union the original DataFrame along with the new DataFrame. This just concatenates the two\n",
    "DataFramess. To union two DataFrames, you must be sure that they have the same schema and\n",
    "number of columns; otherwise, the union will fail.\n",
    "\"\"\"\n",
    "from pyspark.sql import Row\n",
    "schema = df.schema\n",
    "newRows = [\n",
    "Row(\"New Country\", \"Other Country\", 5),\n",
    "Row(\"New Country 2\", \"Other Country 3\", 1)\n",
    "]\n",
    "parallelizedRows = spark.sparkContext.parallelize(newRows)\n",
    "newDF = spark.createDataFrame(parallelizedRows, schema)\n",
    "# in Python\n",
    "df.union(newDF)\\\n",
    ".where(\"count = 1\")\\\n",
    ".where(col(\"ORIGIN_COUNTRY_NAME\") != \"United States\")\\\n",
    ".show()"
   ]
  },
  {
   "cell_type": "code",
   "execution_count": 84,
   "id": "75c0f05e",
   "metadata": {},
   "outputs": [
    {
     "name": "stdout",
     "output_type": "stream",
     "text": [
      "+-----------------+-------------------+-----+\n",
      "|DEST_COUNTRY_NAME|ORIGIN_COUNTRY_NAME|count|\n",
      "+-----------------+-------------------+-----+\n",
      "+-----------------+-------------------+-----+\n",
      "\n"
     ]
    }
   ],
   "source": [
    "df.where(col(\"DEST_COUNTRY_NAME\")==\"New Country 2\").show()"
   ]
  },
  {
   "cell_type": "markdown",
   "id": "b3c67a15",
   "metadata": {},
   "source": [
    "# Sorting Rows"
   ]
  },
  {
   "cell_type": "code",
   "execution_count": 85,
   "id": "48973dab",
   "metadata": {},
   "outputs": [
    {
     "name": "stdout",
     "output_type": "stream",
     "text": [
      "+--------------------+-------------------+-----+\n",
      "|   DEST_COUNTRY_NAME|ORIGIN_COUNTRY_NAME|count|\n",
      "+--------------------+-------------------+-----+\n",
      "|               Malta|      United States|    1|\n",
      "|Saint Vincent and...|      United States|    1|\n",
      "|       United States|            Croatia|    1|\n",
      "|       United States|          Gibraltar|    1|\n",
      "|       United States|          Singapore|    1|\n",
      "+--------------------+-------------------+-----+\n",
      "only showing top 5 rows\n",
      "\n"
     ]
    }
   ],
   "source": [
    "df.sort(\"count\").show(5)"
   ]
  },
  {
   "cell_type": "code",
   "execution_count": 86,
   "id": "3428930e",
   "metadata": {},
   "outputs": [
    {
     "name": "stdout",
     "output_type": "stream",
     "text": [
      "+-----------------+-------------------+-----+\n",
      "|DEST_COUNTRY_NAME|ORIGIN_COUNTRY_NAME|count|\n",
      "+-----------------+-------------------+-----+\n",
      "|     Burkina Faso|      United States|    1|\n",
      "|    Cote d'Ivoire|      United States|    1|\n",
      "|           Cyprus|      United States|    1|\n",
      "|         Djibouti|      United States|    1|\n",
      "|        Indonesia|      United States|    1|\n",
      "+-----------------+-------------------+-----+\n",
      "only showing top 5 rows\n",
      "\n"
     ]
    }
   ],
   "source": [
    "df.orderBy(\"count\", \"DEST_COUNTRY_NAME\").show(5)"
   ]
  },
  {
   "cell_type": "code",
   "execution_count": 87,
   "id": "c4e09e05",
   "metadata": {},
   "outputs": [
    {
     "name": "stdout",
     "output_type": "stream",
     "text": [
      "+-----------------+-------------------+-----+\n",
      "|DEST_COUNTRY_NAME|ORIGIN_COUNTRY_NAME|count|\n",
      "+-----------------+-------------------+-----+\n",
      "|     Burkina Faso|      United States|    1|\n",
      "|    Cote d'Ivoire|      United States|    1|\n",
      "|           Cyprus|      United States|    1|\n",
      "|         Djibouti|      United States|    1|\n",
      "|        Indonesia|      United States|    1|\n",
      "+-----------------+-------------------+-----+\n",
      "only showing top 5 rows\n",
      "\n"
     ]
    }
   ],
   "source": [
    "df.orderBy(col(\"count\"), col(\"DEST_COUNTRY_NAME\")).show(5)"
   ]
  },
  {
   "cell_type": "code",
   "execution_count": 88,
   "id": "ac00a42b",
   "metadata": {},
   "outputs": [
    {
     "name": "stdout",
     "output_type": "stream",
     "text": [
      "+-----------------+-------------------+-----+\n",
      "|DEST_COUNTRY_NAME|ORIGIN_COUNTRY_NAME|count|\n",
      "+-----------------+-------------------+-----+\n",
      "|          Moldova|      United States|    1|\n",
      "|    United States|            Croatia|    1|\n",
      "+-----------------+-------------------+-----+\n",
      "only showing top 2 rows\n",
      "\n"
     ]
    }
   ],
   "source": [
    "from pyspark.sql.functions import desc, asc\n",
    "df.orderBy(expr(\"count desc\")).show(2)"
   ]
  },
  {
   "cell_type": "code",
   "execution_count": 89,
   "id": "ef311414",
   "metadata": {},
   "outputs": [
    {
     "name": "stdout",
     "output_type": "stream",
     "text": [
      "+-----------------+-------------------+------+\n",
      "|DEST_COUNTRY_NAME|ORIGIN_COUNTRY_NAME| count|\n",
      "+-----------------+-------------------+------+\n",
      "|    United States|      United States|370002|\n",
      "|    United States|             Canada|  8483|\n",
      "+-----------------+-------------------+------+\n",
      "only showing top 2 rows\n",
      "\n"
     ]
    }
   ],
   "source": [
    "df.orderBy(col(\"count\").desc(), col(\"DEST_COUNTRY_NAME\").asc()).show(2)\n",
    "# SELECT * FROM dfTable ORDER BY count DESC, DEST_COUNTRY_NAME ASC LIMIT 2"
   ]
  },
  {
   "cell_type": "code",
   "execution_count": 90,
   "id": "3d6f9203",
   "metadata": {},
   "outputs": [
    {
     "data": {
      "text/plain": [
       "DataFrame[DEST_COUNTRY_NAME: string, ORIGIN_COUNTRY_NAME: string, count: bigint]"
      ]
     },
     "execution_count": 90,
     "metadata": {},
     "output_type": "execute_result"
    }
   ],
   "source": [
    "\"\"\"\n",
    "An advanced tip is to use asc_nulls_first, desc_nulls_first, asc_nulls_last, or\n",
    "desc_nulls_last to specify where you would like your null values to appear in an ordered\n",
    "DataFrame.\n",
    "\"\"\"\n",
    "\"\"\"\n",
    "For optimization purposes, it’s sometimes advisable to sort within each partition before another\n",
    "set of transformations. You can use the sortWithinPartitions method to do this\n",
    "\"\"\"\n",
    "spark.read.format(\"json\")\\\n",
    ".load(r\"C:\\Users\\Admin\\Documents\\spark\\Spark-The-Definitive-Guide-master\\data\\flight-data\\json\\*-summary.json\")\\\n",
    ".sortWithinPartitions(\"count\")"
   ]
  },
  {
   "cell_type": "markdown",
   "id": "6805aec8",
   "metadata": {},
   "source": [
    "# Limit"
   ]
  },
  {
   "cell_type": "code",
   "execution_count": 91,
   "id": "fe692296",
   "metadata": {},
   "outputs": [
    {
     "name": "stdout",
     "output_type": "stream",
     "text": [
      "+-----------------+-------------------+-----+\n",
      "|DEST_COUNTRY_NAME|ORIGIN_COUNTRY_NAME|count|\n",
      "+-----------------+-------------------+-----+\n",
      "|    United States|            Romania|   15|\n",
      "|    United States|            Croatia|    1|\n",
      "|    United States|            Ireland|  344|\n",
      "|            Egypt|      United States|   15|\n",
      "|    United States|              India|   62|\n",
      "+-----------------+-------------------+-----+\n",
      "\n"
     ]
    }
   ],
   "source": [
    "df.limit(5).show()\n",
    "# SELECT * FROM dfTable LIMIT 6"
   ]
  },
  {
   "cell_type": "code",
   "execution_count": 92,
   "id": "519eed34",
   "metadata": {},
   "outputs": [
    {
     "name": "stdout",
     "output_type": "stream",
     "text": [
      "+--------------------+-------------------+-----+\n",
      "|   DEST_COUNTRY_NAME|ORIGIN_COUNTRY_NAME|count|\n",
      "+--------------------+-------------------+-----+\n",
      "|               Malta|      United States|    1|\n",
      "|Saint Vincent and...|      United States|    1|\n",
      "|       United States|            Croatia|    1|\n",
      "|       United States|          Gibraltar|    1|\n",
      "|       United States|          Singapore|    1|\n",
      "|             Moldova|      United States|    1|\n",
      "+--------------------+-------------------+-----+\n",
      "\n"
     ]
    }
   ],
   "source": [
    "df.orderBy(expr(\"count desc\")).limit(6).show()\n",
    "# SELECT * FROM dfTable ORDER BY count desc LIMIT 6"
   ]
  },
  {
   "cell_type": "markdown",
   "id": "b67af00c",
   "metadata": {},
   "source": [
    "# Repartition and Coalesce"
   ]
  },
  {
   "cell_type": "code",
   "execution_count": 93,
   "id": "5a5a7a8e",
   "metadata": {},
   "outputs": [
    {
     "data": {
      "text/plain": [
       "1"
      ]
     },
     "execution_count": 93,
     "metadata": {},
     "output_type": "execute_result"
    }
   ],
   "source": [
    "df.rdd.getNumPartitions() # 1"
   ]
  },
  {
   "cell_type": "code",
   "execution_count": 94,
   "id": "8fcae8af",
   "metadata": {},
   "outputs": [
    {
     "data": {
      "text/plain": [
       "DataFrame[DEST_COUNTRY_NAME: string, ORIGIN_COUNTRY_NAME: string, count: bigint]"
      ]
     },
     "execution_count": 94,
     "metadata": {},
     "output_type": "execute_result"
    }
   ],
   "source": [
    "df.repartition(5)"
   ]
  },
  {
   "cell_type": "code",
   "execution_count": 95,
   "id": "12b406c1",
   "metadata": {},
   "outputs": [
    {
     "data": {
      "text/plain": [
       "DataFrame[DEST_COUNTRY_NAME: string, ORIGIN_COUNTRY_NAME: string, count: bigint]"
      ]
     },
     "execution_count": 95,
     "metadata": {},
     "output_type": "execute_result"
    }
   ],
   "source": [
    "\"\"\"\n",
    "If you know that you’re going to be filtering by a certain column often, it can be worth\n",
    "repartitioning based on that column:\n",
    "\"\"\"\n",
    "df.repartition(col(\"DEST_COUNTRY_NAME\"))"
   ]
  },
  {
   "cell_type": "code",
   "execution_count": 96,
   "id": "91ee73f4",
   "metadata": {},
   "outputs": [
    {
     "data": {
      "text/plain": [
       "DataFrame[DEST_COUNTRY_NAME: string, ORIGIN_COUNTRY_NAME: string, count: bigint]"
      ]
     },
     "execution_count": 96,
     "metadata": {},
     "output_type": "execute_result"
    }
   ],
   "source": [
    "\"\"\"\n",
    "You can optionally specify the number of partitions you would like, too:\n",
    "\"\"\"\n",
    "df.repartition(5, col(\"DEST_COUNTRY_NAME\"))"
   ]
  },
  {
   "cell_type": "code",
   "execution_count": 97,
   "id": "f62730d2",
   "metadata": {},
   "outputs": [
    {
     "data": {
      "text/plain": [
       "DataFrame[DEST_COUNTRY_NAME: string, ORIGIN_COUNTRY_NAME: string, count: bigint]"
      ]
     },
     "execution_count": 97,
     "metadata": {},
     "output_type": "execute_result"
    }
   ],
   "source": [
    "\"\"\"\n",
    "Coalesce, on the other hand, will not incur a full shuffle and will try to combine partitions. This\n",
    "operation will shuffle your data into five partitions based on the destination country name, and\n",
    "then coalesce them (without a full shuffle):\n",
    "\"\"\"\n",
    "df.repartition(5, col(\"DEST_COUNTRY_NAME\")).coalesce(2)"
   ]
  },
  {
   "cell_type": "markdown",
   "id": "8591d5a6",
   "metadata": {},
   "source": [
    "# Collecting Rows to the Driver"
   ]
  },
  {
   "cell_type": "code",
   "execution_count": 98,
   "id": "d2b8cc90",
   "metadata": {},
   "outputs": [],
   "source": [
    "\"\"\"\n",
    "Spark maintains the state of the cluster in the driver. There are times when you’ll want to collect some of your data to the \n",
    "driver in order to manipulate it on your local machine.\n",
    "\n",
    "1-collect gets all data from the entire DataFrame.\n",
    "2-take selects the first N rows.\n",
    "3-show prints out a number of rows nicely.\n",
    "\"\"\"\n",
    "collectDF = df.limit(10)"
   ]
  },
  {
   "cell_type": "code",
   "execution_count": 99,
   "id": "9080ef93",
   "metadata": {},
   "outputs": [
    {
     "data": {
      "text/plain": [
       "[Row(DEST_COUNTRY_NAME='United States', ORIGIN_COUNTRY_NAME='Romania', count=15),\n",
       " Row(DEST_COUNTRY_NAME='United States', ORIGIN_COUNTRY_NAME='Croatia', count=1),\n",
       " Row(DEST_COUNTRY_NAME='United States', ORIGIN_COUNTRY_NAME='Ireland', count=344),\n",
       " Row(DEST_COUNTRY_NAME='Egypt', ORIGIN_COUNTRY_NAME='United States', count=15),\n",
       " Row(DEST_COUNTRY_NAME='United States', ORIGIN_COUNTRY_NAME='India', count=62)]"
      ]
     },
     "execution_count": 99,
     "metadata": {},
     "output_type": "execute_result"
    }
   ],
   "source": [
    "collectDF.take(5) # take works with an Integer count"
   ]
  },
  {
   "cell_type": "code",
   "execution_count": 100,
   "id": "0a260654",
   "metadata": {},
   "outputs": [
    {
     "name": "stdout",
     "output_type": "stream",
     "text": [
      "+-----------------+-------------------+-----+\n",
      "|DEST_COUNTRY_NAME|ORIGIN_COUNTRY_NAME|count|\n",
      "+-----------------+-------------------+-----+\n",
      "|United States    |Romania            |15   |\n",
      "|United States    |Croatia            |1    |\n",
      "|United States    |Ireland            |344  |\n",
      "|Egypt            |United States      |15   |\n",
      "|United States    |India              |62   |\n",
      "+-----------------+-------------------+-----+\n",
      "only showing top 5 rows\n",
      "\n"
     ]
    }
   ],
   "source": [
    "collectDF.show(5, False)"
   ]
  },
  {
   "cell_type": "code",
   "execution_count": 101,
   "id": "e189f6a5",
   "metadata": {},
   "outputs": [
    {
     "data": {
      "text/plain": [
       "[Row(DEST_COUNTRY_NAME='United States', ORIGIN_COUNTRY_NAME='Romania', count=15),\n",
       " Row(DEST_COUNTRY_NAME='United States', ORIGIN_COUNTRY_NAME='Croatia', count=1),\n",
       " Row(DEST_COUNTRY_NAME='United States', ORIGIN_COUNTRY_NAME='Ireland', count=344),\n",
       " Row(DEST_COUNTRY_NAME='Egypt', ORIGIN_COUNTRY_NAME='United States', count=15),\n",
       " Row(DEST_COUNTRY_NAME='United States', ORIGIN_COUNTRY_NAME='India', count=62),\n",
       " Row(DEST_COUNTRY_NAME='United States', ORIGIN_COUNTRY_NAME='Singapore', count=1),\n",
       " Row(DEST_COUNTRY_NAME='United States', ORIGIN_COUNTRY_NAME='Grenada', count=62),\n",
       " Row(DEST_COUNTRY_NAME='Costa Rica', ORIGIN_COUNTRY_NAME='United States', count=588),\n",
       " Row(DEST_COUNTRY_NAME='Senegal', ORIGIN_COUNTRY_NAME='United States', count=40),\n",
       " Row(DEST_COUNTRY_NAME='Moldova', ORIGIN_COUNTRY_NAME='United States', count=1)]"
      ]
     },
     "execution_count": 101,
     "metadata": {},
     "output_type": "execute_result"
    }
   ],
   "source": [
    "collectDF.collect()"
   ]
  },
  {
   "cell_type": "code",
   "execution_count": 102,
   "id": "45e640da",
   "metadata": {},
   "outputs": [
    {
     "data": {
      "text/plain": [
       "<generator object _local_iterator_from_socket.<locals>.PyLocalIterable.__iter__ at 0x000000000944FB30>"
      ]
     },
     "execution_count": 102,
     "metadata": {},
     "output_type": "execute_result"
    }
   ],
   "source": [
    "\"\"\"\n",
    "There’s an additional way of collecting rows to the driver in order to iterate over the entire\n",
    "dataset. The method toLocalIterator collects partitions to the driver as an iterator. This\n",
    "method allows you to iterate over the entire dataset partition-by-partition in a serial manner\n",
    "\"\"\"\n",
    "collectDF.toLocalIterator()"
   ]
  },
  {
   "cell_type": "markdown",
   "id": "3abff003",
   "metadata": {},
   "source": [
    "# Data Manipulation"
   ]
  },
  {
   "cell_type": "code",
   "execution_count": 103,
   "id": "c9270d70",
   "metadata": {},
   "outputs": [
    {
     "name": "stdout",
     "output_type": "stream",
     "text": [
      "root\n",
      " |-- InvoiceNo: string (nullable = true)\n",
      " |-- StockCode: string (nullable = true)\n",
      " |-- Description: string (nullable = true)\n",
      " |-- Quantity: integer (nullable = true)\n",
      " |-- InvoiceDate: string (nullable = true)\n",
      " |-- UnitPrice: double (nullable = true)\n",
      " |-- CustomerID: double (nullable = true)\n",
      " |-- Country: string (nullable = true)\n",
      "\n"
     ]
    }
   ],
   "source": [
    "df = spark.read.format(\"csv\")\\\n",
    ".option(\"header\", \"true\")\\\n",
    ".option(\"inferSchema\", \"true\")\\\n",
    ".load(r\"C:\\Users\\Admin\\Documents\\spark\\Spark-The-Definitive-Guide-master\\data\\retail-data\\by-day\\2010-12-01.csv\")\n",
    "df.printSchema()\n"
   ]
  },
  {
   "cell_type": "code",
   "execution_count": 104,
   "id": "84627cdb",
   "metadata": {},
   "outputs": [],
   "source": [
    "df.createOrReplaceTempView(\"dfTable\")"
   ]
  },
  {
   "cell_type": "markdown",
   "id": "086de16c",
   "metadata": {},
   "source": [
    "# Converting to Spark Types"
   ]
  },
  {
   "cell_type": "code",
   "execution_count": 105,
   "id": "51b81622",
   "metadata": {},
   "outputs": [
    {
     "data": {
      "text/plain": [
       "DataFrame[5: int, five: string, 5.0: double]"
      ]
     },
     "execution_count": 105,
     "metadata": {},
     "output_type": "execute_result"
    }
   ],
   "source": [
    "\"\"\"\n",
    "the lit function. This function converts a type in another language to its correspnding Spark representation.\n",
    "\n",
    "-- in SQL\n",
    "SELECT 5, \"five\", 5.0\n",
    "\"\"\"\n",
    "from pyspark.sql.functions import lit\n",
    "df.select(lit(5), lit(\"five\"), lit(5.0))"
   ]
  },
  {
   "cell_type": "markdown",
   "id": "b837f797",
   "metadata": {},
   "source": [
    "# Working with Booleans"
   ]
  },
  {
   "cell_type": "code",
   "execution_count": 106,
   "id": "b26a395a",
   "metadata": {},
   "outputs": [
    {
     "name": "stdout",
     "output_type": "stream",
     "text": [
      "+---------+-----------------------------+\n",
      "|InvoiceNo|Description                  |\n",
      "+---------+-----------------------------+\n",
      "|536366   |HAND WARMER UNION JACK       |\n",
      "|536366   |HAND WARMER RED POLKA DOT    |\n",
      "|536367   |ASSORTED COLOUR BIRD ORNAMENT|\n",
      "|536367   |POPPY'S PLAYHOUSE BEDROOM    |\n",
      "|536367   |POPPY'S PLAYHOUSE KITCHEN    |\n",
      "+---------+-----------------------------+\n",
      "only showing top 5 rows\n",
      "\n"
     ]
    }
   ],
   "source": [
    "\"\"\"\n",
    "Boolean statements consist of four elements: and, or, true, and false.\n",
    "\"\"\"\n",
    "from pyspark.sql.functions import col\n",
    "df.where(col(\"InvoiceNo\") != 536365)\\\n",
    ".select(\"InvoiceNo\", \"Description\")\\\n",
    ".show(5, False)"
   ]
  },
  {
   "cell_type": "code",
   "execution_count": 107,
   "id": "51c03f31",
   "metadata": {},
   "outputs": [
    {
     "name": "stdout",
     "output_type": "stream",
     "text": [
      "+---------+---------+-----------------------------------+--------+-------------------+---------+----------+--------------+\n",
      "|InvoiceNo|StockCode|Description                        |Quantity|InvoiceDate        |UnitPrice|CustomerID|Country       |\n",
      "+---------+---------+-----------------------------------+--------+-------------------+---------+----------+--------------+\n",
      "|536365   |85123A   |WHITE HANGING HEART T-LIGHT HOLDER |6       |2010-12-01 08:26:00|2.55     |17850.0   |United Kingdom|\n",
      "|536365   |71053    |WHITE METAL LANTERN                |6       |2010-12-01 08:26:00|3.39     |17850.0   |United Kingdom|\n",
      "|536365   |84406B   |CREAM CUPID HEARTS COAT HANGER     |8       |2010-12-01 08:26:00|2.75     |17850.0   |United Kingdom|\n",
      "|536365   |84029G   |KNITTED UNION FLAG HOT WATER BOTTLE|6       |2010-12-01 08:26:00|3.39     |17850.0   |United Kingdom|\n",
      "|536365   |84029E   |RED WOOLLY HOTTIE WHITE HEART.     |6       |2010-12-01 08:26:00|3.39     |17850.0   |United Kingdom|\n",
      "+---------+---------+-----------------------------------+--------+-------------------+---------+----------+--------------+\n",
      "only showing top 5 rows\n",
      "\n"
     ]
    }
   ],
   "source": [
    "\"\"\"\n",
    "Another option—and probably the cleanest—is to specify the predicate as an expression in a\n",
    "string. This is valid for Python or Scala. Note that this also gives you access to another way of\n",
    "expressing “does not equal”:\n",
    "\"\"\"\n",
    "df.where(\"InvoiceNo = 536365\").show(5, False)"
   ]
  },
  {
   "cell_type": "code",
   "execution_count": 108,
   "id": "0e5a5778",
   "metadata": {},
   "outputs": [
    {
     "name": "stdout",
     "output_type": "stream",
     "text": [
      "+---------+---------+-----------------------------+--------+-------------------+---------+----------+--------------+\n",
      "|InvoiceNo|StockCode|Description                  |Quantity|InvoiceDate        |UnitPrice|CustomerID|Country       |\n",
      "+---------+---------+-----------------------------+--------+-------------------+---------+----------+--------------+\n",
      "|536366   |22633    |HAND WARMER UNION JACK       |6       |2010-12-01 08:28:00|1.85     |17850.0   |United Kingdom|\n",
      "|536366   |22632    |HAND WARMER RED POLKA DOT    |6       |2010-12-01 08:28:00|1.85     |17850.0   |United Kingdom|\n",
      "|536367   |84879    |ASSORTED COLOUR BIRD ORNAMENT|32      |2010-12-01 08:34:00|1.69     |13047.0   |United Kingdom|\n",
      "|536367   |22745    |POPPY'S PLAYHOUSE BEDROOM    |6       |2010-12-01 08:34:00|2.1      |13047.0   |United Kingdom|\n",
      "|536367   |22748    |POPPY'S PLAYHOUSE KITCHEN    |6       |2010-12-01 08:34:00|2.1      |13047.0   |United Kingdom|\n",
      "+---------+---------+-----------------------------+--------+-------------------+---------+----------+--------------+\n",
      "only showing top 5 rows\n",
      "\n"
     ]
    }
   ],
   "source": [
    "df.where(\"InvoiceNo <> 536365\").show(5, False)"
   ]
  },
  {
   "cell_type": "code",
   "execution_count": 109,
   "id": "a0b6797e",
   "metadata": {},
   "outputs": [
    {
     "name": "stdout",
     "output_type": "stream",
     "text": [
      "+---------+---------+--------------+--------+-------------------+---------+----------+--------------+\n",
      "|InvoiceNo|StockCode|   Description|Quantity|        InvoiceDate|UnitPrice|CustomerID|       Country|\n",
      "+---------+---------+--------------+--------+-------------------+---------+----------+--------------+\n",
      "|   536544|      DOT|DOTCOM POSTAGE|       1|2010-12-01 14:32:00|   569.77|      null|United Kingdom|\n",
      "|   536592|      DOT|DOTCOM POSTAGE|       1|2010-12-01 17:06:00|   607.49|      null|United Kingdom|\n",
      "+---------+---------+--------------+--------+-------------------+---------+----------+--------------+\n",
      "\n"
     ]
    }
   ],
   "source": [
    "\"\"\"\n",
    "-- in SQL\n",
    "SELECT * FROM dfTable WHERE StockCode in (\"DOT\") AND(UnitPrice > 600 OR instr(Description, \"POSTAGE\") >= 1)\n",
    "\"\"\"\n",
    "from pyspark.sql.functions import instr\n",
    "priceFilter = col(\"UnitPrice\") > 600\n",
    "descripFilter = instr(df.Description, \"POSTAGE\") >= 1\n",
    "df.where(df.StockCode.isin(\"DOT\")).where(priceFilter | descripFilter).show()"
   ]
  },
  {
   "cell_type": "code",
   "execution_count": 110,
   "id": "dd6d25b8",
   "metadata": {},
   "outputs": [
    {
     "name": "stdout",
     "output_type": "stream",
     "text": [
      "+---------+-----------+\n",
      "|unitPrice|isExpensive|\n",
      "+---------+-----------+\n",
      "|   569.77|       true|\n",
      "|   607.49|       true|\n",
      "+---------+-----------+\n",
      "\n"
     ]
    }
   ],
   "source": [
    "\"\"\"\n",
    "-- in SQL\n",
    "SELECT UnitPrice, (StockCode = 'DOT' AND\n",
    "(UnitPrice > 600 OR instr(Description, \"POSTAGE\") >= 1)) as isExpensive\n",
    "FROM dfTable\n",
    "WHERE (StockCode = 'DOT' AND\n",
    "(UnitPrice > 600 OR instr(Description, \"POSTAGE\") >= 1))\n",
    "\"\"\"\n",
    "from pyspark.sql.functions import instr\n",
    "DOTCodeFilter = col(\"StockCode\") == \"DOT\"\n",
    "priceFilter = col(\"UnitPrice\") > 600\n",
    "descripFilter = instr(col(\"Description\"), \"POSTAGE\") >= 1\n",
    "df.withColumn(\"isExpensive\", DOTCodeFilter & (priceFilter | descripFilter))\\\n",
    ".where(\"isExpensive\")\\\n",
    ".select(\"unitPrice\", \"isExpensive\").show(5)"
   ]
  },
  {
   "cell_type": "code",
   "execution_count": 111,
   "id": "23ca9ea3",
   "metadata": {},
   "outputs": [
    {
     "name": "stdout",
     "output_type": "stream",
     "text": [
      "+--------------+---------+\n",
      "|   Description|UnitPrice|\n",
      "+--------------+---------+\n",
      "|DOTCOM POSTAGE|   569.77|\n",
      "|DOTCOM POSTAGE|   607.49|\n",
      "+--------------+---------+\n",
      "\n"
     ]
    }
   ],
   "source": [
    "# in Python\n",
    "from pyspark.sql.functions import expr\n",
    "df.withColumn(\"isExpensive\", expr(\"NOT UnitPrice <= 250\")).where(\"isExpensive\").select(\"Description\", \"UnitPrice\").show(5)"
   ]
  },
  {
   "cell_type": "code",
   "execution_count": 112,
   "id": "49d89a2f",
   "metadata": {},
   "outputs": [
    {
     "name": "stdout",
     "output_type": "stream",
     "text": [
      "+---------+---------+-----------+--------+-----------+---------+----------+-------+\n",
      "|InvoiceNo|StockCode|Description|Quantity|InvoiceDate|UnitPrice|CustomerID|Country|\n",
      "+---------+---------+-----------+--------+-----------+---------+----------+-------+\n",
      "+---------+---------+-----------+--------+-----------+---------+----------+-------+\n",
      "\n"
     ]
    }
   ],
   "source": [
    "\"\"\"\n",
    "One “gotcha” that can come up is if you’re working with null data when creating Boolean expressions.\n",
    "If there is a null in your data, you’ll need to treat things a bit differently. Here’s how you can ensure\n",
    "that you perform a null-safe equivalence test:\n",
    "\"\"\"\n",
    "\n",
    "df.where(col(\"Description\").eqNullSafe(\"hello\")).show()"
   ]
  },
  {
   "cell_type": "markdown",
   "id": "6797b0a0",
   "metadata": {},
   "source": [
    "# Working with Numbers"
   ]
  },
  {
   "cell_type": "code",
   "execution_count": 113,
   "id": "1a0de416",
   "metadata": {},
   "outputs": [
    {
     "name": "stdout",
     "output_type": "stream",
     "text": [
      "+----------+------------------+\n",
      "|CustomerId|      realQuantity|\n",
      "+----------+------------------+\n",
      "|   17850.0|239.08999999999997|\n",
      "|   17850.0|          418.7156|\n",
      "+----------+------------------+\n",
      "only showing top 2 rows\n",
      "\n"
     ]
    }
   ],
   "source": [
    "\"\"\"\n",
    "-- in SQL\n",
    "SELECT customerId, (POWER((Quantity * UnitPrice), 2.0) + 5) as realQuantity\n",
    "FROM dfTable\n",
    "\"\"\"\n",
    "# in Python\n",
    "from pyspark.sql.functions import expr, pow\n",
    "fabricatedQuantity = pow(col(\"Quantity\") * col(\"UnitPrice\"), 2) + 5\n",
    "df.select(expr(\"CustomerId\"), fabricatedQuantity.alias(\"realQuantity\")).show(2)"
   ]
  },
  {
   "cell_type": "code",
   "execution_count": 114,
   "id": "c60d2533",
   "metadata": {},
   "outputs": [
    {
     "name": "stdout",
     "output_type": "stream",
     "text": [
      "+----------+------------------+\n",
      "|CustomerId|      realQuantity|\n",
      "+----------+------------------+\n",
      "|   17850.0|239.08999999999997|\n",
      "|   17850.0|          418.7156|\n",
      "+----------+------------------+\n",
      "only showing top 2 rows\n",
      "\n"
     ]
    }
   ],
   "source": [
    "# in Python\n",
    "df.selectExpr(\n",
    "\"CustomerId\",\n",
    "\"(POWER((Quantity * UnitPrice), 2.0) + 5) as realQuantity\").show(2)"
   ]
  },
  {
   "cell_type": "code",
   "execution_count": 115,
   "id": "7797a810",
   "metadata": {},
   "outputs": [
    {
     "name": "stdout",
     "output_type": "stream",
     "text": [
      "+-------------+--------------+\n",
      "|round(2.5, 0)|bround(2.5, 0)|\n",
      "+-------------+--------------+\n",
      "|          3.0|           2.0|\n",
      "|          3.0|           2.0|\n",
      "+-------------+--------------+\n",
      "only showing top 2 rows\n",
      "\n"
     ]
    }
   ],
   "source": [
    "\"\"\"\n",
    "-- in SQL\n",
    "SELECT round(2.5), bround(2.5)\n",
    "\"\"\"\n",
    "# in Python\n",
    "from pyspark.sql.functions import lit, round, bround\n",
    "df.select(round(lit(\"2.5\")), bround(lit(\"2.5\"))).show(2)"
   ]
  },
  {
   "cell_type": "code",
   "execution_count": 116,
   "id": "b6b58228",
   "metadata": {},
   "outputs": [
    {
     "name": "stdout",
     "output_type": "stream",
     "text": [
      "+-------------------------+\n",
      "|corr(Quantity, UnitPrice)|\n",
      "+-------------------------+\n",
      "|     -0.04112314436835551|\n",
      "+-------------------------+\n",
      "\n"
     ]
    }
   ],
   "source": [
    "\"\"\"\n",
    "Another numerical task is to compute the correlation of two columns. For example, we can see\n",
    "the Pearson correlation coefficient for two columns to see if cheaper things are typically bought\n",
    "in greater quantities. We can do this through a function as well as through the DataFrame\n",
    "statistic methods:\n",
    "\n",
    "-- in SQL\n",
    "SELECT corr(Quantity, UnitPrice) FROM dfTable\n",
    "\"\"\"\n",
    "# in Python\n",
    "from pyspark.sql.functions import corr\n",
    "df.stat.corr(\"Quantity\", \"UnitPrice\")\n",
    "df.select(corr(\"Quantity\", \"UnitPrice\")).show()"
   ]
  },
  {
   "cell_type": "code",
   "execution_count": 117,
   "id": "e87f127c",
   "metadata": {},
   "outputs": [
    {
     "name": "stdout",
     "output_type": "stream",
     "text": [
      "+-------+-----------------+------------------+--------------------+------------------+-------------------+------------------+------------------+--------------+\n",
      "|summary|        InvoiceNo|         StockCode|         Description|          Quantity|        InvoiceDate|         UnitPrice|        CustomerID|       Country|\n",
      "+-------+-----------------+------------------+--------------------+------------------+-------------------+------------------+------------------+--------------+\n",
      "|  count|             3108|              3108|                3098|              3108|               3108|              3108|              1968|          3108|\n",
      "|   mean| 536516.684944841|27834.304044117645|                null| 8.627413127413128|               null| 4.151946589446603|15661.388719512195|          null|\n",
      "| stddev|72.89447869788873|17407.897548583845|                null|26.371821677029203|               null|15.638659854603892|1854.4496996893627|          null|\n",
      "|    min|           536365|             10002| 4 PURPLE FLOCK D...|               -24|2010-12-01 08:26:00|               0.0|           12431.0|     Australia|\n",
      "|    max|          C536548|              POST|ZINC WILLIE WINKI...|               600|2010-12-01 17:35:00|            607.49|           18229.0|United Kingdom|\n",
      "+-------+-----------------+------------------+--------------------+------------------+-------------------+------------------+------------------+--------------+\n",
      "\n"
     ]
    }
   ],
   "source": [
    "\"\"\"\n",
    "Another common task is to compute summary statistics for a column or set of columns. We can\n",
    "use the describe method to achieve exactly this.\n",
    "\"\"\"\n",
    "df.describe().show()"
   ]
  },
  {
   "cell_type": "code",
   "execution_count": 118,
   "id": "b6c36aec",
   "metadata": {},
   "outputs": [],
   "source": [
    "\"\"\"\n",
    "If you need these exact numbers, you can also perform this as an aggregation yourself by\n",
    "importing the functions and applying them to the columns that you need:\n",
    "\"\"\"\n",
    "# in Python\n",
    "from pyspark.sql.functions import count, mean, stddev_pop, min, max"
   ]
  },
  {
   "cell_type": "markdown",
   "id": "421c9d5b",
   "metadata": {},
   "source": [
    "# Quantiles"
   ]
  },
  {
   "cell_type": "code",
   "execution_count": 119,
   "id": "d30a010e",
   "metadata": {},
   "outputs": [
    {
     "data": {
      "text/plain": [
       "[2.51]"
      ]
     },
     "execution_count": 119,
     "metadata": {},
     "output_type": "execute_result"
    }
   ],
   "source": [
    "\"\"\"\n",
    "There are a number of statistical functions available in the StatFunctions Package (accessible\n",
    "using stat as we see in the code block below). These are DataFrame methods that you can use\n",
    "to calculate a variety of different things. For instance, you can calculate either exact or\n",
    "approximate quantiles of your data using the approxQuantile method:\n",
    "\"\"\"\n",
    "# in Python\n",
    "colName = \"UnitPrice\"\n",
    "quantileProbs = [0.5]\n",
    "relError = 0.05\n",
    "df.stat.approxQuantile(\"UnitPrice\", quantileProbs, relError) # 2.51"
   ]
  },
  {
   "cell_type": "markdown",
   "id": "57979e74",
   "metadata": {},
   "source": [
    "# Pivot"
   ]
  },
  {
   "cell_type": "code",
   "execution_count": 120,
   "id": "da6bb356",
   "metadata": {},
   "outputs": [
    {
     "name": "stdout",
     "output_type": "stream",
     "text": [
      "+------------------+---+---+---+---+---+---+---+---+---+---+---+---+---+---+---+---+---+---+---+---+---+---+---+---+---+---+---+---+---+---+---+---+---+---+---+---+---+---+---+---+---+---+---+---+---+---+---+---+---+---+---+---+---+---+---+---+---+---+---+---+---+---+---+---+---+---+\n",
      "|StockCode_Quantity| -1|-10|-12| -2|-24| -3| -4| -5| -6| -7|  1| 10|100| 11| 12|120|128| 13| 14|144| 15| 16| 17| 18| 19|192|  2| 20|200| 21|216| 22| 23| 24| 25|252| 27| 28|288|  3| 30| 32| 33| 34| 36|384|  4| 40|432| 47| 48|480|  5| 50| 56|  6| 60|600| 64|  7| 70| 72|  8| 80|  9| 96|\n",
      "+------------------+---+---+---+---+---+---+---+---+---+---+---+---+---+---+---+---+---+---+---+---+---+---+---+---+---+---+---+---+---+---+---+---+---+---+---+---+---+---+---+---+---+---+---+---+---+---+---+---+---+---+---+---+---+---+---+---+---+---+---+---+---+---+---+---+---+---+\n",
      "|             22578|  0|  0|  0|  0|  0|  0|  0|  0|  0|  0|  0|  0|  0|  0|  0|  0|  0|  0|  0|  0|  0|  0|  0|  0|  0|  0|  0|  0|  0|  0|  0|  0|  0|  1|  0|  0|  0|  0|  0|  0|  0|  0|  0|  0|  0|  0|  0|  0|  0|  0|  0|  0|  0|  0|  0|  0|  0|  0|  0|  0|  0|  0|  0|  0|  0|  0|\n",
      "+------------------+---+---+---+---+---+---+---+---+---+---+---+---+---+---+---+---+---+---+---+---+---+---+---+---+---+---+---+---+---+---+---+---+---+---+---+---+---+---+---+---+---+---+---+---+---+---+---+---+---+---+---+---+---+---+---+---+---+---+---+---+---+---+---+---+---+---+\n",
      "only showing top 1 row\n",
      "\n"
     ]
    }
   ],
   "source": [
    "df.stat.crosstab(\"StockCode\", \"Quantity\").show(1)"
   ]
  },
  {
   "cell_type": "code",
   "execution_count": 121,
   "id": "4eb7cf7c",
   "metadata": {},
   "outputs": [
    {
     "name": "stdout",
     "output_type": "stream",
     "text": [
      "+--------------------+--------------------+\n",
      "| StockCode_freqItems|  Quantity_freqItems|\n",
      "+--------------------+--------------------+\n",
      "|[90214E, 20728, 2...|[200, 128, 23, 32...|\n",
      "+--------------------+--------------------+\n",
      "\n"
     ]
    }
   ],
   "source": [
    "df.stat.freqItems([\"StockCode\", \"Quantity\"]).show()"
   ]
  },
  {
   "cell_type": "markdown",
   "id": "874e1e80",
   "metadata": {},
   "source": [
    "# monotonically_increasing_id"
   ]
  },
  {
   "cell_type": "code",
   "execution_count": 122,
   "id": "057e6ff6",
   "metadata": {},
   "outputs": [
    {
     "name": "stdout",
     "output_type": "stream",
     "text": [
      "+-----------------------------+\n",
      "|monotonically_increasing_id()|\n",
      "+-----------------------------+\n",
      "|                            0|\n",
      "|                            1|\n",
      "+-----------------------------+\n",
      "only showing top 2 rows\n",
      "\n"
     ]
    }
   ],
   "source": [
    "# in Python\n",
    "from pyspark.sql.functions import monotonically_increasing_id\n",
    "df.select(monotonically_increasing_id()).show(2)"
   ]
  },
  {
   "cell_type": "markdown",
   "id": "30716d4a",
   "metadata": {},
   "source": [
    "# Working with Strings"
   ]
  },
  {
   "cell_type": "code",
   "execution_count": 123,
   "id": "1f50a3a4",
   "metadata": {},
   "outputs": [
    {
     "name": "stdout",
     "output_type": "stream",
     "text": [
      "+--------------------+\n",
      "|initcap(Description)|\n",
      "+--------------------+\n",
      "|White Hanging Hea...|\n",
      "| White Metal Lantern|\n",
      "|Cream Cupid Heart...|\n",
      "|Knitted Union Fla...|\n",
      "|Red Woolly Hottie...|\n",
      "|Set 7 Babushka Ne...|\n",
      "|Glass Star Froste...|\n",
      "|Hand Warmer Union...|\n",
      "|Hand Warmer Red P...|\n",
      "|Assorted Colour B...|\n",
      "|Poppy's Playhouse...|\n",
      "|Poppy's Playhouse...|\n",
      "|Feltcraft Princes...|\n",
      "|Ivory Knitted Mug...|\n",
      "|Box Of 6 Assorted...|\n",
      "|Box Of Vintage Ji...|\n",
      "|Box Of Vintage Al...|\n",
      "|Home Building Blo...|\n",
      "|Love Building Blo...|\n",
      "|Recipe Box With M...|\n",
      "+--------------------+\n",
      "only showing top 20 rows\n",
      "\n"
     ]
    }
   ],
   "source": [
    "\"\"\"\n",
    "-- in SQL\n",
    "SELECT initcap(Description) FROM dfTable\n",
    "\"\"\"\n",
    "# in Python\n",
    "from pyspark.sql.functions import initcap\n",
    "df.select(initcap(col(\"Description\"))).show()"
   ]
  },
  {
   "cell_type": "code",
   "execution_count": 124,
   "id": "b28201dc",
   "metadata": {},
   "outputs": [
    {
     "name": "stdout",
     "output_type": "stream",
     "text": [
      "+--------------------+--------------------+-------------------------+\n",
      "|         Description|  lower(Description)|upper(lower(Description))|\n",
      "+--------------------+--------------------+-------------------------+\n",
      "|WHITE HANGING HEA...|white hanging hea...|     WHITE HANGING HEA...|\n",
      "| WHITE METAL LANTERN| white metal lantern|      WHITE METAL LANTERN|\n",
      "+--------------------+--------------------+-------------------------+\n",
      "only showing top 2 rows\n",
      "\n"
     ]
    }
   ],
   "source": [
    "\"\"\"\n",
    "-- in SQL\n",
    "SELECT Description, lower(Description), Upper(lower(Description)) FROM dfTable\n",
    "\"\"\"\n",
    "\n",
    "# in Python\n",
    "from pyspark.sql.functions import lower, upper\n",
    "df.select(col(\"Description\"),\n",
    "lower(col(\"Description\")),\n",
    "upper(lower(col(\"Description\")))).show(2)"
   ]
  },
  {
   "cell_type": "code",
   "execution_count": 125,
   "id": "ecde5e51",
   "metadata": {},
   "outputs": [
    {
     "name": "stdout",
     "output_type": "stream",
     "text": [
      "+------+------+-----+---+----------+\n",
      "| ltrim| rtrim| trim| lp|        rp|\n",
      "+------+------+-----+---+----------+\n",
      "|HELLO | HELLO|HELLO|HEL|HELLO     |\n",
      "|HELLO | HELLO|HELLO|HEL|HELLO     |\n",
      "+------+------+-----+---+----------+\n",
      "only showing top 2 rows\n",
      "\n"
     ]
    }
   ],
   "source": [
    "\"\"\"\n",
    "-- in SQL\n",
    "SELECT\n",
    "ltrim(' HELLLOOOO '),rtrim(' HELLLOOOO '),trim(' HELLLOOOO '),lpad('HELLOOOO ', 3, ' '),rpad('HELLOOOO ', 10, ' ')\n",
    "FROM dfTable\n",
    "\"\"\"\n",
    "# in Python\n",
    "from pyspark.sql.functions import lit, ltrim, rtrim, rpad, lpad, trim\n",
    "df.select(\n",
    "ltrim(lit(\" HELLO \")).alias(\"ltrim\"),\n",
    "rtrim(lit(\" HELLO \")).alias(\"rtrim\"),\n",
    "trim(lit(\" HELLO \")).alias(\"trim\"),\n",
    "lpad(lit(\"HELLO\"), 3, \" \").alias(\"lp\"),\n",
    "rpad(lit(\"HELLO\"), 10, \" \").alias(\"rp\")).show(2)"
   ]
  },
  {
   "cell_type": "markdown",
   "id": "af6544b2",
   "metadata": {},
   "source": [
    "# Regular Expressions"
   ]
  },
  {
   "cell_type": "code",
   "execution_count": 126,
   "id": "41c7e287",
   "metadata": {},
   "outputs": [
    {
     "name": "stdout",
     "output_type": "stream",
     "text": [
      "+--------------------+--------------------+\n",
      "|         color_clean|         Description|\n",
      "+--------------------+--------------------+\n",
      "|COLOR HANGING HEA...|WHITE HANGING HEA...|\n",
      "| COLOR METAL LANTERN| WHITE METAL LANTERN|\n",
      "+--------------------+--------------------+\n",
      "only showing top 2 rows\n",
      "\n"
     ]
    }
   ],
   "source": [
    "\"\"\"\n",
    "There are two key functions in Spark that you’ll need in\n",
    "order to perform regular expression tasks: regexp_extract and regexp_replace. These\n",
    "functions extract values and replace values, respectively.\n",
    "\n",
    "-- in SQL\n",
    "SELECT\n",
    "regexp_replace(Description, 'BLACK|WHITE|RED|GREEN|BLUE', 'COLOR') as color_clean, Description\n",
    "FROM dfTable\n",
    "\"\"\"\n",
    "# in Python\n",
    "from pyspark.sql.functions import regexp_replace\n",
    "regex_string = \"BLACK|WHITE|RED|GREEN|BLUE\"\n",
    "df.select(\n",
    "regexp_replace(col(\"Description\"), regex_string, \"COLOR\").alias(\"color_clean\"),\n",
    "col(\"Description\")).show(2)"
   ]
  },
  {
   "cell_type": "code",
   "execution_count": 127,
   "id": "003538e4",
   "metadata": {},
   "outputs": [
    {
     "name": "stdout",
     "output_type": "stream",
     "text": [
      "+----------------------------------+--------------------+\n",
      "|translate(Description, LEET, 1337)|         Description|\n",
      "+----------------------------------+--------------------+\n",
      "|              WHI73 HANGING H3A...|WHITE HANGING HEA...|\n",
      "|               WHI73 M37A1 1AN73RN| WHITE METAL LANTERN|\n",
      "+----------------------------------+--------------------+\n",
      "only showing top 2 rows\n",
      "\n"
     ]
    }
   ],
   "source": [
    "\"\"\"\n",
    "Another task might be to replace given characters with other characters. Building this as a\n",
    "regular expression could be tedious, so Spark also provides the translate function to replace these\n",
    "values. This is done at the character level and will replace all instances of a character with the\n",
    "indexed character in the replacement string:\n",
    "\n",
    "-- in SQL\n",
    "SELECT translate(Description, 'LEET', '1337'), Description FROM dfTable\n",
    "\"\"\"\n",
    "# in Python\n",
    "from pyspark.sql.functions import translate\n",
    "df.select(translate(col(\"Description\"), \"LEET\", \"1337\"),col(\"Description\")).show(2)"
   ]
  },
  {
   "cell_type": "code",
   "execution_count": 128,
   "id": "3b9e882f",
   "metadata": {},
   "outputs": [
    {
     "name": "stdout",
     "output_type": "stream",
     "text": [
      "+-----------+--------------------+\n",
      "|color_clean|         Description|\n",
      "+-----------+--------------------+\n",
      "|      WHITE|WHITE HANGING HEA...|\n",
      "|      WHITE| WHITE METAL LANTERN|\n",
      "|           |CREAM CUPID HEART...|\n",
      "|           |KNITTED UNION FLA...|\n",
      "|        RED|RED WOOLLY HOTTIE...|\n",
      "|           |SET 7 BABUSHKA NE...|\n",
      "|           |GLASS STAR FROSTE...|\n",
      "|           |HAND WARMER UNION...|\n",
      "|        RED|HAND WARMER RED P...|\n",
      "|           |ASSORTED COLOUR B...|\n",
      "|           |POPPY'S PLAYHOUSE...|\n",
      "|           |POPPY'S PLAYHOUSE...|\n",
      "|           |FELTCRAFT PRINCES...|\n",
      "|           |IVORY KNITTED MUG...|\n",
      "|           |BOX OF 6 ASSORTED...|\n",
      "|           |BOX OF VINTAGE JI...|\n",
      "|           |BOX OF VINTAGE AL...|\n",
      "|           |HOME BUILDING BLO...|\n",
      "|           |LOVE BUILDING BLO...|\n",
      "|           |RECIPE BOX WITH M...|\n",
      "+-----------+--------------------+\n",
      "only showing top 20 rows\n",
      "\n"
     ]
    }
   ],
   "source": [
    "\"\"\"\n",
    "We can also perform something similar, like pulling out the first mentioned color:\n",
    "-- in SQL\n",
    "SELECT regexp_extract(Description, '(BLACK|WHITE|RED|GREEN|BLUE)', 1),\n",
    "Description\n",
    "FROM dfTable\n",
    "\"\"\"\n",
    "from pyspark.sql.functions import regexp_extract\n",
    "extract_str = \"(BLACK|WHITE|RED|GREEN|BLUE)\"\n",
    "df.select(\n",
    "regexp_extract(col(\"Description\"), extract_str, 1).alias(\"color_clean\"),\n",
    "col(\"Description\")).show()"
   ]
  },
  {
   "cell_type": "code",
   "execution_count": 129,
   "id": "a25e3869",
   "metadata": {},
   "outputs": [
    {
     "name": "stdout",
     "output_type": "stream",
     "text": [
      "+----------------------------------+\n",
      "|Description                       |\n",
      "+----------------------------------+\n",
      "|WHITE HANGING HEART T-LIGHT HOLDER|\n",
      "|WHITE METAL LANTERN               |\n",
      "|RED WOOLLY HOTTIE WHITE HEART.    |\n",
      "+----------------------------------+\n",
      "only showing top 3 rows\n",
      "\n"
     ]
    }
   ],
   "source": [
    "\"\"\"\n",
    "Sometimes, rather than extracting values, we simply want to check for their existence. We can do\n",
    "this with the contains method on each column. This will return a Boolean declaring whether the\n",
    "value you specify is in the column’s string:\n",
    "\n",
    "-- in SQL\n",
    "SELECT Description FROM dfTable\n",
    "WHERE instr(Description, 'BLACK') >= 1 OR instr(Description, 'WHITE') >= 1\n",
    "\"\"\"\n",
    "# in Python\n",
    "from pyspark.sql.functions import instr\n",
    "containsBlack = instr(col(\"Description\"), \"BLACK\") >= 1\n",
    "containsWhite = instr(col(\"Description\"), \"WHITE\") >= 1\n",
    "df.withColumn(\"hasSimpleColor\", containsBlack | containsWhite)\\\n",
    ".where(\"hasSimpleColor\")\\\n",
    ".select(\"Description\").show(3, False)"
   ]
  },
  {
   "cell_type": "code",
   "execution_count": 130,
   "id": "5572b20a",
   "metadata": {},
   "outputs": [],
   "source": [
    "\"\"\"\n",
    "locate function locates the position of the first occurrence of substr in a string column, after position pos.\n",
    "\"\"\"\n",
    "# in Python\n",
    "from pyspark.sql.functions import expr, locate\n",
    "simpleColors = [\"black\", \"white\", \"red\", \"green\", \"blue\"]\n",
    "def color_locator(column, color_string):\n",
    "    return locate(color_string.upper(), column)\\\n",
    "    .cast(\"boolean\")\\\n",
    "    .alias(\"is_\" + color_string)"
   ]
  },
  {
   "cell_type": "code",
   "execution_count": 131,
   "id": "f28b17f9",
   "metadata": {},
   "outputs": [],
   "source": [
    "selectedColumns = [color_locator(df.Description, c) for c in simpleColors]\n",
    "selectedColumns.append(expr(\"*\")) # has to a be Column type"
   ]
  },
  {
   "cell_type": "code",
   "execution_count": 132,
   "id": "4d7e0e91",
   "metadata": {},
   "outputs": [
    {
     "name": "stdout",
     "output_type": "stream",
     "text": [
      "Column<b'CAST(locate(BLACK, Description, 1) AS BOOLEAN) AS `is_black`'>\n",
      "Column<b'CAST(locate(WHITE, Description, 1) AS BOOLEAN) AS `is_white`'>\n",
      "Column<b'CAST(locate(RED, Description, 1) AS BOOLEAN) AS `is_red`'>\n",
      "Column<b'CAST(locate(GREEN, Description, 1) AS BOOLEAN) AS `is_green`'>\n",
      "Column<b'CAST(locate(BLUE, Description, 1) AS BOOLEAN) AS `is_blue`'>\n",
      "Column<b'unresolvedstar()'>\n"
     ]
    }
   ],
   "source": [
    "for i in selectedColumns:\n",
    "    print(i)"
   ]
  },
  {
   "cell_type": "code",
   "execution_count": 133,
   "id": "67acb053",
   "metadata": {},
   "outputs": [
    {
     "name": "stdout",
     "output_type": "stream",
     "text": [
      "+----------------------------------+\n",
      "|Description                       |\n",
      "+----------------------------------+\n",
      "|WHITE HANGING HEART T-LIGHT HOLDER|\n",
      "|WHITE METAL LANTERN               |\n",
      "|RED WOOLLY HOTTIE WHITE HEART.    |\n",
      "+----------------------------------+\n",
      "only showing top 3 rows\n",
      "\n"
     ]
    }
   ],
   "source": [
    "df.select(*selectedColumns).where(expr(\"is_white OR is_red\"))\\\n",
    ".select(\"Description\").show(3, False)"
   ]
  },
  {
   "cell_type": "markdown",
   "id": "08fa868f",
   "metadata": {},
   "source": [
    "# Working with Dates and Timestamps"
   ]
  },
  {
   "cell_type": "code",
   "execution_count": 134,
   "id": "1e303093",
   "metadata": {},
   "outputs": [
    {
     "name": "stdout",
     "output_type": "stream",
     "text": [
      "+---+----------+--------------------+\n",
      "| id|     today|                 now|\n",
      "+---+----------+--------------------+\n",
      "|  0|2021-10-11|2021-10-11 17:28:...|\n",
      "|  1|2021-10-11|2021-10-11 17:28:...|\n",
      "|  2|2021-10-11|2021-10-11 17:28:...|\n",
      "|  3|2021-10-11|2021-10-11 17:28:...|\n",
      "|  4|2021-10-11|2021-10-11 17:28:...|\n",
      "+---+----------+--------------------+\n",
      "only showing top 5 rows\n",
      "\n"
     ]
    }
   ],
   "source": [
    "from pyspark.sql.functions import current_date, current_timestamp\n",
    "dateDF = spark.range(10)\\\n",
    ".withColumn(\"today\", current_date())\\\n",
    ".withColumn(\"now\", current_timestamp())\n",
    "\n",
    "dateDF.show(5)"
   ]
  },
  {
   "cell_type": "code",
   "execution_count": 135,
   "id": "527fd4dd",
   "metadata": {},
   "outputs": [
    {
     "name": "stdout",
     "output_type": "stream",
     "text": [
      "root\n",
      " |-- id: long (nullable = false)\n",
      " |-- today: date (nullable = false)\n",
      " |-- now: timestamp (nullable = false)\n",
      "\n"
     ]
    }
   ],
   "source": [
    "dateDF.createOrReplaceTempView(\"dateTable\")\n",
    "dateDF.printSchema()"
   ]
  },
  {
   "cell_type": "code",
   "execution_count": 136,
   "id": "91f3c83a",
   "metadata": {},
   "outputs": [
    {
     "name": "stdout",
     "output_type": "stream",
     "text": [
      "+----------+------------------+------------------+\n",
      "|     today|date_sub(today, 5)|date_add(today, 5)|\n",
      "+----------+------------------+------------------+\n",
      "|2021-10-11|        2021-10-06|        2021-10-16|\n",
      "+----------+------------------+------------------+\n",
      "only showing top 1 row\n",
      "\n"
     ]
    }
   ],
   "source": [
    "\"\"\"\n",
    "Now that we have a simple DataFrame to work with, let’s add and subtract five days from today.\n",
    "These functions take a column and then the number of days to either add or subtract as the\n",
    "arguments:\n",
    "\n",
    "-- in SQL\n",
    "SELECT date_sub(today, 5), date_add(today, 5) FROM dateTable\n",
    "\"\"\"\n",
    "# in Python\n",
    "from pyspark.sql.functions import date_add, date_sub\n",
    "dateDF.select(\"today\",date_sub(col(\"today\"), 5), date_add(col(\"today\"), 5)).show(1)"
   ]
  },
  {
   "cell_type": "code",
   "execution_count": 137,
   "id": "cd8a5800",
   "metadata": {},
   "outputs": [
    {
     "name": "stdout",
     "output_type": "stream",
     "text": [
      "+-------------------------+\n",
      "|datediff(week_ago, today)|\n",
      "+-------------------------+\n",
      "|                       -7|\n",
      "+-------------------------+\n",
      "only showing top 1 row\n",
      "\n"
     ]
    }
   ],
   "source": [
    "\"\"\"\n",
    "-- in SQL\n",
    "SELECT to_date('2016-01-01'), months_between('2016-01-01', '2017-01-01'),\n",
    "datediff('2016-01-01', '2017-01-01')\n",
    "FROM dateTable\n",
    "\"\"\"\n",
    "from pyspark.sql.functions import datediff, months_between, to_date\n",
    "dateDF.withColumn(\"week_ago\", date_sub(col(\"today\"), 7))\\\n",
    ".select(datediff(col(\"week_ago\"), col(\"today\"))).show(1)"
   ]
  },
  {
   "cell_type": "code",
   "execution_count": 138,
   "id": "a3eecd6a",
   "metadata": {},
   "outputs": [
    {
     "name": "stdout",
     "output_type": "stream",
     "text": [
      "+--------------------------------+\n",
      "|months_between(start, end, true)|\n",
      "+--------------------------------+\n",
      "|                    -16.67741935|\n",
      "+--------------------------------+\n",
      "only showing top 1 row\n",
      "\n"
     ]
    }
   ],
   "source": [
    "dateDF.select(\n",
    "to_date(lit(\"2016-01-01\")).alias(\"start\"),\n",
    "to_date(lit(\"2017-05-22\")).alias(\"end\"))\\\n",
    ".select(months_between(col(\"start\"), col(\"end\"))).show(1)"
   ]
  },
  {
   "cell_type": "code",
   "execution_count": 139,
   "id": "78036021",
   "metadata": {},
   "outputs": [
    {
     "name": "stdout",
     "output_type": "stream",
     "text": [
      "+---------------+\n",
      "|to_date(`date`)|\n",
      "+---------------+\n",
      "|     2017-01-01|\n",
      "+---------------+\n",
      "only showing top 1 row\n",
      "\n"
     ]
    }
   ],
   "source": [
    "\"\"\"\n",
    "Notice that we introduced a new function: the to_date function. The to_date function allows\n",
    "you to convert a string to a date, optionally with a specified format. We specify our format in the\n",
    "Java SimpleDateFormat which will be important to reference if you use this function:\n",
    "\"\"\"\n",
    "from pyspark.sql.functions import to_date, lit\n",
    "spark.range(5).withColumn(\"date\", lit(\"2017-01-01\"))\\\n",
    ".select(to_date(col(\"date\"))).show(1)"
   ]
  },
  {
   "cell_type": "code",
   "execution_count": 140,
   "id": "d039587a",
   "metadata": {},
   "outputs": [
    {
     "name": "stdout",
     "output_type": "stream",
     "text": [
      "+---------------------+---------------------+\n",
      "|to_date('2016-20-12')|to_date('2017-12-11')|\n",
      "+---------------------+---------------------+\n",
      "|                 null|           2017-12-11|\n",
      "+---------------------+---------------------+\n",
      "only showing top 1 row\n",
      "\n"
     ]
    }
   ],
   "source": [
    "\"\"\"\n",
    "Spark will not throw an error if it cannot parse the date; rather, it will just return null. This can\n",
    "be a bit tricky in larger pipelines because you might be expecting your data in one format and\n",
    "getting it in another\n",
    "\"\"\"\n",
    "dateDF.select(to_date(lit(\"2016-20-12\")),to_date(lit(\"2017-12-11\"))).show(1)"
   ]
  },
  {
   "cell_type": "code",
   "execution_count": 141,
   "id": "27557b32",
   "metadata": {},
   "outputs": [
    {
     "name": "stdout",
     "output_type": "stream",
     "text": [
      "+----------+----------+\n",
      "|      date|     date2|\n",
      "+----------+----------+\n",
      "|2017-11-12|2017-12-20|\n",
      "+----------+----------+\n",
      "\n"
     ]
    }
   ],
   "source": [
    "# its very very important to specifiy date format in spark because if you don't you can get bugs what become difficult to find\n",
    "# in Python\n",
    "\"\"\"\n",
    "-- in SQL\n",
    "SELECT to_date(date, 'yyyy-dd-MM'), to_date(date2, 'yyyy-dd-MM'), to_date(date)\n",
    "FROM dateTable2\n",
    "\"\"\"\n",
    "from pyspark.sql.functions import to_date\n",
    "dateFormat = \"yyyy-dd-MM\"\n",
    "cleanDateDF = spark.range(1).select(\n",
    "to_date(lit(\"2017-12-11\"), dateFormat).alias(\"date\"),\n",
    "to_date(lit(\"2017-20-12\"), dateFormat).alias(\"date2\"))\n",
    "\n",
    "cleanDateDF.show(5)"
   ]
  },
  {
   "cell_type": "code",
   "execution_count": 142,
   "id": "f9579ebf",
   "metadata": {},
   "outputs": [],
   "source": [
    "cleanDateDF.createOrReplaceTempView(\"dateTable2\")"
   ]
  },
  {
   "cell_type": "code",
   "execution_count": 143,
   "id": "b7ada616",
   "metadata": {},
   "outputs": [
    {
     "name": "stdout",
     "output_type": "stream",
     "text": [
      "+----------------------------------+\n",
      "|to_timestamp(`date`, 'yyyy-dd-MM')|\n",
      "+----------------------------------+\n",
      "|               2017-11-12 00:00:00|\n",
      "+----------------------------------+\n",
      "\n"
     ]
    }
   ],
   "source": [
    "\"\"\"to_timestamp, which always requires a format to be specified:\n",
    "-- in SQL\n",
    "SELECT to_timestamp(date, 'yyyy-dd-MM'), to_timestamp(date2, 'yyyy-dd-MM')\n",
    "FROM dateTable2\n",
    "\"\"\"\n",
    "# in Python\n",
    "from pyspark.sql.functions import to_timestamp\n",
    "cleanDateDF.select(to_timestamp(col(\"date\"), dateFormat)).show()"
   ]
  },
  {
   "cell_type": "code",
   "execution_count": 144,
   "id": "8a95e2c7",
   "metadata": {},
   "outputs": [
    {
     "name": "stdout",
     "output_type": "stream",
     "text": [
      "+----------+----------+\n",
      "|      date|     date2|\n",
      "+----------+----------+\n",
      "|2017-11-12|2017-12-20|\n",
      "+----------+----------+\n",
      "\n"
     ]
    }
   ],
   "source": [
    "\"\"\"\n",
    "After we have our date or timestamp in the correct format and type, comparing between them is\n",
    "actually quite easy. We just need to be sure to either use a date/timestamp type or specify our\n",
    "string according to the right format of yyyy-MM-dd if we’re comparing a date:\n",
    "\"\"\"\n",
    "cleanDateDF.filter(col(\"date2\") > lit(\"2017-12-12\")).show()"
   ]
  },
  {
   "cell_type": "code",
   "execution_count": 145,
   "id": "336b629b",
   "metadata": {},
   "outputs": [
    {
     "name": "stdout",
     "output_type": "stream",
     "text": [
      "+----+-----+\n",
      "|date|date2|\n",
      "+----+-----+\n",
      "+----+-----+\n",
      "\n"
     ]
    }
   ],
   "source": [
    "cleanDateDF.filter(col(\"date2\") > \"'2017-12-12'\").show()"
   ]
  },
  {
   "cell_type": "markdown",
   "id": "d2460552",
   "metadata": {},
   "source": [
    "# Working with Nulls in Data"
   ]
  },
  {
   "cell_type": "code",
   "execution_count": 146,
   "id": "184ede3b",
   "metadata": {},
   "outputs": [
    {
     "name": "stdout",
     "output_type": "stream",
     "text": [
      "+---------------------------------+\n",
      "|coalesce(Description, CustomerId)|\n",
      "+---------------------------------+\n",
      "|             WHITE HANGING HEA...|\n",
      "|              WHITE METAL LANTERN|\n",
      "|             CREAM CUPID HEART...|\n",
      "|             KNITTED UNION FLA...|\n",
      "|             RED WOOLLY HOTTIE...|\n",
      "|             SET 7 BABUSHKA NE...|\n",
      "|             GLASS STAR FROSTE...|\n",
      "|             HAND WARMER UNION...|\n",
      "|             HAND WARMER RED P...|\n",
      "|             ASSORTED COLOUR B...|\n",
      "|             POPPY'S PLAYHOUSE...|\n",
      "|             POPPY'S PLAYHOUSE...|\n",
      "|             FELTCRAFT PRINCES...|\n",
      "|             IVORY KNITTED MUG...|\n",
      "|             BOX OF 6 ASSORTED...|\n",
      "|             BOX OF VINTAGE JI...|\n",
      "|             BOX OF VINTAGE AL...|\n",
      "|             HOME BUILDING BLO...|\n",
      "|             LOVE BUILDING BLO...|\n",
      "|             RECIPE BOX WITH M...|\n",
      "+---------------------------------+\n",
      "only showing top 20 rows\n",
      "\n"
     ]
    }
   ],
   "source": [
    "# in Python\n",
    "from pyspark.sql.functions import coalesce\n",
    "df.select(coalesce(col(\"Description\"), col(\"CustomerId\"))).show()"
   ]
  },
  {
   "cell_type": "code",
   "execution_count": 147,
   "id": "a585cd0b",
   "metadata": {},
   "outputs": [
    {
     "data": {
      "text/plain": [
       "DataFrame[InvoiceNo: string, StockCode: string, Description: string, Quantity: int, InvoiceDate: string, UnitPrice: double, CustomerID: double, Country: string]"
      ]
     },
     "execution_count": 147,
     "metadata": {},
     "output_type": "execute_result"
    }
   ],
   "source": [
    "df.na.drop(\"all\", subset=[\"StockCode\", \"InvoiceNo\"])"
   ]
  },
  {
   "cell_type": "code",
   "execution_count": 148,
   "id": "a34dce1b",
   "metadata": {},
   "outputs": [
    {
     "data": {
      "text/plain": [
       "DataFrame[InvoiceNo: string, StockCode: string, Description: string, Quantity: int, InvoiceDate: string, UnitPrice: double, CustomerID: double, Country: string]"
      ]
     },
     "execution_count": 148,
     "metadata": {},
     "output_type": "execute_result"
    }
   ],
   "source": [
    "\"\"\"\n",
    "Using the fill function, you can fill one or more columns with a set of values. This can be done\n",
    "by specifying a map—that is a particular value and a set of columns.\n",
    "For example, to fill all null values in columns of type String, you might specify the following:\n",
    "\"\"\"\n",
    "df.na.fill(\"All Null values become this string\")"
   ]
  },
  {
   "cell_type": "code",
   "execution_count": 149,
   "id": "12f969ad",
   "metadata": {},
   "outputs": [
    {
     "data": {
      "text/plain": [
       "DataFrame[InvoiceNo: string, StockCode: string, Description: string, Quantity: int, InvoiceDate: string, UnitPrice: double, CustomerID: double, Country: string]"
      ]
     },
     "execution_count": 149,
     "metadata": {},
     "output_type": "execute_result"
    }
   ],
   "source": [
    "\"\"\"We could do the same for columns of type Integer by using df.na.fill(5:Integer), or for\n",
    "Doubles df.na.fill(5:Double). To specify columns, we just pass in an array of column names\n",
    "like we did in the previous example:\"\"\"\n",
    "# in Python\n",
    "df.na.fill(\"all\", subset=[\"StockCode\", \"InvoiceNo\"])"
   ]
  },
  {
   "cell_type": "code",
   "execution_count": 150,
   "id": "f81a1ff1",
   "metadata": {},
   "outputs": [
    {
     "data": {
      "text/plain": [
       "DataFrame[InvoiceNo: string, StockCode: string, Description: string, Quantity: int, InvoiceDate: string, UnitPrice: double, CustomerID: double, Country: string]"
      ]
     },
     "execution_count": 150,
     "metadata": {},
     "output_type": "execute_result"
    }
   ],
   "source": [
    "\"\"\"We can also do this with with a Scala Map, where the key is the column name and the value is the\n",
    "value we would like to use to fill null values:\"\"\"\n",
    "# in Python\n",
    "fill_cols_vals = {\"StockCode\": 5, \"Description\" : \"No Value\"}\n",
    "df.na.fill(fill_cols_vals)"
   ]
  },
  {
   "cell_type": "code",
   "execution_count": 151,
   "id": "1b97f6c7",
   "metadata": {},
   "outputs": [
    {
     "data": {
      "text/plain": [
       "DataFrame[InvoiceNo: string, StockCode: string, Description: string, Quantity: int, InvoiceDate: string, UnitPrice: double, CustomerID: double, Country: string]"
      ]
     },
     "execution_count": 151,
     "metadata": {},
     "output_type": "execute_result"
    }
   ],
   "source": [
    "\"\"\"In addition to replacing null values like we did with drop and fill, there are more flexible\n",
    "options that you can use with more than just null values. Probably the most common use case is\n",
    "to replace all values in a certain column according to their current value. The only requirement is\n",
    "that this value be the same type as the original value:\"\"\"\n",
    "# in Python\n",
    "df.na.replace([\"\"], [\"UNKNOWN\"], \"Description\")"
   ]
  },
  {
   "cell_type": "markdown",
   "id": "f33dedbc",
   "metadata": {},
   "source": [
    "# Working with Complex Types"
   ]
  },
  {
   "cell_type": "code",
   "execution_count": 152,
   "id": "17b49a14",
   "metadata": {},
   "outputs": [
    {
     "name": "stdout",
     "output_type": "stream",
     "text": [
      "+--------------------+---------+---------+--------------------+--------+-------------------+---------+----------+--------------+\n",
      "|             complex|InvoiceNo|StockCode|         Description|Quantity|        InvoiceDate|UnitPrice|CustomerID|       Country|\n",
      "+--------------------+---------+---------+--------------------+--------+-------------------+---------+----------+--------------+\n",
      "|[WHITE HANGING HE...|   536365|   85123A|WHITE HANGING HEA...|       6|2010-12-01 08:26:00|     2.55|   17850.0|United Kingdom|\n",
      "|[WHITE METAL LANT...|   536365|    71053| WHITE METAL LANTERN|       6|2010-12-01 08:26:00|     3.39|   17850.0|United Kingdom|\n",
      "|[CREAM CUPID HEAR...|   536365|   84406B|CREAM CUPID HEART...|       8|2010-12-01 08:26:00|     2.75|   17850.0|United Kingdom|\n",
      "|[KNITTED UNION FL...|   536365|   84029G|KNITTED UNION FLA...|       6|2010-12-01 08:26:00|     3.39|   17850.0|United Kingdom|\n",
      "|[RED WOOLLY HOTTI...|   536365|   84029E|RED WOOLLY HOTTIE...|       6|2010-12-01 08:26:00|     3.39|   17850.0|United Kingdom|\n",
      "+--------------------+---------+---------+--------------------+--------+-------------------+---------+----------+--------------+\n",
      "only showing top 5 rows\n",
      "\n"
     ]
    }
   ],
   "source": [
    "df.selectExpr(\"(Description, InvoiceNo) as complex\", \"*\").show(5)"
   ]
  },
  {
   "cell_type": "code",
   "execution_count": 153,
   "id": "72717cf4",
   "metadata": {},
   "outputs": [
    {
     "name": "stdout",
     "output_type": "stream",
     "text": [
      "+--------------------+---------+---------+--------------------+--------+-------------------+---------+----------+--------------+\n",
      "|             complex|InvoiceNo|StockCode|         Description|Quantity|        InvoiceDate|UnitPrice|CustomerID|       Country|\n",
      "+--------------------+---------+---------+--------------------+--------+-------------------+---------+----------+--------------+\n",
      "|[WHITE HANGING HE...|   536365|   85123A|WHITE HANGING HEA...|       6|2010-12-01 08:26:00|     2.55|   17850.0|United Kingdom|\n",
      "|[WHITE METAL LANT...|   536365|    71053| WHITE METAL LANTERN|       6|2010-12-01 08:26:00|     3.39|   17850.0|United Kingdom|\n",
      "|[CREAM CUPID HEAR...|   536365|   84406B|CREAM CUPID HEART...|       8|2010-12-01 08:26:00|     2.75|   17850.0|United Kingdom|\n",
      "|[KNITTED UNION FL...|   536365|   84029G|KNITTED UNION FLA...|       6|2010-12-01 08:26:00|     3.39|   17850.0|United Kingdom|\n",
      "+--------------------+---------+---------+--------------------+--------+-------------------+---------+----------+--------------+\n",
      "only showing top 4 rows\n",
      "\n"
     ]
    }
   ],
   "source": [
    "df.selectExpr(\"struct(Description, InvoiceNo) as complex\", \"*\").show(4)"
   ]
  },
  {
   "cell_type": "code",
   "execution_count": 154,
   "id": "43860692",
   "metadata": {},
   "outputs": [],
   "source": [
    "# in Python\n",
    "from pyspark.sql.functions import struct\n",
    "complexDF = df.select(struct(\"Description\", \"InvoiceNo\").alias(\"complex\"))\n",
    "complexDF.createOrReplaceTempView(\"complexDF\")"
   ]
  },
  {
   "cell_type": "code",
   "execution_count": 155,
   "id": "1fa353ab",
   "metadata": {},
   "outputs": [
    {
     "name": "stdout",
     "output_type": "stream",
     "text": [
      "+--------------------+\n",
      "|         Description|\n",
      "+--------------------+\n",
      "|WHITE HANGING HEA...|\n",
      "| WHITE METAL LANTERN|\n",
      "|CREAM CUPID HEART...|\n",
      "|KNITTED UNION FLA...|\n",
      "|RED WOOLLY HOTTIE...|\n",
      "+--------------------+\n",
      "only showing top 5 rows\n",
      "\n"
     ]
    }
   ],
   "source": [
    "\"\"\"We now have a DataFrame with a column complex. We can query it just as we might another\n",
    "DataFrame, the only difference is that we use a dot syntax to do so, or the column method\n",
    "getField:\"\"\"\n",
    "complexDF.select(\"complex.Description\").show(5)"
   ]
  },
  {
   "cell_type": "code",
   "execution_count": 156,
   "id": "7a213cdc",
   "metadata": {},
   "outputs": [
    {
     "name": "stdout",
     "output_type": "stream",
     "text": [
      "+--------------------+\n",
      "| complex.Description|\n",
      "+--------------------+\n",
      "|WHITE HANGING HEA...|\n",
      "| WHITE METAL LANTERN|\n",
      "|CREAM CUPID HEART...|\n",
      "|KNITTED UNION FLA...|\n",
      "|RED WOOLLY HOTTIE...|\n",
      "+--------------------+\n",
      "only showing top 5 rows\n",
      "\n"
     ]
    }
   ],
   "source": [
    "complexDF.select(col(\"complex\").getField(\"Description\")).show(5)"
   ]
  },
  {
   "cell_type": "code",
   "execution_count": 157,
   "id": "e0c96706",
   "metadata": {},
   "outputs": [
    {
     "name": "stdout",
     "output_type": "stream",
     "text": [
      "+--------------------+---------+\n",
      "|         Description|InvoiceNo|\n",
      "+--------------------+---------+\n",
      "|WHITE HANGING HEA...|   536365|\n",
      "| WHITE METAL LANTERN|   536365|\n",
      "|CREAM CUPID HEART...|   536365|\n",
      "|KNITTED UNION FLA...|   536365|\n",
      "|RED WOOLLY HOTTIE...|   536365|\n",
      "+--------------------+---------+\n",
      "only showing top 5 rows\n",
      "\n"
     ]
    }
   ],
   "source": [
    "complexDF.select(\"complex.*\").show(5)"
   ]
  },
  {
   "cell_type": "code",
   "execution_count": 158,
   "id": "6a2e80c6",
   "metadata": {},
   "outputs": [
    {
     "name": "stdout",
     "output_type": "stream",
     "text": [
      "+-------------------------+\n",
      "|split(Description,  , -1)|\n",
      "+-------------------------+\n",
      "|     [WHITE, HANGING, ...|\n",
      "|     [WHITE, METAL, LA...|\n",
      "+-------------------------+\n",
      "only showing top 2 rows\n",
      "\n"
     ]
    }
   ],
   "source": [
    "# ARRAYS\n",
    "\"\"\"To define arrays, let’s work through a use case. With our current data, our objective is to take\n",
    "every single word in our Description column and convert that into a row in our DataFrame.\n",
    "The first task is to turn our Description column into a complex type, an array.\n",
    "-- in SQL\n",
    "SELECT split(Description, ' ') FROM dfTable\n",
    "\"\"\"\n",
    "# in Python\n",
    "from pyspark.sql.functions import split\n",
    "df.select(split(col(\"Description\"), \" \")).show(2)"
   ]
  },
  {
   "cell_type": "code",
   "execution_count": 159,
   "id": "0f82ae1c",
   "metadata": {},
   "outputs": [
    {
     "name": "stdout",
     "output_type": "stream",
     "text": [
      "+------------+\n",
      "|array_col[0]|\n",
      "+------------+\n",
      "|       WHITE|\n",
      "|       WHITE|\n",
      "+------------+\n",
      "only showing top 2 rows\n",
      "\n"
     ]
    }
   ],
   "source": [
    "\"\"\"This is quite powerful because Spark allows us to manipulate this complex type as another\n",
    "column. We can also query the values of the array using Python-like syntax:\n",
    "-- in SQL\n",
    "SELECT split(Description, ' ')[0] FROM dfTable\n",
    "\"\"\"\n",
    "# in Python\n",
    "df.select(split(col(\"Description\"), \" \").alias(\"array_col\"))\\\n",
    ".selectExpr(\"array_col[0]\").show(2)"
   ]
  },
  {
   "cell_type": "code",
   "execution_count": 160,
   "id": "df641ad4",
   "metadata": {},
   "outputs": [
    {
     "name": "stdout",
     "output_type": "stream",
     "text": [
      "+-------------------------------+\n",
      "|size(split(Description,  , -1))|\n",
      "+-------------------------------+\n",
      "|                              5|\n",
      "|                              3|\n",
      "+-------------------------------+\n",
      "only showing top 2 rows\n",
      "\n"
     ]
    }
   ],
   "source": [
    "\"\"\"We can determine the array’s length by querying for its size:\"\"\"\n",
    "# in Python\n",
    "from pyspark.sql.functions import size\n",
    "df.select(size(split(col(\"Description\"), \" \"))).show(2) # shows 5 and 3"
   ]
  },
  {
   "cell_type": "code",
   "execution_count": 161,
   "id": "5a87d0d2",
   "metadata": {},
   "outputs": [
    {
     "name": "stdout",
     "output_type": "stream",
     "text": [
      "+------------------------------------------------+\n",
      "|array_contains(split(Description,  , -1), WHITE)|\n",
      "+------------------------------------------------+\n",
      "|                                            true|\n",
      "|                                            true|\n",
      "+------------------------------------------------+\n",
      "only showing top 2 rows\n",
      "\n"
     ]
    }
   ],
   "source": [
    "\"\"\"We can also see whether this array contains a value:\n",
    "-- in SQL\n",
    "SELECT array_contains(split(Description, ' '), 'WHITE') FROM dfTable\"\"\"\n",
    "from pyspark.sql.functions import array_contains\n",
    "df.select(array_contains(split(col(\"Description\"), \" \"), \"WHITE\")).show(2)"
   ]
  },
  {
   "cell_type": "code",
   "execution_count": 162,
   "id": "c6850fbb",
   "metadata": {},
   "outputs": [
    {
     "name": "stdout",
     "output_type": "stream",
     "text": [
      "+--------------------+---------+--------+\n",
      "|         Description|InvoiceNo|exploded|\n",
      "+--------------------+---------+--------+\n",
      "|WHITE HANGING HEA...|   536365|   WHITE|\n",
      "|WHITE HANGING HEA...|   536365| HANGING|\n",
      "|WHITE HANGING HEA...|   536365|   HEART|\n",
      "|WHITE HANGING HEA...|   536365| T-LIGHT|\n",
      "|WHITE HANGING HEA...|   536365|  HOLDER|\n",
      "| WHITE METAL LANTERN|   536365|   WHITE|\n",
      "| WHITE METAL LANTERN|   536365|   METAL|\n",
      "| WHITE METAL LANTERN|   536365| LANTERN|\n",
      "|CREAM CUPID HEART...|   536365|   CREAM|\n",
      "|CREAM CUPID HEART...|   536365|   CUPID|\n",
      "|CREAM CUPID HEART...|   536365|  HEARTS|\n",
      "|CREAM CUPID HEART...|   536365|    COAT|\n",
      "|CREAM CUPID HEART...|   536365|  HANGER|\n",
      "|KNITTED UNION FLA...|   536365| KNITTED|\n",
      "|KNITTED UNION FLA...|   536365|   UNION|\n",
      "|KNITTED UNION FLA...|   536365|    FLAG|\n",
      "|KNITTED UNION FLA...|   536365|     HOT|\n",
      "|KNITTED UNION FLA...|   536365|   WATER|\n",
      "|KNITTED UNION FLA...|   536365|  BOTTLE|\n",
      "|RED WOOLLY HOTTIE...|   536365|     RED|\n",
      "+--------------------+---------+--------+\n",
      "only showing top 20 rows\n",
      "\n"
     ]
    }
   ],
   "source": [
    "\"\"\"To convert a complex type into a set of rows\n",
    "(one per value in our array), we need to use the explode function.\"\"\"\n",
    "# in Python\n",
    "from pyspark.sql.functions import split, explode\n",
    "df.withColumn(\"splitted\", split(col(\"Description\"), \" \"))\\\n",
    ".withColumn(\"exploded\", explode(col(\"splitted\")))\\\n",
    ".select(\"Description\", \"InvoiceNo\", \"exploded\").show()"
   ]
  },
  {
   "cell_type": "code",
   "execution_count": 163,
   "id": "bfee9a6c",
   "metadata": {},
   "outputs": [
    {
     "name": "stdout",
     "output_type": "stream",
     "text": [
      "+--------------------+\n",
      "|         complex_map|\n",
      "+--------------------+\n",
      "|[WHITE HANGING HE...|\n",
      "|[WHITE METAL LANT...|\n",
      "|[CREAM CUPID HEAR...|\n",
      "|[KNITTED UNION FL...|\n",
      "|[RED WOOLLY HOTTI...|\n",
      "|[SET 7 BABUSHKA N...|\n",
      "|[GLASS STAR FROST...|\n",
      "|[HAND WARMER UNIO...|\n",
      "|[HAND WARMER RED ...|\n",
      "|[ASSORTED COLOUR ...|\n",
      "|[POPPY'S PLAYHOUS...|\n",
      "|[POPPY'S PLAYHOUS...|\n",
      "|[FELTCRAFT PRINCE...|\n",
      "|[IVORY KNITTED MU...|\n",
      "|[BOX OF 6 ASSORTE...|\n",
      "|[BOX OF VINTAGE J...|\n",
      "|[BOX OF VINTAGE A...|\n",
      "|[HOME BUILDING BL...|\n",
      "|[LOVE BUILDING BL...|\n",
      "|[RECIPE BOX WITH ...|\n",
      "+--------------------+\n",
      "only showing top 20 rows\n",
      "\n"
     ]
    }
   ],
   "source": [
    "\"\"\"\n",
    "Maps are created by using the map function and key-value pairs of columns. You then can select\n",
    "them just like you might select from an array:\"\"\"\n",
    "# in Python\n",
    "from pyspark.sql.functions import create_map\n",
    "df.select(create_map(col(\"Description\"), col(\"InvoiceNo\")).alias(\"complex_map\"))\\\n",
    ".show()"
   ]
  },
  {
   "cell_type": "code",
   "execution_count": 164,
   "id": "0f34ac07",
   "metadata": {},
   "outputs": [
    {
     "data": {
      "text/plain": [
       "'# in Python\\ndf.select(map(col(\"Description\"), col(\"InvoiceNo\")).alias(\"complex_map\")).selectExpr(\"complex_map[\\'WHITE METAL LANTERN\\']\").show(2)'"
      ]
     },
     "execution_count": 164,
     "metadata": {},
     "output_type": "execute_result"
    }
   ],
   "source": [
    "\"\"\"# in Python\n",
    "df.select(map(col(\"Description\"), col(\"InvoiceNo\")).alias(\"complex_map\"))\\\n",
    ".selectExpr(\"complex_map['WHITE METAL LANTERN']\").show(2)\"\"\""
   ]
  },
  {
   "cell_type": "markdown",
   "id": "431deeaf",
   "metadata": {},
   "source": [
    "# Working with JSON"
   ]
  },
  {
   "cell_type": "code",
   "execution_count": 165,
   "id": "d1d0ec11",
   "metadata": {},
   "outputs": [],
   "source": [
    "# in Python\n",
    "jsonDF = spark.range(1).selectExpr(\"\"\"\n",
    "'{\"myJSONKey\" : {\"myJSONValue\" : [1, 2, 3]}}' as jsonString\"\"\")"
   ]
  },
  {
   "cell_type": "code",
   "execution_count": 166,
   "id": "7b4c5572",
   "metadata": {},
   "outputs": [
    {
     "name": "stdout",
     "output_type": "stream",
     "text": [
      "+--------------------+\n",
      "|          jsonString|\n",
      "+--------------------+\n",
      "|{\"myJSONKey\" : {\"...|\n",
      "+--------------------+\n",
      "\n"
     ]
    }
   ],
   "source": [
    "jsonDF.show()"
   ]
  },
  {
   "cell_type": "code",
   "execution_count": 167,
   "id": "9781b3c7",
   "metadata": {},
   "outputs": [
    {
     "name": "stdout",
     "output_type": "stream",
     "text": [
      "+------+--------------------+\n",
      "|column|                  c0|\n",
      "+------+--------------------+\n",
      "|     2|{\"myJSONValue\":[1...|\n",
      "+------+--------------------+\n",
      "\n"
     ]
    }
   ],
   "source": [
    "\"\"\"You can use the get_json_object to inline query a JSON object, be it a dictionary or array.\n",
    "You can use json_tuple if this object has only one level of nesting:\"\"\"\n",
    "from pyspark.sql.functions import get_json_object, json_tuple\n",
    "jsonDF.select(\n",
    "get_json_object(col(\"jsonString\"), \"$.myJSONKey.myJSONValue[1]\").alias(\"column\"),json_tuple(col(\"jsonString\"), \"myJSONKey\")).show(2)"
   ]
  },
  {
   "cell_type": "code",
   "execution_count": 168,
   "id": "ed7ded13",
   "metadata": {},
   "outputs": [
    {
     "name": "stdout",
     "output_type": "stream",
     "text": [
      "+------+\n",
      "|column|\n",
      "+------+\n",
      "|  null|\n",
      "+------+\n",
      "\n"
     ]
    }
   ],
   "source": [
    "jsonDF.selectExpr(\n",
    "\"json_tuple(jsonString, '$.myJSONKey.myJSONValue[1]') as column\").show(2)"
   ]
  },
  {
   "cell_type": "code",
   "execution_count": 169,
   "id": "ed2e4a06",
   "metadata": {},
   "outputs": [
    {
     "name": "stdout",
     "output_type": "stream",
     "text": [
      "+--------------------+--------------------+\n",
      "|  from_json(newJSON)|             newJSON|\n",
      "+--------------------+--------------------+\n",
      "|[536365, WHITE HA...|{\"InvoiceNo\":\"536...|\n",
      "|[536365, WHITE ME...|{\"InvoiceNo\":\"536...|\n",
      "+--------------------+--------------------+\n",
      "only showing top 2 rows\n",
      "\n"
     ]
    }
   ],
   "source": [
    "# in Python\n",
    "from pyspark.sql.functions import from_json,to_json\n",
    "from pyspark.sql.types import *\n",
    "parseSchema = StructType((\n",
    "StructField(\"InvoiceNo\",StringType(),True),\n",
    "StructField(\"Description\",StringType(),True)))\n",
    "\n",
    "df.selectExpr(\"(InvoiceNo, Description) as myStruct\")\\\n",
    ".select(to_json(col(\"myStruct\")).alias(\"newJSON\"))\\\n",
    ".select(from_json(col(\"newJSON\"), parseSchema), col(\"newJSON\")).show(2)"
   ]
  },
  {
   "cell_type": "markdown",
   "id": "50359aa8",
   "metadata": {},
   "source": [
    "# UDFs"
   ]
  },
  {
   "cell_type": "code",
   "execution_count": 170,
   "id": "6ad4175f",
   "metadata": {},
   "outputs": [
    {
     "data": {
      "text/plain": [
       "8.0"
      ]
     },
     "execution_count": 170,
     "metadata": {},
     "output_type": "execute_result"
    }
   ],
   "source": [
    "# make UDF\n",
    "# in Python\n",
    "udfExampleDF = spark.range(5).toDF(\"num\")\n",
    "def power3(double_value):\n",
    "    return double_value ** 3\n",
    "power3(2.0)"
   ]
  },
  {
   "cell_type": "code",
   "execution_count": 171,
   "id": "376fe080",
   "metadata": {},
   "outputs": [],
   "source": [
    "# register UDF\n",
    "# in Python\n",
    "from pyspark.sql.functions import udf\n",
    "power3udf = udf(power3)"
   ]
  },
  {
   "cell_type": "code",
   "execution_count": 172,
   "id": "7ede52a1",
   "metadata": {},
   "outputs": [
    {
     "name": "stdout",
     "output_type": "stream",
     "text": [
      "+-----------+\n",
      "|power3(num)|\n",
      "+-----------+\n",
      "|          0|\n",
      "|          1|\n",
      "+-----------+\n",
      "only showing top 2 rows\n",
      "\n"
     ]
    }
   ],
   "source": [
    "# use UDF\n",
    "# in Python\n",
    "from pyspark.sql.functions import col\n",
    "udfExampleDF.select(power3udf(col(\"num\"))).show(2)"
   ]
  },
  {
   "cell_type": "code",
   "execution_count": 173,
   "id": "3187f821",
   "metadata": {},
   "outputs": [
    {
     "data": {
      "text/plain": [
       "<function __main__.power3(double_value)>"
      ]
     },
     "execution_count": 173,
     "metadata": {},
     "output_type": "execute_result"
    }
   ],
   "source": [
    "# register udf \n",
    "# in Python\n",
    "from pyspark.sql.types import IntegerType, DoubleType\n",
    "spark.udf.register(\"power3py\", power3, DoubleType())"
   ]
  },
  {
   "cell_type": "code",
   "execution_count": 174,
   "id": "6d2ce117",
   "metadata": {},
   "outputs": [
    {
     "name": "stdout",
     "output_type": "stream",
     "text": [
      "+-------------+\n",
      "|power3py(num)|\n",
      "+-------------+\n",
      "|         null|\n",
      "|         null|\n",
      "+-------------+\n",
      "only showing top 2 rows\n",
      "\n"
     ]
    }
   ],
   "source": [
    "\"\"\"we are getting null here becuase there is mismatch in return type\"\"\"\n",
    "# in Python\n",
    "udfExampleDF.selectExpr(\"power3py(num)\").show(2)\n",
    "# registered via Python"
   ]
  },
  {
   "cell_type": "markdown",
   "id": "054ceaca",
   "metadata": {},
   "source": [
    "# AGGREGATION"
   ]
  },
  {
   "cell_type": "code",
   "execution_count": 175,
   "id": "a5a23781",
   "metadata": {},
   "outputs": [
    {
     "data": {
      "text/plain": [
       "DataFrame[InvoiceNo: string, StockCode: string, Description: string, Quantity: int, InvoiceDate: string, UnitPrice: double, CustomerID: int, Country: string]"
      ]
     },
     "execution_count": 175,
     "metadata": {},
     "output_type": "execute_result"
    }
   ],
   "source": [
    "# in Python\n",
    "df = spark.read.format(\"csv\")\\\n",
    ".option(\"header\", \"true\")\\\n",
    ".option(\"inferSchema\", \"true\")\\\n",
    ".load(r\"C:\\Users\\Admin\\Documents\\spark\\Spark-The-Definitive-Guide-master\\data\\retail-data\\all\\*.csv\")\\\n",
    ".coalesce(5)\n",
    "df.cache()"
   ]
  },
  {
   "cell_type": "code",
   "execution_count": 176,
   "id": "188e471a",
   "metadata": {},
   "outputs": [],
   "source": [
    "df.createOrReplaceTempView(\"dfTable\")"
   ]
  },
  {
   "cell_type": "code",
   "execution_count": 177,
   "id": "6101e385",
   "metadata": {},
   "outputs": [
    {
     "name": "stdout",
     "output_type": "stream",
     "text": [
      "+----------------+\n",
      "|count(StockCode)|\n",
      "+----------------+\n",
      "|          541909|\n",
      "+----------------+\n",
      "\n"
     ]
    }
   ],
   "source": [
    "df.select(count(\"StockCode\")).show()"
   ]
  },
  {
   "cell_type": "code",
   "execution_count": 178,
   "id": "8e26011f",
   "metadata": {},
   "outputs": [
    {
     "name": "stdout",
     "output_type": "stream",
     "text": [
      "+-------------------------+\n",
      "|count(DISTINCT StockCode)|\n",
      "+-------------------------+\n",
      "|                     4070|\n",
      "+-------------------------+\n",
      "\n"
     ]
    }
   ],
   "source": [
    "# in Python\n",
    "from pyspark.sql.functions import countDistinct\n",
    "df.select(countDistinct(\"StockCode\")).show() # 4070"
   ]
  },
  {
   "cell_type": "code",
   "execution_count": 179,
   "id": "f589aaa4",
   "metadata": {},
   "outputs": [
    {
     "name": "stdout",
     "output_type": "stream",
     "text": [
      "+--------------------------------+\n",
      "|approx_count_distinct(StockCode)|\n",
      "+--------------------------------+\n",
      "|                            3364|\n",
      "+--------------------------------+\n",
      "\n"
     ]
    }
   ],
   "source": [
    "\"\"\"Often, we find ourselves working with large datasets and the exact distinct count is irrelevant.\n",
    "There are times when an approximation to a certain degree of accuracy will work just fine, and\n",
    "for that, you can use the approx_count_distinct function:\n",
    "\n",
    "You will notice that approx_count_distinct took another parameter with which you can\n",
    "specify the maximum estimation error allowed. In this case, we specified a rather large error and\n",
    "thus receive an answer that is quite far off but does complete more quickly than countDistinct.\n",
    "You will see much greater performance gains with larger datasets.\"\"\"\n",
    "# in Python\n",
    "from pyspark.sql.functions import approx_count_distinct\n",
    "df.select(approx_count_distinct(\"StockCode\", 0.1)).show() # 3364"
   ]
  },
  {
   "cell_type": "code",
   "execution_count": 180,
   "id": "ece23252",
   "metadata": {},
   "outputs": [
    {
     "name": "stdout",
     "output_type": "stream",
     "text": [
      "+-----------------------+----------------------+\n",
      "|first(StockCode, false)|last(StockCode, false)|\n",
      "+-----------------------+----------------------+\n",
      "|                 85123A|                 22138|\n",
      "+-----------------------+----------------------+\n",
      "\n"
     ]
    }
   ],
   "source": [
    "# in Python\n",
    "from pyspark.sql.functions import first, last\n",
    "df.select(first(\"StockCode\"), last(\"StockCode\")).show()"
   ]
  },
  {
   "cell_type": "code",
   "execution_count": 181,
   "id": "7f5ba5c7",
   "metadata": {},
   "outputs": [
    {
     "name": "stdout",
     "output_type": "stream",
     "text": [
      "+-------------+-------------+\n",
      "|min(Quantity)|max(Quantity)|\n",
      "+-------------+-------------+\n",
      "|       -80995|        80995|\n",
      "+-------------+-------------+\n",
      "\n"
     ]
    }
   ],
   "source": [
    "from pyspark.sql.functions import min, max\n",
    "df.select(min(\"Quantity\"), max(\"Quantity\")).show()"
   ]
  },
  {
   "cell_type": "code",
   "execution_count": 182,
   "id": "7dfe4ffa",
   "metadata": {},
   "outputs": [
    {
     "name": "stdout",
     "output_type": "stream",
     "text": [
      "+--------------------------+\n",
      "|sum(CAST(Quantity AS INT))|\n",
      "+--------------------------+\n",
      "|                   5176450|\n",
      "+--------------------------+\n",
      "\n"
     ]
    }
   ],
   "source": [
    "df.selectExpr(\"sum(INT(Quantity))\").show() # 5176450"
   ]
  },
  {
   "cell_type": "code",
   "execution_count": 183,
   "id": "b7d18b14",
   "metadata": {},
   "outputs": [
    {
     "name": "stdout",
     "output_type": "stream",
     "text": [
      "+-------------+\n",
      "|sum(Quantity)|\n",
      "+-------------+\n",
      "|      5176450|\n",
      "+-------------+\n",
      "\n"
     ]
    }
   ],
   "source": [
    "spark.sql(\"SELECT SUM(Quantity) FROM dfTable\").show()"
   ]
  },
  {
   "cell_type": "code",
   "execution_count": 184,
   "id": "7eb1d760",
   "metadata": {},
   "outputs": [
    {
     "name": "stdout",
     "output_type": "stream",
     "text": [
      "+--------------------------------------+----------------+----------------+\n",
      "|(total_purchases / total_transactions)|   avg_purchases|  mean_purchases|\n",
      "+--------------------------------------+----------------+----------------+\n",
      "|                      9.55224954743324|9.55224954743324|9.55224954743324|\n",
      "+--------------------------------------+----------------+----------------+\n",
      "\n"
     ]
    }
   ],
   "source": [
    "# in Python\n",
    "from pyspark.sql.functions import sum, count, avg, expr\n",
    "df.select(\n",
    "count(\"Quantity\").alias(\"total_transactions\"),\n",
    "sum(\"Quantity\").alias(\"total_purchases\"),\n",
    "avg(\"Quantity\").alias(\"avg_purchases\"),\n",
    "expr(\"mean(Quantity)\").alias(\"mean_purchases\"))\\\n",
    ".selectExpr(\n",
    "\"total_purchases/total_transactions\",\n",
    "\"avg_purchases\",\n",
    "\"mean_purchases\").show()"
   ]
  },
  {
   "cell_type": "code",
   "execution_count": 185,
   "id": "881b388a",
   "metadata": {},
   "outputs": [
    {
     "name": "stdout",
     "output_type": "stream",
     "text": [
      "+-----------------+------------------+--------------------+---------------------+\n",
      "|var_pop(Quantity)|var_samp(Quantity)|stddev_pop(Quantity)|stddev_samp(Quantity)|\n",
      "+-----------------+------------------+--------------------+---------------------+\n",
      "|47559.30364660923| 47559.39140929892|  218.08095663447835|   218.08115785023455|\n",
      "+-----------------+------------------+--------------------+---------------------+\n",
      "\n"
     ]
    }
   ],
   "source": [
    "from pyspark.sql.functions import var_pop, stddev_pop\n",
    "from pyspark.sql.functions import var_samp, stddev_samp\n",
    "df.select(var_pop(\"Quantity\"), var_samp(\"Quantity\"),\n",
    "stddev_pop(\"Quantity\"), stddev_samp(\"Quantity\")).show()"
   ]
  },
  {
   "cell_type": "code",
   "execution_count": 186,
   "id": "0458d59a",
   "metadata": {},
   "outputs": [
    {
     "name": "stdout",
     "output_type": "stream",
     "text": [
      "+---------------------------------+----------------------------------+------------------------------------+-------------------------------------+\n",
      "|var_pop(CAST(Quantity AS DOUBLE))|var_samp(CAST(Quantity AS DOUBLE))|stddev_pop(CAST(Quantity AS DOUBLE))|stddev_samp(CAST(Quantity AS DOUBLE))|\n",
      "+---------------------------------+----------------------------------+------------------------------------+-------------------------------------+\n",
      "|                47559.30364660923|                 47559.39140929892|                  218.08095663447835|                   218.08115785023455|\n",
      "+---------------------------------+----------------------------------+------------------------------------+-------------------------------------+\n",
      "\n"
     ]
    }
   ],
   "source": [
    "spark.sql(\"\"\"SELECT var_pop(Quantity), var_samp(Quantity),\n",
    "stddev_pop(Quantity), stddev_samp(Quantity)\n",
    "FROM dfTable\"\"\").show()"
   ]
  },
  {
   "cell_type": "markdown",
   "id": "2e35c0bf",
   "metadata": {},
   "source": [
    "# skewness and kurtosis"
   ]
  },
  {
   "cell_type": "code",
   "execution_count": 187,
   "id": "35bfe027",
   "metadata": {},
   "outputs": [
    {
     "name": "stdout",
     "output_type": "stream",
     "text": [
      "+--------------------+------------------+\n",
      "|  skewness(Quantity)|kurtosis(Quantity)|\n",
      "+--------------------+------------------+\n",
      "|-0.26407557610528376|119768.05495530753|\n",
      "+--------------------+------------------+\n",
      "\n"
     ]
    }
   ],
   "source": [
    "from pyspark.sql.functions import skewness,kurtosis\n",
    "df.select(skewness(\"Quantity\"),kurtosis(\"Quantity\")).show()"
   ]
  },
  {
   "cell_type": "code",
   "execution_count": 188,
   "id": "e219f89a",
   "metadata": {},
   "outputs": [
    {
     "name": "stdout",
     "output_type": "stream",
     "text": [
      "+----------------------------------+----------------------------------+\n",
      "|skewness(CAST(Quantity AS DOUBLE))|kurtosis(CAST(Quantity AS DOUBLE))|\n",
      "+----------------------------------+----------------------------------+\n",
      "|              -0.26407557610528376|                119768.05495530753|\n",
      "+----------------------------------+----------------------------------+\n",
      "\n"
     ]
    }
   ],
   "source": [
    "spark.sql(\"\"\"SELECT skewness(Quantity), kurtosis(Quantity) FROM dfTable\"\"\").show()"
   ]
  },
  {
   "cell_type": "markdown",
   "id": "14807db7",
   "metadata": {},
   "source": [
    "# Covariance and Correlation"
   ]
  },
  {
   "cell_type": "code",
   "execution_count": 189,
   "id": "91b049d8",
   "metadata": {},
   "outputs": [
    {
     "name": "stdout",
     "output_type": "stream",
     "text": [
      "+-------------------------+------------------------------+-------------------------------+\n",
      "|corr(InvoiceNo, Quantity)|covar_pop(InvoiceNo, Quantity)|covar_samp(InvoiceNo, Quantity)|\n",
      "+-------------------------+------------------------------+-------------------------------+\n",
      "|     4.912186085640497E-4|            1052.7260778754955|             1052.7280543915997|\n",
      "+-------------------------+------------------------------+-------------------------------+\n",
      "\n"
     ]
    }
   ],
   "source": [
    "\"\"\"Correlation measures the Pearson correlation\n",
    "coefficient, which is scaled between –1 and +1. The covariance is scaled according to the inputs\n",
    "in the data.\n",
    "Like the var function, covariance can be calculated either as the sample covariance or the\n",
    "population covariance.\n",
    "\"\"\"\n",
    "from pyspark.sql.functions import corr,covar_pop,covar_samp\n",
    "df.select(corr(\"InvoiceNo\", \"Quantity\"),covar_pop(\"InvoiceNo\", \"Quantity\"),covar_samp(\"InvoiceNo\", \"Quantity\")).show()"
   ]
  },
  {
   "cell_type": "code",
   "execution_count": 190,
   "id": "893de586",
   "metadata": {},
   "outputs": [
    {
     "name": "stdout",
     "output_type": "stream",
     "text": [
      "+---------------------------------------------------------+---------------------------------------------------------------+--------------------------------------------------------------+\n",
      "|corr(CAST(InvoiceNo AS DOUBLE), CAST(Quantity AS DOUBLE))|covar_samp(CAST(InvoiceNo AS DOUBLE), CAST(Quantity AS DOUBLE))|covar_pop(CAST(InvoiceNo AS DOUBLE), CAST(Quantity AS DOUBLE))|\n",
      "+---------------------------------------------------------+---------------------------------------------------------------+--------------------------------------------------------------+\n",
      "|                                     4.912186085640497E-4|                                             1052.7280543915997|                                            1052.7260778754955|\n",
      "+---------------------------------------------------------+---------------------------------------------------------------+--------------------------------------------------------------+\n",
      "\n"
     ]
    }
   ],
   "source": [
    "spark.sql(\"\"\"SELECT corr(InvoiceNo, Quantity), covar_samp(InvoiceNo, Quantity),\n",
    "covar_pop(InvoiceNo, Quantity)\n",
    "FROM dfTable\"\"\").show()"
   ]
  },
  {
   "cell_type": "markdown",
   "id": "2ad2ab0c",
   "metadata": {},
   "source": [
    "# Aggregating to Complex Types"
   ]
  },
  {
   "cell_type": "code",
   "execution_count": 191,
   "id": "749245d9",
   "metadata": {},
   "outputs": [
    {
     "name": "stdout",
     "output_type": "stream",
     "text": [
      "+--------------+\n",
      "|       Country|\n",
      "+--------------+\n",
      "|United Kingdom|\n",
      "|United Kingdom|\n",
      "|United Kingdom|\n",
      "|United Kingdom|\n",
      "|United Kingdom|\n",
      "|United Kingdom|\n",
      "|United Kingdom|\n",
      "|United Kingdom|\n",
      "|United Kingdom|\n",
      "|United Kingdom|\n",
      "|United Kingdom|\n",
      "|United Kingdom|\n",
      "|United Kingdom|\n",
      "|United Kingdom|\n",
      "|United Kingdom|\n",
      "|United Kingdom|\n",
      "|United Kingdom|\n",
      "|United Kingdom|\n",
      "|United Kingdom|\n",
      "|United Kingdom|\n",
      "+--------------+\n",
      "only showing top 20 rows\n",
      "\n"
     ]
    }
   ],
   "source": [
    "\"\"\"\n",
    "In Spark, you can perform aggregations not just of numerical values using formulas, you can also\n",
    "perform them on complex types. For example, we can collect a list of values present in a given\n",
    "column or only the unique values by collecting to a set.\"\"\"\n",
    "df.select(\"Country\").show()"
   ]
  },
  {
   "cell_type": "code",
   "execution_count": 192,
   "id": "f8f0de34",
   "metadata": {},
   "outputs": [
    {
     "name": "stdout",
     "output_type": "stream",
     "text": [
      "+--------------------+---------------------+\n",
      "|collect_set(Country)|collect_list(Country)|\n",
      "+--------------------+---------------------+\n",
      "|[Portugal, Italy,...| [United Kingdom, ...|\n",
      "+--------------------+---------------------+\n",
      "\n"
     ]
    }
   ],
   "source": [
    "from pyspark.sql.functions import collect_set,collect_list\n",
    "df.agg(collect_set(\"Country\"),collect_list(\"Country\")).show()"
   ]
  },
  {
   "cell_type": "code",
   "execution_count": 193,
   "id": "be3d1491",
   "metadata": {},
   "outputs": [
    {
     "name": "stdout",
     "output_type": "stream",
     "text": [
      "+---------+----------+--------------------+---------------------+\n",
      "|InvoiceNo|CustomerId|collect_set(Country)|collect_list(Country)|\n",
      "+---------+----------+--------------------+---------------------+\n",
      "|   536366|     17850|    [United Kingdom]| [United Kingdom, ...|\n",
      "|   536367|     13047|    [United Kingdom]| [United Kingdom, ...|\n",
      "|   536369|     13047|    [United Kingdom]|     [United Kingdom]|\n",
      "|   536376|     15291|    [United Kingdom]| [United Kingdom, ...|\n",
      "|   536387|     16029|    [United Kingdom]| [United Kingdom, ...|\n",
      "|   536392|     13705|    [United Kingdom]| [United Kingdom, ...|\n",
      "|   536399|     17850|    [United Kingdom]| [United Kingdom, ...|\n",
      "|   536403|     12791|       [Netherlands]| [Netherlands, Net...|\n",
      "|   536405|     14045|    [United Kingdom]|     [United Kingdom]|\n",
      "|   536415|     12838|    [United Kingdom]| [United Kingdom, ...|\n",
      "|   536446|     15983|    [United Kingdom]| [United Kingdom, ...|\n",
      "|   536463|     14849|    [United Kingdom]|     [United Kingdom]|\n",
      "|   536464|     17968|    [United Kingdom]| [United Kingdom, ...|\n",
      "|   536500|     17377|    [United Kingdom]| [United Kingdom, ...|\n",
      "|   536525|     14078|    [United Kingdom]| [United Kingdom, ...|\n",
      "|   536529|     14237|    [United Kingdom]| [United Kingdom, ...|\n",
      "|   536531|     15485|    [United Kingdom]| [United Kingdom, ...|\n",
      "|   536532|     12433|            [Norway]| [Norway, Norway, ...|\n",
      "|   536533|     16955|    [United Kingdom]| [United Kingdom, ...|\n",
      "|   536534|     15350|    [United Kingdom]| [United Kingdom, ...|\n",
      "+---------+----------+--------------------+---------------------+\n",
      "only showing top 20 rows\n",
      "\n"
     ]
    }
   ],
   "source": [
    "df.groupby(\"InvoiceNo\", \"CustomerId\").agg(collect_set(\"Country\"),collect_list(\"Country\")).show()"
   ]
  },
  {
   "cell_type": "code",
   "execution_count": 194,
   "id": "690125ae",
   "metadata": {},
   "outputs": [
    {
     "name": "stdout",
     "output_type": "stream",
     "text": [
      "+--------------------+--------------------+\n",
      "|collect_set(Country)|collect_set(Country)|\n",
      "+--------------------+--------------------+\n",
      "|[Portugal, Italy,...|[Portugal, Italy,...|\n",
      "+--------------------+--------------------+\n",
      "\n"
     ]
    }
   ],
   "source": [
    "spark.sql(\"\"\"SELECT collect_set(Country), collect_set(Country) FROM dfTable\"\"\").show()"
   ]
  },
  {
   "cell_type": "markdown",
   "id": "50daa0b5",
   "metadata": {},
   "source": [
    "# Grouping"
   ]
  },
  {
   "cell_type": "code",
   "execution_count": 195,
   "id": "fb6471a2",
   "metadata": {},
   "outputs": [
    {
     "name": "stdout",
     "output_type": "stream",
     "text": [
      "+---------+----------+-----+\n",
      "|InvoiceNo|CustomerId|count|\n",
      "+---------+----------+-----+\n",
      "|   536366|     17850|    2|\n",
      "|   536367|     13047|   12|\n",
      "|   536369|     13047|    1|\n",
      "|   536376|     15291|    2|\n",
      "|   536387|     16029|    5|\n",
      "|  C536391|     17548|    7|\n",
      "|   536392|     13705|   10|\n",
      "|   536399|     17850|    2|\n",
      "|   536403|     12791|    2|\n",
      "|   536405|     14045|    1|\n",
      "|   536415|     12838|   59|\n",
      "|   536446|     15983|   32|\n",
      "|   536463|     14849|    1|\n",
      "|   536464|     17968|   85|\n",
      "|   536500|     17377|   15|\n",
      "|   536525|     14078|   13|\n",
      "|   536529|     14237|    9|\n",
      "|   536531|     15485|   23|\n",
      "|   536532|     12433|   73|\n",
      "|   536533|     16955|    6|\n",
      "+---------+----------+-----+\n",
      "only showing top 20 rows\n",
      "\n"
     ]
    }
   ],
   "source": [
    "df.groupBy(\"InvoiceNo\", \"CustomerId\").count().show()"
   ]
  },
  {
   "cell_type": "code",
   "execution_count": 196,
   "id": "d98eca40",
   "metadata": {},
   "outputs": [
    {
     "name": "stdout",
     "output_type": "stream",
     "text": [
      "+---------+----------+--------+\n",
      "|InvoiceNo|CustomerId|count(1)|\n",
      "+---------+----------+--------+\n",
      "|   536366|     17850|       2|\n",
      "|   536367|     13047|      12|\n",
      "|   536369|     13047|       1|\n",
      "|   536376|     15291|       2|\n",
      "|   536387|     16029|       5|\n",
      "|  C536391|     17548|       7|\n",
      "|   536392|     13705|      10|\n",
      "|   536399|     17850|       2|\n",
      "|   536403|     12791|       2|\n",
      "|   536405|     14045|       1|\n",
      "|   536415|     12838|      59|\n",
      "|   536446|     15983|      32|\n",
      "|   536463|     14849|       1|\n",
      "|   536464|     17968|      85|\n",
      "|   536500|     17377|      15|\n",
      "|   536525|     14078|      13|\n",
      "|   536529|     14237|       9|\n",
      "|   536531|     15485|      23|\n",
      "|   536532|     12433|      73|\n",
      "|   536533|     16955|       6|\n",
      "+---------+----------+--------+\n",
      "only showing top 20 rows\n",
      "\n"
     ]
    }
   ],
   "source": [
    "spark.sql(\"\"\"SELECT InvoiceNo,CustomerId,count(*) FROM dfTable GROUP BY InvoiceNo, CustomerId\"\"\").show()"
   ]
  },
  {
   "cell_type": "markdown",
   "id": "a29d8438",
   "metadata": {},
   "source": [
    "# Grouping with Expressions"
   ]
  },
  {
   "cell_type": "code",
   "execution_count": 197,
   "id": "b306a1ec",
   "metadata": {},
   "outputs": [
    {
     "name": "stdout",
     "output_type": "stream",
     "text": [
      "+---------+----+---------------+\n",
      "|InvoiceNo|quan|count(Quantity)|\n",
      "+---------+----+---------------+\n",
      "|   536370|  20|             20|\n",
      "|   536380|   1|              1|\n",
      "|   536384|  13|             13|\n",
      "|   536387|   5|              5|\n",
      "|   536397|   2|              2|\n",
      "|   536405|   1|              1|\n",
      "|   536407|   2|              2|\n",
      "|   536463|   1|              1|\n",
      "|   536500|  15|             15|\n",
      "|   536522|  54|             54|\n",
      "|   536523|  12|             12|\n",
      "|   536536|   3|              3|\n",
      "|   536538|  31|             31|\n",
      "|   536542|  16|             16|\n",
      "|   536555|   2|              2|\n",
      "|   536561|  15|             15|\n",
      "|   536573|   4|              4|\n",
      "|   536579|   2|              2|\n",
      "|   536580|   6|              6|\n",
      "|   536582|  17|             17|\n",
      "+---------+----+---------------+\n",
      "only showing top 20 rows\n",
      "\n"
     ]
    }
   ],
   "source": [
    "from pyspark.sql.functions import count\n",
    "df.groupby(\"InvoiceNo\").agg(count(\"Quantity\").alias(\"quan\"),expr(\"count(Quantity)\")).show()"
   ]
  },
  {
   "cell_type": "markdown",
   "id": "746de51b",
   "metadata": {},
   "source": [
    "# Grouping with Maps"
   ]
  },
  {
   "cell_type": "code",
   "execution_count": 198,
   "id": "28b1679f",
   "metadata": {},
   "outputs": [
    {
     "name": "stdout",
     "output_type": "stream",
     "text": [
      "+---------+------------------+--------------------+\n",
      "|InvoiceNo|     avg(Quantity)|stddev_pop(Quantity)|\n",
      "+---------+------------------+--------------------+\n",
      "|   536370|             22.45|   8.935742834258381|\n",
      "|   536380|              24.0|                 0.0|\n",
      "|   536384|14.615384615384615|  15.750645708563392|\n",
      "|   536387|             288.0|  117.57550765359255|\n",
      "|   536397|              30.0|                18.0|\n",
      "|   536405|             128.0|                 0.0|\n",
      "|   536407|               6.0|                 0.0|\n",
      "|   536463|              12.0|                 0.0|\n",
      "|   536500|               6.8|   4.019950248448356|\n",
      "|   536522|1.5925925925925926|  1.6046058535136642|\n",
      "|   536523| 9.333333333333334|   7.487025815072067|\n",
      "|   536536|31.666666666666668|  34.373762603991366|\n",
      "|   536538| 4.709677419354839|  3.7173833008743054|\n",
      "|   536542|              24.5|    8.73212459828649|\n",
      "|   536555|               1.0|                 0.0|\n",
      "|   536561| 9.333333333333334|  2.9814239699997196|\n",
      "|   536573|              34.0|  23.748684174075834|\n",
      "|   536579|             138.0|                78.0|\n",
      "|   536580|              11.0|    2.23606797749979|\n",
      "|   536582|10.823529411764707|    6.99777522727673|\n",
      "+---------+------------------+--------------------+\n",
      "only showing top 20 rows\n",
      "\n"
     ]
    }
   ],
   "source": [
    "\"\"\"Sometimes, it can be easier to specify your transformations as a series of Maps for which the key\n",
    "is the column, and the value is the aggregation function (as a string) that you would like to\n",
    "perform\"\"\"\n",
    "df.groupBy(\"InvoiceNo\").agg(expr(\"avg(Quantity)\"),expr(\"stddev_pop(Quantity)\")).show()"
   ]
  },
  {
   "cell_type": "code",
   "execution_count": 199,
   "id": "2d218a01",
   "metadata": {},
   "outputs": [
    {
     "name": "stdout",
     "output_type": "stream",
     "text": [
      "+---------+------------------+------------------------------------+---------+\n",
      "|InvoiceNo|     avg(Quantity)|stddev_pop(CAST(Quantity AS DOUBLE))|InvoiceNo|\n",
      "+---------+------------------+------------------------------------+---------+\n",
      "|   536370|             22.45|                   8.935742834258381|   536370|\n",
      "|   536380|              24.0|                                 0.0|   536380|\n",
      "|   536384|14.615384615384615|                  15.750645708563392|   536384|\n",
      "|   536387|             288.0|                  117.57550765359255|   536387|\n",
      "|   536397|              30.0|                                18.0|   536397|\n",
      "|   536405|             128.0|                                 0.0|   536405|\n",
      "|   536407|               6.0|                                 0.0|   536407|\n",
      "|   536463|              12.0|                                 0.0|   536463|\n",
      "|   536500|               6.8|                   4.019950248448356|   536500|\n",
      "|   536522|1.5925925925925926|                  1.6046058535136642|   536522|\n",
      "|   536523| 9.333333333333334|                   7.487025815072067|   536523|\n",
      "|   536536|31.666666666666668|                  34.373762603991366|   536536|\n",
      "|   536538| 4.709677419354839|                  3.7173833008743054|   536538|\n",
      "|   536542|              24.5|                    8.73212459828649|   536542|\n",
      "|   536555|               1.0|                                 0.0|   536555|\n",
      "|   536561| 9.333333333333334|                  2.9814239699997196|   536561|\n",
      "|   536573|              34.0|                  23.748684174075834|   536573|\n",
      "|   536579|             138.0|                                78.0|   536579|\n",
      "|   536580|              11.0|                    2.23606797749979|   536580|\n",
      "|   536582|10.823529411764707|                    6.99777522727673|   536582|\n",
      "+---------+------------------+------------------------------------+---------+\n",
      "only showing top 20 rows\n",
      "\n"
     ]
    }
   ],
   "source": [
    "spark.sql(\"\"\"SELECT InvoiceNo,avg(Quantity), stddev_pop(Quantity), InvoiceNo FROM dfTable\n",
    "GROUP BY InvoiceNo\"\"\").show()"
   ]
  },
  {
   "cell_type": "markdown",
   "id": "491f385f",
   "metadata": {},
   "source": [
    "# Window Functions"
   ]
  },
  {
   "cell_type": "code",
   "execution_count": 200,
   "id": "9c2ee9e4",
   "metadata": {},
   "outputs": [
    {
     "name": "stdout",
     "output_type": "stream",
     "text": [
      "+---------+---------+--------------------+--------+--------------+---------+----------+--------------+----------+\n",
      "|InvoiceNo|StockCode|         Description|Quantity|   InvoiceDate|UnitPrice|CustomerID|       Country|      date|\n",
      "+---------+---------+--------------------+--------+--------------+---------+----------+--------------+----------+\n",
      "|   536365|   85123A|WHITE HANGING HEA...|       6|12/1/2010 8:26|     2.55|     17850|United Kingdom|2010-12-01|\n",
      "|   536365|    71053| WHITE METAL LANTERN|       6|12/1/2010 8:26|     3.39|     17850|United Kingdom|2010-12-01|\n",
      "|   536365|   84406B|CREAM CUPID HEART...|       8|12/1/2010 8:26|     2.75|     17850|United Kingdom|2010-12-01|\n",
      "|   536365|   84029G|KNITTED UNION FLA...|       6|12/1/2010 8:26|     3.39|     17850|United Kingdom|2010-12-01|\n",
      "|   536365|   84029E|RED WOOLLY HOTTIE...|       6|12/1/2010 8:26|     3.39|     17850|United Kingdom|2010-12-01|\n",
      "|   536365|    22752|SET 7 BABUSHKA NE...|       2|12/1/2010 8:26|     7.65|     17850|United Kingdom|2010-12-01|\n",
      "|   536365|    21730|GLASS STAR FROSTE...|       6|12/1/2010 8:26|     4.25|     17850|United Kingdom|2010-12-01|\n",
      "|   536366|    22633|HAND WARMER UNION...|       6|12/1/2010 8:28|     1.85|     17850|United Kingdom|2010-12-01|\n",
      "|   536366|    22632|HAND WARMER RED P...|       6|12/1/2010 8:28|     1.85|     17850|United Kingdom|2010-12-01|\n",
      "|   536367|    84879|ASSORTED COLOUR B...|      32|12/1/2010 8:34|     1.69|     13047|United Kingdom|2010-12-01|\n",
      "|   536367|    22745|POPPY'S PLAYHOUSE...|       6|12/1/2010 8:34|      2.1|     13047|United Kingdom|2010-12-01|\n",
      "|   536367|    22748|POPPY'S PLAYHOUSE...|       6|12/1/2010 8:34|      2.1|     13047|United Kingdom|2010-12-01|\n",
      "|   536367|    22749|FELTCRAFT PRINCES...|       8|12/1/2010 8:34|     3.75|     13047|United Kingdom|2010-12-01|\n",
      "|   536367|    22310|IVORY KNITTED MUG...|       6|12/1/2010 8:34|     1.65|     13047|United Kingdom|2010-12-01|\n",
      "|   536367|    84969|BOX OF 6 ASSORTED...|       6|12/1/2010 8:34|     4.25|     13047|United Kingdom|2010-12-01|\n",
      "|   536367|    22623|BOX OF VINTAGE JI...|       3|12/1/2010 8:34|     4.95|     13047|United Kingdom|2010-12-01|\n",
      "|   536367|    22622|BOX OF VINTAGE AL...|       2|12/1/2010 8:34|     9.95|     13047|United Kingdom|2010-12-01|\n",
      "|   536367|    21754|HOME BUILDING BLO...|       3|12/1/2010 8:34|     5.95|     13047|United Kingdom|2010-12-01|\n",
      "|   536367|    21755|LOVE BUILDING BLO...|       3|12/1/2010 8:34|     5.95|     13047|United Kingdom|2010-12-01|\n",
      "|   536367|    21777|RECIPE BOX WITH M...|       4|12/1/2010 8:34|     7.95|     13047|United Kingdom|2010-12-01|\n",
      "+---------+---------+--------------------+--------+--------------+---------+----------+--------------+----------+\n",
      "only showing top 20 rows\n",
      "\n"
     ]
    }
   ],
   "source": [
    "from pyspark.sql.functions import col,to_date\n",
    "dfWithDate = df.withColumn(\"date\",to_date(col(\"InvoiceDate\"),\"MM/d/yyyy H:mm\"))\n",
    "dfWithDate.show()"
   ]
  },
  {
   "cell_type": "code",
   "execution_count": 201,
   "id": "832ffa13",
   "metadata": {},
   "outputs": [],
   "source": [
    "dfWithDate.createOrReplaceTempView(\"dfWithDate\")"
   ]
  },
  {
   "cell_type": "code",
   "execution_count": 202,
   "id": "d0d94b71",
   "metadata": {},
   "outputs": [],
   "source": [
    "from pyspark.sql.window import Window\n",
    "from pyspark.sql.functions import desc\n",
    "\n",
    "windowSpec = Window\\\n",
    ".partitionBy(\"CustomerId\", \"date\")\\\n",
    ".orderBy(desc(\"Quantity\"))\\\n",
    ".rowsBetween(Window.unboundedPreceding, Window.currentRow)\n"
   ]
  },
  {
   "cell_type": "code",
   "execution_count": 203,
   "id": "b5d6e964",
   "metadata": {},
   "outputs": [],
   "source": [
    "from pyspark.sql.functions import max\n",
    "maxPurchaseQuantity = max(col(\"Quantity\")).over(windowSpec)"
   ]
  },
  {
   "cell_type": "code",
   "execution_count": 204,
   "id": "a2598cf1",
   "metadata": {},
   "outputs": [],
   "source": [
    "from pyspark.sql.functions import dense_rank,rank\n",
    "purchaseDenseRank = dense_rank().over(windowSpec)\n",
    "purchaseRank = rank().over(windowSpec)"
   ]
  },
  {
   "cell_type": "code",
   "execution_count": 205,
   "id": "3728bf09",
   "metadata": {},
   "outputs": [
    {
     "name": "stdout",
     "output_type": "stream",
     "text": [
      "+----------+----+--------+------------+-----------------+-------------------+\n",
      "|CustomerId|date|Quantity|quantityRank|quantityDenseRank|maxPurchaseQuantity|\n",
      "+----------+----+--------+------------+-----------------+-------------------+\n",
      "|     12346|null|   74215|           1|                1|              74215|\n",
      "|     12346|null|  -74215|           2|                2|              74215|\n",
      "|     12347|null|     240|           1|                1|                240|\n",
      "|     12347|null|      36|           2|                2|                240|\n",
      "|     12347|null|      36|           2|                2|                240|\n",
      "|     12347|null|      36|           2|                2|                240|\n",
      "|     12347|null|      24|           5|                3|                240|\n",
      "|     12347|null|      24|           5|                3|                240|\n",
      "|     12347|null|      24|           5|                3|                240|\n",
      "|     12347|null|      24|           5|                3|                240|\n",
      "|     12347|null|      24|           5|                3|                240|\n",
      "|     12347|null|      24|           5|                3|                240|\n",
      "|     12347|null|      24|           5|                3|                240|\n",
      "|     12347|null|      24|           5|                3|                240|\n",
      "|     12347|null|      24|           5|                3|                240|\n",
      "|     12347|null|      24|           5|                3|                240|\n",
      "|     12347|null|      24|           5|                3|                240|\n",
      "|     12347|null|      24|           5|                3|                240|\n",
      "|     12347|null|      24|           5|                3|                240|\n",
      "|     12347|null|      24|           5|                3|                240|\n",
      "+----------+----+--------+------------+-----------------+-------------------+\n",
      "only showing top 20 rows\n",
      "\n"
     ]
    }
   ],
   "source": [
    "from pyspark.sql.functions import col\n",
    "dfWithDate.where(\"CustomerId IS NOT NULL\").orderBy(\"CustomerId\")\\\n",
    ".select(\n",
    "col(\"CustomerId\"),\n",
    "col(\"date\"),\n",
    "col(\"Quantity\"),\n",
    "purchaseRank.alias(\"quantityRank\"),\n",
    "purchaseDenseRank.alias(\"quantityDenseRank\"),\n",
    "maxPurchaseQuantity.alias(\"maxPurchaseQuantity\")\n",
    ").show()"
   ]
  },
  {
   "cell_type": "code",
   "execution_count": 206,
   "id": "3ceaa261",
   "metadata": {},
   "outputs": [
    {
     "name": "stdout",
     "output_type": "stream",
     "text": [
      "+----------+----+--------+----+-----+-----------+\n",
      "|CustomerId|date|Quantity|rank|dRank|maxPurchase|\n",
      "+----------+----+--------+----+-----+-----------+\n",
      "|     12346|null|  -74215|   2|    2|      74215|\n",
      "|     12346|null|   74215|   1|    1|      74215|\n",
      "|     12347|null|      24|   5|    3|        240|\n",
      "|     12347|null|      24|   5|    3|        240|\n",
      "|     12347|null|      24|   5|    3|        240|\n",
      "|     12347|null|      36|   2|    2|        240|\n",
      "|     12347|null|      24|   5|    3|        240|\n",
      "|     12347|null|      24|   5|    3|        240|\n",
      "|     12347|null|      24|   5|    3|        240|\n",
      "|     12347|null|     240|   1|    1|        240|\n",
      "|     12347|null|      24|   5|    3|        240|\n",
      "|     12347|null|      24|   5|    3|        240|\n",
      "|     12347|null|      24|   5|    3|        240|\n",
      "|     12347|null|      24|   5|    3|        240|\n",
      "|     12347|null|      24|   5|    3|        240|\n",
      "|     12347|null|      24|   5|    3|        240|\n",
      "|     12347|null|      36|   2|    2|        240|\n",
      "|     12347|null|      24|   5|    3|        240|\n",
      "|     12347|null|      36|   2|    2|        240|\n",
      "|     12347|null|      24|   5|    3|        240|\n",
      "+----------+----+--------+----+-----+-----------+\n",
      "only showing top 20 rows\n",
      "\n"
     ]
    }
   ],
   "source": [
    "spark.sql(\"\"\"SELECT \n",
    "CustomerId, \n",
    "date, \n",
    "Quantity,\n",
    "rank(Quantity) OVER (PARTITION BY CustomerId, date ORDER BY Quantity DESC NULLS LAST ROWS BETWEEN UNBOUNDED PRECEDING AND\n",
    "CURRENT ROW) as rank,\n",
    "dense_rank(Quantity) OVER (PARTITION BY CustomerId, date ORDER BY Quantity DESC NULLS LAST ROWS BETWEEN UNBOUNDED PRECEDING AND\n",
    "CURRENT ROW) as dRank,\n",
    "max(Quantity) OVER (PARTITION BY CustomerId, date ORDER BY Quantity DESC NULLS LAST ROWS BETWEEN UNBOUNDED PRECEDING AND\n",
    "CURRENT ROW) as maxPurchase\n",
    "FROM \n",
    "    dfWithDate \n",
    "WHERE \n",
    "    CustomerId IS NOT NULL ORDER BY CustomerId\"\"\").show()"
   ]
  },
  {
   "cell_type": "markdown",
   "id": "f22a8bda",
   "metadata": {},
   "source": [
    "# Grouping Sets"
   ]
  },
  {
   "cell_type": "code",
   "execution_count": 207,
   "id": "60249865",
   "metadata": {},
   "outputs": [],
   "source": [
    "\"\"\"https://www.waitingforcode.com/apache-spark-sql/grouping-sets-apache-spark-sql/read\"\"\"\n",
    "dfNoNull = dfWithDate.drop()\n",
    "dfNoNull.createOrReplaceTempView(\"dfNoNull\")"
   ]
  },
  {
   "cell_type": "code",
   "execution_count": 208,
   "id": "f87256f1",
   "metadata": {},
   "outputs": [
    {
     "name": "stdout",
     "output_type": "stream",
     "text": [
      "+----------+---------+-------------+\n",
      "|CustomerId|stockCode|sum(Quantity)|\n",
      "+----------+---------+-------------+\n",
      "|     18287|    85173|           48|\n",
      "|     18287|   85040A|           48|\n",
      "|     18287|   85039B|          120|\n",
      "|     18287|   85039A|           96|\n",
      "|     18287|    84920|            4|\n",
      "|     18287|    84584|            6|\n",
      "|     18287|   84507C|            6|\n",
      "|     18287|   72351B|           24|\n",
      "|     18287|   72351A|           24|\n",
      "|     18287|   72349B|           60|\n",
      "|     18287|    47422|           24|\n",
      "|     18287|    47421|           48|\n",
      "|     18287|    35967|           36|\n",
      "|     18287|    23445|           20|\n",
      "|     18287|    23378|           24|\n",
      "|     18287|    23376|           48|\n",
      "|     18287|    23310|           36|\n",
      "|     18287|    23274|           12|\n",
      "|     18287|    23272|           12|\n",
      "|     18287|    23269|           36|\n",
      "+----------+---------+-------------+\n",
      "only showing top 20 rows\n",
      "\n"
     ]
    }
   ],
   "source": [
    "spark.sql(\"\"\"SELECT CustomerId, stockCode, sum(Quantity) FROM dfNoNull\n",
    "GROUP BY customerId, stockCode\n",
    "ORDER BY CustomerId DESC, stockCode DESC\"\"\").show()"
   ]
  },
  {
   "cell_type": "code",
   "execution_count": 209,
   "id": "c27d27b4",
   "metadata": {},
   "outputs": [
    {
     "name": "stdout",
     "output_type": "stream",
     "text": [
      "+----------+---------+-------------+\n",
      "|customerId|stockCode|sum(Quantity)|\n",
      "+----------+---------+-------------+\n",
      "|     18287|    85173|           48|\n",
      "|     18287|   85040A|           48|\n",
      "|     18287|   85039B|          120|\n",
      "|     18287|   85039A|           96|\n",
      "|     18287|    84920|            4|\n",
      "|     18287|    84584|            6|\n",
      "|     18287|   84507C|            6|\n",
      "|     18287|   72351B|           24|\n",
      "|     18287|   72351A|           24|\n",
      "|     18287|   72349B|           60|\n",
      "|     18287|    47422|           24|\n",
      "|     18287|    47421|           48|\n",
      "|     18287|    35967|           36|\n",
      "|     18287|    23445|           20|\n",
      "|     18287|    23378|           24|\n",
      "|     18287|    23376|           48|\n",
      "|     18287|    23310|           36|\n",
      "|     18287|    23274|           12|\n",
      "|     18287|    23272|           12|\n",
      "|     18287|    23269|           36|\n",
      "+----------+---------+-------------+\n",
      "only showing top 20 rows\n",
      "\n"
     ]
    }
   ],
   "source": [
    "spark.sql(\"\"\"SELECT CustomerId, stockCode, sum(Quantity) FROM dfNoNull\n",
    "GROUP BY customerId, stockCode GROUPING SETS((customerId, stockCode))\n",
    "ORDER BY CustomerId DESC, stockCode DESC\"\"\").show()"
   ]
  },
  {
   "cell_type": "markdown",
   "id": "845025d4",
   "metadata": {},
   "source": [
    "# Rollups"
   ]
  },
  {
   "cell_type": "code",
   "execution_count": 210,
   "id": "9bdcb2d4",
   "metadata": {},
   "outputs": [
    {
     "name": "stdout",
     "output_type": "stream",
     "text": [
      "+----------+--------------------+--------------+\n",
      "|      Date|             Country|total_quantity|\n",
      "+----------+--------------------+--------------+\n",
      "|      null|              France|         71048|\n",
      "|      null|             Belgium|         14594|\n",
      "|      null|        Saudi Arabia|            75|\n",
      "|      null|            Portugal|          9292|\n",
      "|      null|             Austria|          3468|\n",
      "|      null|             Lebanon|           386|\n",
      "|      null|             Iceland|          1271|\n",
      "|      null|     Channel Islands|          7219|\n",
      "|      null|      United Kingdom|       2667928|\n",
      "|      null|                null|       5176450|\n",
      "|      null|         Netherlands|        139467|\n",
      "|      null|         Unspecified|          2659|\n",
      "|      null|             Germany|         76234|\n",
      "|      null|              Norway|          8246|\n",
      "|      null|           Hong Kong|          4388|\n",
      "|      null|               Spain|         18918|\n",
      "|      null|           Australia|         71593|\n",
      "|      null|              Poland|          2580|\n",
      "|      null|             Denmark|          5193|\n",
      "|      null|               Italy|          4060|\n",
      "|      null|                EIRE|        100984|\n",
      "|      null|  European Community|           497|\n",
      "|      null|      Czech Republic|           307|\n",
      "|      null|           Singapore|          4635|\n",
      "|      null|              Greece|          1320|\n",
      "|      null|              Israel|          4310|\n",
      "|      null|              Brazil|           356|\n",
      "|      null|         Switzerland|         20980|\n",
      "|      null|              Cyprus|          3724|\n",
      "|      null|                null|       3297071|\n",
      "|      null|               Malta|           776|\n",
      "|      null|United Arab Emirates|           982|\n",
      "|      null|             Bahrain|           206|\n",
      "|      null|                 USA|           137|\n",
      "|      null|             Finland|          6865|\n",
      "|      null|              Canada|          2763|\n",
      "|      null|              Sweden|         23810|\n",
      "|      null|               Japan|         15800|\n",
      "|2010-12-01|                null|         26814|\n",
      "|2010-12-01|         Netherlands|            97|\n",
      "|2010-12-01|           Australia|           107|\n",
      "|2010-12-01|              France|           449|\n",
      "|2010-12-01|              Norway|          1852|\n",
      "|2010-12-01|      United Kingdom|         23949|\n",
      "|2010-12-01|                EIRE|           243|\n",
      "|2010-12-01|             Germany|           117|\n",
      "|2010-12-02|             Germany|           146|\n",
      "|2010-12-02|      United Kingdom|         20873|\n",
      "|2010-12-02|                null|         21023|\n",
      "|2010-12-02|                EIRE|             4|\n",
      "+----------+--------------------+--------------+\n",
      "only showing top 50 rows\n",
      "\n"
     ]
    }
   ],
   "source": [
    "\"\"\"A rollup is a multidimensional aggregation that performs a variety of group-by style calculations\n",
    "for us.\"\"\"\n",
    "rolledUpDF = dfNoNull.rollup(\"Date\",\"Country\").agg(sum(\"Quantity\"))\\\n",
    ".selectExpr(\"Date\",\"Country\",\"`sum(Quantity)` as total_quantity\").orderBy(\"Date\")\n",
    "\n",
    "rolledUpDF.show(50)"
   ]
  },
  {
   "cell_type": "code",
   "execution_count": 211,
   "id": "06757b09",
   "metadata": {},
   "outputs": [
    {
     "name": "stdout",
     "output_type": "stream",
     "text": [
      "+---------+---------+--------------------+--------+--------------+---------+----------+--------------+----+\n",
      "|InvoiceNo|StockCode|         Description|Quantity|   InvoiceDate|UnitPrice|CustomerID|       Country|date|\n",
      "+---------+---------+--------------------+--------+--------------+---------+----------+--------------+----+\n",
      "|   539993|    22386|JUMBO BAG PINK PO...|      10|1/4/2011 10:00|     1.95|     13313|United Kingdom|null|\n",
      "|   539993|    21499|  BLUE POLKADOT WRAP|      25|1/4/2011 10:00|     0.42|     13313|United Kingdom|null|\n",
      "|   539993|    21498| RED RETROSPOT WRAP |      25|1/4/2011 10:00|     0.42|     13313|United Kingdom|null|\n",
      "|   539993|    22379|RECYCLING BAG RET...|       5|1/4/2011 10:00|      2.1|     13313|United Kingdom|null|\n",
      "|   539993|    20718|RED RETROSPOT SHO...|      10|1/4/2011 10:00|     1.25|     13313|United Kingdom|null|\n",
      "|   539993|   85099B|JUMBO BAG RED RET...|      10|1/4/2011 10:00|     1.95|     13313|United Kingdom|null|\n",
      "|   539993|    20682|RED RETROSPOT CHI...|       6|1/4/2011 10:00|     3.25|     13313|United Kingdom|null|\n",
      "|   539993|    22961|JAM MAKING SET PR...|      12|1/4/2011 10:00|     1.45|     13313|United Kingdom|null|\n",
      "|   539993|    22667|RECIPE BOX RETROS...|       6|1/4/2011 10:00|     2.95|     13313|United Kingdom|null|\n",
      "|   539993|    22898|CHILDRENS APRON A...|       8|1/4/2011 10:00|     1.95|     13313|United Kingdom|null|\n",
      "|   539993|    22896|PEG BAG APPLES DE...|       6|1/4/2011 10:00|     2.55|     13313|United Kingdom|null|\n",
      "|   539993|    22303|COFFEE MUG APPLES...|       6|1/4/2011 10:00|     2.55|     13313|United Kingdom|null|\n",
      "|   539993|    22302|COFFEE MUG PEARS ...|       6|1/4/2011 10:00|     2.55|     13313|United Kingdom|null|\n",
      "|   539993|   85123A|WHITE HANGING HEA...|      12|1/4/2011 10:00|     2.95|     13313|United Kingdom|null|\n",
      "|   539993|    22808|SET OF 6 T-LIGHTS...|      12|1/4/2011 10:00|     2.95|     13313|United Kingdom|null|\n",
      "|   539993|    22458|CAST IRON HOOK GA...|       8|1/4/2011 10:00|     2.55|     13313|United Kingdom|null|\n",
      "|   539993|    22862|LOVE HEART NAPKIN...|       4|1/4/2011 10:00|     4.25|     13313|United Kingdom|null|\n",
      "|   539994|    22830|                null|      -1|1/4/2011 10:09|      0.0|      null|United Kingdom|null|\n",
      "|   539995|    85064|                null|     -12|1/4/2011 10:12|      0.0|      null|United Kingdom|null|\n",
      "|   539996|    21784|                null|     -10|1/4/2011 10:12|      0.0|      null|United Kingdom|null|\n",
      "+---------+---------+--------------------+--------+--------------+---------+----------+--------------+----+\n",
      "only showing top 20 rows\n",
      "\n"
     ]
    }
   ],
   "source": [
    "dfNoNull.where(\"date is null\").show()"
   ]
  },
  {
   "cell_type": "code",
   "execution_count": 212,
   "id": "96d841d2",
   "metadata": {},
   "outputs": [
    {
     "name": "stdout",
     "output_type": "stream",
     "text": [
      "+----------+-------+--------------+\n",
      "|      Date|Country|total_quantity|\n",
      "+----------+-------+--------------+\n",
      "|      null|   null|       3297071|\n",
      "|      null|   null|       5176450|\n",
      "|2010-12-01|   null|         26814|\n",
      "|2010-12-02|   null|         21023|\n",
      "|2010-12-03|   null|         14830|\n",
      "|2010-12-05|   null|         16395|\n",
      "|2010-12-06|   null|         21419|\n",
      "|2010-12-07|   null|         24995|\n",
      "|2010-12-08|   null|         22741|\n",
      "|2010-12-09|   null|         18431|\n",
      "|2010-12-10|   null|         20297|\n",
      "|2010-12-12|   null|         10565|\n",
      "|2010-12-13|   null|         17623|\n",
      "|2010-12-14|   null|         20098|\n",
      "|2010-12-15|   null|         18229|\n",
      "|2010-12-16|   null|         29632|\n",
      "|2010-12-17|   null|         16069|\n",
      "|2010-12-19|   null|          3795|\n",
      "|2010-12-20|   null|         14965|\n",
      "|2010-12-21|   null|         15467|\n",
      "+----------+-------+--------------+\n",
      "only showing top 20 rows\n",
      "\n"
     ]
    }
   ],
   "source": [
    "rolledUpDF.where(\"Country is NULL\").show()"
   ]
  },
  {
   "cell_type": "code",
   "execution_count": 213,
   "id": "1c6efec0",
   "metadata": {},
   "outputs": [
    {
     "name": "stdout",
     "output_type": "stream",
     "text": [
      "+----+--------------------+--------------+\n",
      "|Date|             Country|total_quantity|\n",
      "+----+--------------------+--------------+\n",
      "|null|            Portugal|          9292|\n",
      "|null|             Bahrain|           206|\n",
      "|null|           Australia|         71593|\n",
      "|null|               Spain|         18918|\n",
      "|null|              Greece|          1320|\n",
      "|null|           Singapore|          4635|\n",
      "|null|              Norway|          8246|\n",
      "|null|        Saudi Arabia|            75|\n",
      "|null|              Canada|          2763|\n",
      "|null|                null|       3297071|\n",
      "|null|              Israel|          4310|\n",
      "|null|              Poland|          2580|\n",
      "|null|                 USA|           137|\n",
      "|null|  European Community|           497|\n",
      "|null|                null|       5176450|\n",
      "|null|              France|         71048|\n",
      "|null|               Japan|         15800|\n",
      "|null|United Arab Emirates|           982|\n",
      "|null|         Unspecified|          2659|\n",
      "|null|              Sweden|         23810|\n",
      "+----+--------------------+--------------+\n",
      "only showing top 20 rows\n",
      "\n"
     ]
    }
   ],
   "source": [
    "rolledUpDF.where(\"Date is null\").show()"
   ]
  },
  {
   "cell_type": "markdown",
   "id": "a2ff8103",
   "metadata": {},
   "source": [
    "# Cube"
   ]
  },
  {
   "cell_type": "code",
   "execution_count": 214,
   "id": "20bc9db5",
   "metadata": {},
   "outputs": [
    {
     "name": "stdout",
     "output_type": "stream",
     "text": [
      "+----+--------------------+-------------+\n",
      "|Date|             Country|sum(Quantity)|\n",
      "+----+--------------------+-------------+\n",
      "|null|              Norway|        19247|\n",
      "|null|             Germany|        76234|\n",
      "|null|           Lithuania|          652|\n",
      "|null|              Sweden|        23810|\n",
      "|null|               Italy|         4060|\n",
      "|null|             Bahrain|          260|\n",
      "|null|                null|      5176450|\n",
      "|null|               Spain|        26824|\n",
      "|null|               Italy|         7999|\n",
      "|null|              Poland|         3653|\n",
      "|null|United Arab Emirates|          982|\n",
      "|null|        Saudi Arabia|           75|\n",
      "|null|         Unspecified|         2659|\n",
      "|null|              France|        71048|\n",
      "|null|             Belgium|        23152|\n",
      "|null|               Japan|        15800|\n",
      "|null|     Channel Islands|         9479|\n",
      "|null|           Singapore|         5234|\n",
      "|null|             Finland|        10666|\n",
      "|null|United Arab Emirates|          982|\n",
      "+----+--------------------+-------------+\n",
      "only showing top 20 rows\n",
      "\n"
     ]
    }
   ],
   "source": [
    "\"\"\"https://www.mikulskibartosz.name/cube-and-rollup-in-apache-spark/\"\"\"\n",
    "from pyspark.sql.functions import sum\n",
    "dfNoNull.cube(\"Date\",\"Country\").agg(sum(col(\"Quantity\")))\\\n",
    ".select(\"Date\",\"Country\",\"sum(Quantity)\").orderBy(\"Date\").show()"
   ]
  },
  {
   "cell_type": "markdown",
   "id": "582a813f",
   "metadata": {},
   "source": [
    "# Group MetaData"
   ]
  },
  {
   "cell_type": "code",
   "execution_count": 215,
   "id": "d798c76a",
   "metadata": {},
   "outputs": [
    {
     "data": {
      "text/plain": [
       "'from pyspark.sql.functions import grouping_id,sum,expr\\n\\ndfNoNull.cube(\"customerId\", \"stockCode\").agg(grouping_id(),sum(\"Quantity\")).orderBy(expr(\"grouping_id()\").desc).show()'"
      ]
     },
     "execution_count": 215,
     "metadata": {},
     "output_type": "execute_result"
    }
   ],
   "source": [
    "\"\"\"from pyspark.sql.functions import grouping_id,sum,expr\n",
    "\n",
    "dfNoNull.cube(\"customerId\", \"stockCode\").agg(grouping_id(),sum(\"Quantity\")).orderBy(expr(\"grouping_id()\").desc).show()\"\"\""
   ]
  },
  {
   "cell_type": "markdown",
   "id": "cb6fa951",
   "metadata": {},
   "source": [
    "# Pivot"
   ]
  },
  {
   "cell_type": "code",
   "execution_count": 216,
   "id": "4e002f24",
   "metadata": {},
   "outputs": [
    {
     "name": "stdout",
     "output_type": "stream",
     "text": [
      "+----------+---------------------------------------+------------------------+-----------------------------------------+-------------------------------------+----------------------+---------------------------------------+-------------------------------------+----------------------+---------------------------------------+-------------------------------------+----------------------+---------------------------------------+------------------------------------+---------------------+--------------------------------------+------------------------------------+---------------------+--------------------------------------+---------------------------------------------+------------------------------+-----------------------------------------------+------------------------------------+---------------------+--------------------------------------+--------------------------------------------+-----------------------------+----------------------------------------------+-------------------------------------+----------------------+---------------------------------------+----------------------------------+-------------------+------------------------------------+------------------------------------------------+---------------------------------+--------------------------------------------------+-------------------------------------+----------------------+---------------------------------------+------------------------------------+---------------------+--------------------------------------+-------------------------------------+----------------------+---------------------------------------+------------------------------------+---------------------+--------------------------------------+---------------------------------------+------------------------+-----------------------------------------+-------------------------------------+----------------------+---------------------------------------+------------------------------------+---------------------+--------------------------------------+-----------------------------------+--------------------+-------------------------------------+-----------------------------------+--------------------+-------------------------------------+-------------------------------------+----------------------+---------------------------------------+---------------------------------------+------------------------+-----------------------------------------+-----------------------------------+--------------------+-------------------------------------+-----------------------------------------+--------------------------+-------------------------------------------+------------------------------------+---------------------+--------------------------------------+------------------------------------+---------------------+--------------------------------------+--------------------------------------+-----------------------+----------------------------------------+---------------------------------+------------------+-----------------------------------+------------------------------------------+---------------------------+--------------------------------------------+---------------------------------------+------------------------+-----------------------------------------+-----------------------------------+--------------------+-------------------------------------+------------------------------------+---------------------+--------------------------------------+-----------------------------------------+--------------------------+-------------------------------------------+---------------------------------+------------------+-----------------------------------+--------------------------------------------------+-----------------------------------+----------------------------------------------------+--------------------------------------------+-----------------------------+----------------------------------------------+-----------------------------------------+--------------------------+-------------------------------------------+\n",
      "|      date|Australia_sum(CAST(Quantity AS BIGINT))|Australia_sum(UnitPrice)|Australia_sum(CAST(CustomerID AS BIGINT))|Austria_sum(CAST(Quantity AS BIGINT))|Austria_sum(UnitPrice)|Austria_sum(CAST(CustomerID AS BIGINT))|Bahrain_sum(CAST(Quantity AS BIGINT))|Bahrain_sum(UnitPrice)|Bahrain_sum(CAST(CustomerID AS BIGINT))|Belgium_sum(CAST(Quantity AS BIGINT))|Belgium_sum(UnitPrice)|Belgium_sum(CAST(CustomerID AS BIGINT))|Brazil_sum(CAST(Quantity AS BIGINT))|Brazil_sum(UnitPrice)|Brazil_sum(CAST(CustomerID AS BIGINT))|Canada_sum(CAST(Quantity AS BIGINT))|Canada_sum(UnitPrice)|Canada_sum(CAST(CustomerID AS BIGINT))|Channel Islands_sum(CAST(Quantity AS BIGINT))|Channel Islands_sum(UnitPrice)|Channel Islands_sum(CAST(CustomerID AS BIGINT))|Cyprus_sum(CAST(Quantity AS BIGINT))|Cyprus_sum(UnitPrice)|Cyprus_sum(CAST(CustomerID AS BIGINT))|Czech Republic_sum(CAST(Quantity AS BIGINT))|Czech Republic_sum(UnitPrice)|Czech Republic_sum(CAST(CustomerID AS BIGINT))|Denmark_sum(CAST(Quantity AS BIGINT))|Denmark_sum(UnitPrice)|Denmark_sum(CAST(CustomerID AS BIGINT))|EIRE_sum(CAST(Quantity AS BIGINT))|EIRE_sum(UnitPrice)|EIRE_sum(CAST(CustomerID AS BIGINT))|European Community_sum(CAST(Quantity AS BIGINT))|European Community_sum(UnitPrice)|European Community_sum(CAST(CustomerID AS BIGINT))|Finland_sum(CAST(Quantity AS BIGINT))|Finland_sum(UnitPrice)|Finland_sum(CAST(CustomerID AS BIGINT))|France_sum(CAST(Quantity AS BIGINT))|France_sum(UnitPrice)|France_sum(CAST(CustomerID AS BIGINT))|Germany_sum(CAST(Quantity AS BIGINT))|Germany_sum(UnitPrice)|Germany_sum(CAST(CustomerID AS BIGINT))|Greece_sum(CAST(Quantity AS BIGINT))|Greece_sum(UnitPrice)|Greece_sum(CAST(CustomerID AS BIGINT))|Hong Kong_sum(CAST(Quantity AS BIGINT))|Hong Kong_sum(UnitPrice)|Hong Kong_sum(CAST(CustomerID AS BIGINT))|Iceland_sum(CAST(Quantity AS BIGINT))|Iceland_sum(UnitPrice)|Iceland_sum(CAST(CustomerID AS BIGINT))|Israel_sum(CAST(Quantity AS BIGINT))|Israel_sum(UnitPrice)|Israel_sum(CAST(CustomerID AS BIGINT))|Italy_sum(CAST(Quantity AS BIGINT))|Italy_sum(UnitPrice)|Italy_sum(CAST(CustomerID AS BIGINT))|Japan_sum(CAST(Quantity AS BIGINT))|Japan_sum(UnitPrice)|Japan_sum(CAST(CustomerID AS BIGINT))|Lebanon_sum(CAST(Quantity AS BIGINT))|Lebanon_sum(UnitPrice)|Lebanon_sum(CAST(CustomerID AS BIGINT))|Lithuania_sum(CAST(Quantity AS BIGINT))|Lithuania_sum(UnitPrice)|Lithuania_sum(CAST(CustomerID AS BIGINT))|Malta_sum(CAST(Quantity AS BIGINT))|Malta_sum(UnitPrice)|Malta_sum(CAST(CustomerID AS BIGINT))|Netherlands_sum(CAST(Quantity AS BIGINT))|Netherlands_sum(UnitPrice)|Netherlands_sum(CAST(CustomerID AS BIGINT))|Norway_sum(CAST(Quantity AS BIGINT))|Norway_sum(UnitPrice)|Norway_sum(CAST(CustomerID AS BIGINT))|Poland_sum(CAST(Quantity AS BIGINT))|Poland_sum(UnitPrice)|Poland_sum(CAST(CustomerID AS BIGINT))|Portugal_sum(CAST(Quantity AS BIGINT))|Portugal_sum(UnitPrice)|Portugal_sum(CAST(CustomerID AS BIGINT))|RSA_sum(CAST(Quantity AS BIGINT))|RSA_sum(UnitPrice)|RSA_sum(CAST(CustomerID AS BIGINT))|Saudi Arabia_sum(CAST(Quantity AS BIGINT))|Saudi Arabia_sum(UnitPrice)|Saudi Arabia_sum(CAST(CustomerID AS BIGINT))|Singapore_sum(CAST(Quantity AS BIGINT))|Singapore_sum(UnitPrice)|Singapore_sum(CAST(CustomerID AS BIGINT))|Spain_sum(CAST(Quantity AS BIGINT))|Spain_sum(UnitPrice)|Spain_sum(CAST(CustomerID AS BIGINT))|Sweden_sum(CAST(Quantity AS BIGINT))|Sweden_sum(UnitPrice)|Sweden_sum(CAST(CustomerID AS BIGINT))|Switzerland_sum(CAST(Quantity AS BIGINT))|Switzerland_sum(UnitPrice)|Switzerland_sum(CAST(CustomerID AS BIGINT))|USA_sum(CAST(Quantity AS BIGINT))|USA_sum(UnitPrice)|USA_sum(CAST(CustomerID AS BIGINT))|United Arab Emirates_sum(CAST(Quantity AS BIGINT))|United Arab Emirates_sum(UnitPrice)|United Arab Emirates_sum(CAST(CustomerID AS BIGINT))|United Kingdom_sum(CAST(Quantity AS BIGINT))|United Kingdom_sum(UnitPrice)|United Kingdom_sum(CAST(CustomerID AS BIGINT))|Unspecified_sum(CAST(Quantity AS BIGINT))|Unspecified_sum(UnitPrice)|Unspecified_sum(CAST(CustomerID AS BIGINT))|\n",
      "+----------+---------------------------------------+------------------------+-----------------------------------------+-------------------------------------+----------------------+---------------------------------------+-------------------------------------+----------------------+---------------------------------------+-------------------------------------+----------------------+---------------------------------------+------------------------------------+---------------------+--------------------------------------+------------------------------------+---------------------+--------------------------------------+---------------------------------------------+------------------------------+-----------------------------------------------+------------------------------------+---------------------+--------------------------------------+--------------------------------------------+-----------------------------+----------------------------------------------+-------------------------------------+----------------------+---------------------------------------+----------------------------------+-------------------+------------------------------------+------------------------------------------------+---------------------------------+--------------------------------------------------+-------------------------------------+----------------------+---------------------------------------+------------------------------------+---------------------+--------------------------------------+-------------------------------------+----------------------+---------------------------------------+------------------------------------+---------------------+--------------------------------------+---------------------------------------+------------------------+-----------------------------------------+-------------------------------------+----------------------+---------------------------------------+------------------------------------+---------------------+--------------------------------------+-----------------------------------+--------------------+-------------------------------------+-----------------------------------+--------------------+-------------------------------------+-------------------------------------+----------------------+---------------------------------------+---------------------------------------+------------------------+-----------------------------------------+-----------------------------------+--------------------+-------------------------------------+-----------------------------------------+--------------------------+-------------------------------------------+------------------------------------+---------------------+--------------------------------------+------------------------------------+---------------------+--------------------------------------+--------------------------------------+-----------------------+----------------------------------------+---------------------------------+------------------+-----------------------------------+------------------------------------------+---------------------------+--------------------------------------------+---------------------------------------+------------------------+-----------------------------------------+-----------------------------------+--------------------+-------------------------------------+------------------------------------+---------------------+--------------------------------------+-----------------------------------------+--------------------------+-------------------------------------------+---------------------------------+------------------+-----------------------------------+--------------------------------------------------+-----------------------------------+----------------------------------------------------+--------------------------------------------+-----------------------------+----------------------------------------------+-----------------------------------------+--------------------------+-------------------------------------------+\n",
      "|2010-12-06|                                   null|                    null|                                     null|                                 null|                  null|                                   null|                                 null|                  null|                                   null|                                 null|                  null|                                   null|                                null|                 null|                                  null|                                null|                 null|                                  null|                                         null|                          null|                                           null|                                null|                 null|                                  null|                                        null|                         null|                                          null|                                 null|                  null|                                   null|                               614| 215.39999999999995|                              536796|                                            null|                             null|                                              null|                                 null|                  null|                                   null|                                null|                 null|                                  null|                                   85|                 56.83|                                 190386|                                null|                 null|                                  null|                                   null|                    null|                                     null|                                 null|                  null|                                   null|                                null|                 null|                                  null|                                 -2|                 8.5|                                12586|                               null|                null|                                 null|                                 null|                  null|                                   null|                                   null|                    null|                                     null|                               null|                null|                                 null|                                     null|                      null|                                       null|                                null|                 null|                                  null|                                null|                 null|                                  null|                                    53|                   40.1|                                   89656|                             null|              null|                               null|                                      null|                       null|                                        null|                                   null|                    null|                                     null|                               null|                null|                                 null|                                null|                 null|                                  null|                                     null|                      null|                                       null|                             null|              null|                               null|                                              null|                               null|                                                null|                                       20669|            17357.95000000037|                                      30579854|                                     null|                      null|                                       null|\n",
      "|2011-10-04|                                   null|                    null|                                     null|                                 null|                  null|                                   null|                                 null|                  null|                                   null|                                  118|     69.00999999999999|                                 210715|                                null|                 null|                                  null|                                null|                 null|                                  null|                                         null|                          null|                                           null|                                   0|                 11.9|                                 24914|                                        null|                         null|                                          null|                                 null|                  null|                                   null|                              null|               null|                                null|                                            null|                             null|                                              null|                                   73|                 43.75|                                  25328|                                 115|    70.24000000000001|                                187605|                                   -3|     4.970000000000001|                                  25410|                                null|                 null|                                  null|                                     -1|                   10.95|                                     null|                                 null|                  null|                                   null|                                  99|    87.70000000000002|                                425408|                               null|                null|                                 null|                               null|                null|                                 null|                                 null|                  null|                                   null|                                   null|                    null|                                     null|                               null|                null|                                 null|                                     null|                      null|                                       null|                                null|                 null|                                  null|                                null|                 null|                                  null|                                  null|                   null|                                    null|                             null|              null|                               null|                                      null|                       null|                                        null|                                   null|                    null|                                     null|                                -16|                1.25|                                12546|                                null|                 null|                                  null|                                     null|                      null|                                       null|                             null|              null|                               null|                                              null|                               null|                                                null|                                       18304|            9879.139999999885|                                      30839562|                                     null|                      null|                                       null|\n",
      "|2011-10-26|                                   null|                    null|                                     null|                                 null|                  null|                                   null|                                 null|                  null|                                   null|                                  213|    220.35999999999996|                                 407946|                                null|                 null|                                  null|                                null|                 null|                                  null|                                         null|                          null|                                           null|                                null|                 null|                                  null|                                        null|                         null|                                          null|                                 null|                  null|                                   null|                              null|               null|                                null|                                            null|                             null|                                              null|                                 null|                  null|                                   null|                                null|                 null|                                  null|                                   24|     68.32000000000001|                                  87983|                                null|                 null|                                  null|                                   null|                    null|                                     null|                                 null|                  null|                                   null|                                null|                 null|                                  null|                                 -6|               22.05|                                50336|                               1124|               32.82|                               204978|                                 null|                  null|                                   null|                                   null|                    null|                                     null|                               null|                null|                                 null|                                     null|                      null|                                       null|                                null|                 null|                                  null|                                null|                 null|                                  null|                                  null|                   null|                                    null|                             null|              null|                               null|                                      null|                       null|                                        null|                                   null|                    null|                                     null|                                243|              130.94|                               273856|                                null|                 null|                                  null|                                      569|        164.56000000000003|                                     498155|                             null|              null|                               null|                                              null|                               null|                                                null|                                       18698|            6694.459999999975|                                      25430258|                                     null|                      null|                                       null|\n",
      "|2011-10-28|                                   null|                    null|                                     null|                                 null|                  null|                                   null|                                 null|                  null|                                   null|                                  168|                136.44|                                 333774|                                null|                 null|                                  null|                                null|                 null|                                  null|                                         null|                          null|                                           null|                                null|                 null|                                  null|                                        null|                         null|                                          null|                                 null|                  null|                                   null|                              null|               null|                                null|                                            null|                             null|                                              null|                                 null|                  null|                                   null|                                5246|               257.26|                                798693|                                  535|    191.81999999999994|                                 656815|                                null|                 null|                                  null|                                    146|                   18.75|                                     null|                                 null|                  null|                                   null|                                null|                 null|                                  null|                               null|                null|                                 null|                               null|                null|                                 null|                                 null|                  null|                                   null|                                   null|                    null|                                     null|                               null|                null|                                 null|                                     null|                      null|                                       null|                                 374|    91.78000000000002|                                397824|                                null|                 null|                                  null|                                  null|                   null|                                    null|                             null|              null|                               null|                                      null|                       null|                                        null|                                   null|                    null|                                     null|                               null|                null|                                 null|                                null|                 null|                                  null|                                      334|        136.57999999999998|                                       null|                             null|              null|                               null|                                              null|                               null|                                                null|                                       17042|            5012.979999999984|                                      19543937|                                     null|                      null|                                       null|\n",
      "|2011-10-30|                                   null|                    null|                                     null|                                 null|                  null|                                   null|                                 null|                  null|                                   null|                                  268|                 43.33|                                 272008|                                null|                 null|                                  null|                                null|                 null|                                  null|                                         null|                          null|                                           null|                                null|                 null|                                  null|                                        null|                         null|                                          null|                                 null|                  null|                                   null|                               185| 115.49999999999999|                              313131|                                            null|                             null|                                              null|                                 null|                  null|                                   null|                                 209|    44.61000000000001|                                187410|                                 null|                  null|                                   null|                                null|                 null|                                  null|                                   null|                    null|                                     null|                                 null|                  null|                                   null|                                null|                 null|                                  null|                                 62|               91.65|                               151008|                               null|                null|                                 null|                                 null|                  null|                                   null|                                   null|                    null|                                     null|                               null|                null|                                 null|                                     null|                      null|                                       null|                                null|                 null|                                  null|                                null|                 null|                                  null|                                  null|                   null|                                    null|                             null|              null|                               null|                                      null|                       null|                                        null|                                   null|                    null|                                     null|                               1484|   377.7499999999997|                              1461252|                                 198|    79.49000000000001|                                199728|                                     null|                      null|                                       null|                             null|              null|                               null|                                              null|                               null|                                                null|                                       17656|            6795.109999999924|                                      40960180|                                     null|                      null|                                       null|\n",
      "|2011-11-10|                                   null|                    null|                                     null|                                 null|                  null|                                   null|                                 null|                  null|                                   null|                                   -1|                 19.95|                                  12417|                                null|                 null|                                  null|                                null|                 null|                                  null|                                         null|                          null|                                           null|                                null|                 null|                                  null|                                        null|                         null|                                          null|                                 null|                  null|                                   null|                               496|             208.67|                              715728|                                            null|                             null|                                              null|                                 null|                  null|                                   null|                                1347|    388.0399999999999|                               2028507|                                  142|                2134.8|                                 345220|                                null|                 null|                                  null|                                   null|                    null|                                     null|                                 null|                  null|                                   null|                                null|                 null|                                  null|                               null|                null|                                 null|                               null|                null|                                 null|                                 null|                  null|                                   null|                                   null|                    null|                                     null|                               null|                null|                                 null|                                     7786|        169.98000000000002|                                     951990|                                null|                 null|                                  null|                                null|                 null|                                  null|                                  null|                   null|                                    null|                             null|              null|                               null|                                      null|                       null|                                        null|                                   null|                    null|                                     null|                                448|  168.89999999999992|                               576826|                                null|                 null|                                  null|                                     null|                      null|                                       null|                             null|              null|                               null|                                              null|                               null|                                                null|                                       27859|           10281.160000000044|                                      44273815|                                     null|                      null|                                       null|\n",
      "|2011-11-29|                                   null|                    null|                                     null|                                 null|                  null|                                   null|                                 null|                  null|                                   null|                                   21|                  61.9|                                  62320|                                null|                 null|                                  null|                                null|                 null|                                  null|                                         null|                          null|                                           null|                                null|                 null|                                  null|                                        null|                         null|                                          null|                                 null|                  null|                                   null|                              null|               null|                                null|                                            null|                             null|                                              null|                                   91|                  50.4|                                  74250|                                 645|   132.69000000000003|                                470101|                                  639|    172.52999999999997|                                 653931|                                null|                 null|                                  null|                                   null|                    null|                                     null|                                 null|                  null|                                   null|                                null|                 null|                                  null|                               null|                null|                                 null|                               2040|                1.79|                                12798|                                 null|                  null|                                   null|                                   null|                    null|                                     null|                               null|                null|                                 null|                                     null|                      null|                                       null|                                null|                 null|                                  null|                                null|                 null|                                  null|                                  null|                   null|                                    null|                             null|              null|                               null|                                      null|                       null|                                        null|                                   null|                    null|                                     null|                                117|   69.02999999999999|                               530007|                                null|                 null|                                  null|                                      151|         82.71000000000001|                                     186765|                             null|              null|                               null|                                              null|                               null|                                                null|                                       26807|           18226.609999999917|                                      39227852|                                     null|                      null|                                       null|\n",
      "|2011-12-07|                                   null|                    null|                                     null|                                 null|                  null|                                   null|                                 null|                  null|                                   null|                                 null|                  null|                                   null|                                null|                 null|                                  null|                                null|                 null|                                  null|                                         null|                          null|                                           null|                                null|                 null|                                  null|                                        null|                         null|                                          null|                                 null|                  null|                                   null|                              1998|  538.6899999999995|                             2475226|                                            null|                             null|                                              null|                                   -1|                  2.08|                                  12375|                                 561|   136.98000000000002|                                491377|                                 1220|                460.33|                                 904113|                                null|                 null|                                  null|                                   null|                    null|                                     null|                                  192|                 13.54|                                 135817|                                null|                 null|                                  null|                               null|                null|                                 null|                               null|                null|                                 null|                                 null|                  null|                                   null|                                   null|                    null|                                     null|                               null|                null|                                 null|                                     7818|                     199.6|                                    1244910|                                null|                 null|                                  null|                                null|                 null|                                  null|                                   139|                  86.18|                                  230096|                             null|              null|                               null|                                      null|                       null|                                        null|                                   null|                    null|                                     null|                                 74|  110.40000000000003|                               980913|                                null|                 null|                                  null|                                     null|                      null|                                       null|                             null|              null|                               null|                                              null|                               null|                                                null|                                       27611|            7501.389999999952|                                      27478726|                                     null|                      null|                                       null|\n",
      "|2010-12-12|                                   null|                    null|                                     null|                                 null|                  null|                                   null|                                 null|                  null|                                   null|                                 null|                  null|                                   null|                                null|                 null|                                  null|                                null|                 null|                                  null|                                         null|                          null|                                           null|                                null|                 null|                                  null|                                        null|                         null|                                          null|                                 null|                  null|                                   null|                              null|               null|                                null|                                            null|                             null|                                              null|                                 null|                  null|                                   null|                                null|                 null|                                  null|                                 null|                  null|                                   null|                                null|                 null|                                  null|                                   null|                    null|                                     null|                                 null|                  null|                                   null|                                null|                 null|                                  null|                               null|                null|                                 null|                               2409|   91.96000000000001|                               612144|                                 null|                  null|                                   null|                                   null|                    null|                                     null|                               null|                null|                                 null|                                     null|                      null|                                       null|                                null|                 null|                                  null|                                null|                 null|                                  null|                                  null|                   null|                                    null|                             null|              null|                               null|                                      null|                       null|                                        null|                                   null|                    null|                                     null|                               null|                null|                                 null|                                null|                 null|                                  null|                                     null|                      null|                                       null|                             null|              null|                               null|                                              null|                               null|                                                null|                                        8156|            3874.269999999973|                                      22341512|                                     null|                      null|                                       null|\n",
      "|2011-11-02|                                     96|                    4.34|                                    24830|                                 null|                  null|                                   null|                                 null|                  null|                                   null|                                 null|                  null|                                   null|                                null|                 null|                                  null|                                null|                 null|                                  null|                                         null|                          null|                                           null|                                null|                 null|                                  null|                                        null|                         null|                                          null|                                 null|                  null|                                   null|                                -2|              16.75|                               29822|                                            null|                             null|                                              null|                                 null|                  null|                                   null|                                 291|                80.48|                                274780|                                   52|                 64.28|                                 151668|                                null|                 null|                                  null|                                   null|                    null|                                     null|                                 null|                  null|                                   null|                                null|                 null|                                  null|                                 48|                1.79|                                12594|                               null|                null|                                 null|                                 null|                  null|                                   null|                                   null|                    null|                                     null|                               null|                null|                                 null|                                     2732|        137.43000000000004|                                    1025220|                                null|                 null|                                  null|                                 639|   140.76999999999998|                                575055|                                  null|                   null|                                    null|                             null|              null|                               null|                                      null|                       null|                                        null|                                   null|                    null|                                     null|                               null|                null|                                 null|                                null|                 null|                                  null|                                     null|                      null|                                       null|                             null|              null|                               null|                                              null|                               null|                                                null|                                       24463|            8872.600000000024|                                      26250894|                                     null|                      null|                                       null|\n",
      "|2011-11-11|                                   null|                    null|                                     null|                                 null|                  null|                                   null|                                 null|                  null|                                   null|                                 null|                  null|                                   null|                                null|                 null|                                  null|                                null|                 null|                                  null|                                         null|                          null|                                           null|                                null|                 null|                                  null|                                        null|                         null|                                          null|                                 null|                  null|                                   null|                              1252|  329.0599999999998|                             1239689|                                            null|                             null|                                              null|                                 null|                  null|                                   null|                                1836|   325.48999999999984|                               1253685|                                 1575|     543.2899999999995|                                2284731|                                null|                 null|                                  null|                                   null|                    null|                                     null|                                 null|                  null|                                   null|                                null|                 null|                                  null|                               null|                null|                                 null|                               null|                null|                                 null|                                 null|                  null|                                   null|                                   null|                    null|                                     null|                               null|                null|                                 null|                                     null|                      null|                                       null|                                null|                 null|                                  null|                                null|                 null|                                  null|                                   166|     14.610000000000001|                                   89299|                             null|              null|                               null|                                      null|                       null|                                        null|                                   null|                    null|                                     null|                               null|                null|                                 null|                                 149|    66.49000000000001|                                152364|                                       64|                    103.61|                                     160992|                             null|              null|                               null|                                              null|                               null|                                                null|                                       23471|           12733.999999999915|                                      31952187|                                     null|                      null|                                       null|\n",
      "|2011-11-24|                                    224|                   17.08|                                    99104|                                 null|                  null|                                   null|                                 null|                  null|                                   null|                                   -1|                  2.55|                                  12395|                                null|                 null|                                  null|                                null|                 null|                                  null|                                         null|                          null|                                           null|                                null|                 null|                                  null|                                        null|                         null|                                          null|                                 null|                  null|                                   null|                               143|              82.43|                              149110|                                            null|                             null|                                              null|                                 null|                  null|                                   null|                                 599|    532.5499999999997|                               1979167|                                 1930|     540.6399999999995|                                1708921|                                null|                 null|                                  null|                                   null|                    null|                                     null|                                 null|                  null|                                   null|                                null|                 null|                                  null|                               null|                null|                                 null|                               null|                null|                                 null|                                 null|                  null|                                   null|                                   null|                    null|                                     null|                               null|                null|                                 null|                                     null|                      null|                                       null|                                null|                 null|                                  null|                                null|                 null|                                  null|                                   458|                 198.19|                                  945584|                             null|              null|                               null|                                      null|                       null|                                        null|                                   null|                    null|                                     null|                                 77|               48.34|                               111789|                                null|                 null|                                  null|                                     null|                      null|                                       null|                             null|              null|                               null|                                              null|                               null|                                                null|                                       19860|           12055.300000000147|                                      33509022|                                      453|                     71.65|                                       null|\n",
      "|2011-12-01|                                   null|                    null|                                     null|                                 null|                  null|                                   null|                                 null|                  null|                                   null|                                 null|                  null|                                   null|                                null|                 null|                                  null|                                null|                 null|                                  null|                                         null|                          null|                                           null|                                null|                 null|                                  null|                                        null|                         null|                                          null|                                 null|                  null|                                   null|                               562|             296.28|                              521885|                                            null|                             null|                                              null|                                  218|                 51.25|                                  50656|                                 492|   102.43000000000004|                                401894|                                  247|    150.13000000000002|                                 427418|                                null|                 null|                                  null|                                   null|                    null|                                     null|                                 null|                  null|                                   null|                                null|                 null|                                  null|                               null|                null|                                 null|                               null|                null|                                 null|                                 null|                  null|                                   null|                                   null|                    null|                                     null|                                 -8|  17.959999999999997|                                89140|                                     null|                      null|                                       null|                                null|                 null|                                  null|                                null|                 null|                                  null|                                  null|                   null|                                    null|                             null|              null|                               null|                                      null|                       null|                                        null|                                   null|                    null|                                     null|                               null|                null|                                 null|                                null|                 null|                                  null|                                     null|                      null|                                       null|                             null|              null|                               null|                                              null|                               null|                                                null|                                       25308|            9712.410000000042|                                      32841682|                                     null|                      null|                                       null|\n",
      "|2011-10-03|                                   null|                    null|                                     null|                                 null|                  null|                                   null|                                 null|                  null|                                   null|                                 null|                  null|                                   null|                                null|                 null|                                  null|                                null|                 null|                                  null|                                         null|                          null|                                           null|                                null|                 null|                                  null|                                        null|                         null|                                          null|                                 null|                  null|                                   null|                              null|               null|                                null|                                            null|                             null|                                              null|                                 null|                  null|                                   null|                                 158|   192.27000000000015|                                973049|                                 null|                  null|                                   null|                                null|                 null|                                  null|                                   null|                    null|                                     null|                                 null|                  null|                                   null|                                null|                 null|                                  null|                               null|                null|                                 null|                               null|                null|                                 null|                                 null|                  null|                                   null|                                   null|                    null|                                     null|                               null|                null|                                 null|                                     null|                      null|                                       null|                                null|                 null|                                  null|                                null|                 null|                                  null|                                  null|                   null|                                    null|                             null|              null|                               null|                                      null|                       null|                                        null|                                   null|                    null|                                     null|                                 -1|                9.95|                                12484|                                null|                 null|                                  null|                                       -5|        10.850000000000001|                                      40515|                             null|              null|                               null|                                              null|                               null|                                                null|                                       24500|            12472.77999999993|                                      25762205|                                     null|                      null|                                       null|\n",
      "|2010-12-05|                                   null|                    null|                                     null|                                 null|                  null|                                   null|                                 null|                  null|                                   null|                                 null|                  null|                                   null|                                null|                 null|                                  null|                                null|                 null|                                  null|                                         null|                          null|                                           null|                                null|                 null|                                  null|                                        null|                         null|                                          null|                                 null|                  null|                                   null|                              null|               null|                                null|                                            null|                             null|                                              null|                                 null|                  null|                                   null|                                 611|   287.18999999999994|                                791721|                                 1362|     373.5799999999999|                                1494933|                                null|                 null|                                  null|                                   null|                    null|                                     null|                                 null|                  null|                                   null|                                null|                 null|                                  null|                               null|                null|                                 null|                                196|  28.989999999999995|                               204208|                                 null|                  null|                                   null|                                    622|       97.34000000000002|                                   521288|                               null|                null|                                 null|                                     null|                      null|                                       null|                                null|                 null|                                  null|                                null|                 null|                                  null|                                  null|                   null|                                    null|                             null|              null|                               null|                                      null|                       null|                                        null|                                   null|                    null|                                     null|                               null|                null|                                 null|                                null|                 null|                                  null|                                     null|                      null|                                       null|                             null|              null|                               null|                                              null|                               null|                                                null|                                       13604|            7106.069999999949|                                      38403047|                                     null|                      null|                                       null|\n",
      "|2010-12-08|                                    214|                   21.81|                                    99088|                                 null|                  null|                                   null|                                 null|                  null|                                   null|                                 null|                  null|                                   null|                                null|                 null|                                  null|                                null|                 null|                                  null|                                         null|                          null|                                           null|                                null|                 null|                                  null|                                        null|                         null|                                          null|                                 null|                  null|                                   null|                              null|               null|                                null|                                            null|                             null|                                              null|                                 null|                  null|                                   null|                                 121|                40.71|                                136851|                                  136|                 44.65|                                 101675|                                null|                 null|                                  null|                                   null|                    null|                                     null|                                 null|                  null|                                   null|                                null|                 null|                                  null|                               null|                null|                                 null|                               null|                null|                                 null|                                 null|                  null|                                   null|                                     30|                     2.1|                                    15332|                               null|                null|                                 null|                                     null|                      null|                                       null|                                1730|   136.15999999999997|                                920042|                                null|                 null|                                  null|                                   424|     192.21999999999997|                                  676598|                             null|              null|                               null|                                      null|                       null|                                        null|                                   null|                    null|                                     null|                               null|                null|                                 null|                                null|                 null|                                  null|                                     null|                      null|                                       null|                             null|              null|                               null|                                              null|                               null|                                                null|                                       20086|            9540.410000000036|                                      29490555|                                     null|                      null|                                       null|\n",
      "|2010-12-17|                                    146|      35.099999999999994|                                   124310|                                   51|     64.69999999999999|                                  98960|                                 null|                  null|                                   null|                                  285|    144.71999999999997|                                 372092|                                null|                 null|                                  null|                                null|                 null|                                  null|                                         null|                          null|                                           null|                                null|                 null|                                  null|                                        null|                         null|                                          null|                                 null|                  null|                                   null|                               701|             352.76|                              546624|                                            null|                             null|                                              null|                                 null|                  null|                                   null|                                 398|                56.09|                                139811|                                 1657|     512.7999999999997|                                1452116|                                null|                 null|                                  null|                                   null|                    null|                                     null|                                 null|                  null|                                   null|                                null|                 null|                                  null|                               null|                null|                                 null|                               null|                null|                                 null|                                 null|                  null|                                   null|                                   null|                    null|                                     null|                               null|                null|                                 null|                                     null|                      null|                                       null|                                null|                 null|                                  null|                                null|                 null|                                  null|                                   193|      84.42000000000002|                                  281204|                             null|              null|                               null|                                      null|                       null|                                        null|                                   null|                    null|                                     null|                                100|                16.8|                               125510|                                3714|                37.37|                                435100|                                     null|                      null|                                       null|                             null|              null|                               null|                                              null|                               null|                                                null|                                        8824|           16826.449999999997|                                       6965230|                                     null|                      null|                                       null|\n",
      "|2011-10-07|                                   null|                    null|                                     null|                                 null|                  null|                                   null|                                 null|                  null|                                   null|                                 null|                  null|                                   null|                                null|                 null|                                  null|                                null|                 null|                                  null|                                         null|                          null|                                           null|                                 345|   136.51000000000002|                                360180|                                         325|                        49.38|                                        127810|                                  637|                 27.69|                                  74364|                               448| 225.09999999999997|                              760461|                                            null|                             null|                                              null|                                 null|                  null|                                   null|                                 527|    88.43999999999998|                                483504|                                 2053|    327.79999999999995|                                1150698|                                null|                 null|                                  null|                                   null|                    null|                                     null|                                 null|                  null|                                   null|                                null|                 null|                                  null|                               null|                null|                                 null|                               null|                null|                                 null|                                 null|                  null|                                   null|                                   null|                    null|                                     null|                               null|                null|                                 null|                                      212|                     25.35|                                     140558|                                null|                 null|                                  null|                                null|                 null|                                  null|                                  null|                   null|                                    null|                             null|              null|                               null|                                      null|                       null|                                        null|                                   null|                    null|                                     null|                                227|  123.08000000000001|                               275880|                                null|                 null|                                  null|                                     null|                      null|                                       null|                             null|              null|                               null|                                              null|                               null|                                                null|                                       25657|           12425.409999999976|                                      27566889|                                     null|                      null|                                       null|\n",
      "|2011-10-13|                                   null|                    null|                                     null|                                 null|                  null|                                   null|                                 null|                  null|                                   null|                                 1290|    114.06999999999992|                                 656676|                                null|                 null|                                  null|                                null|                 null|                                  null|                                         null|                          null|                                           null|                                 657|     804.870000000001|                               1297695|                                        null|                         null|                                          null|                                 null|                  null|                                   null|                              null|               null|                                null|                                            null|                             null|                                              null|                                  236|    140.65000000000003|                                 391561|                                 124|                48.68|                                152220|                                  932|     314.3599999999999|                                1290225|                                null|                 null|                                  null|                                   null|                    null|                                     null|                                 null|                  null|                                   null|                                null|                 null|                                  null|                                 60|   92.63000000000001|                               176176|                               null|                null|                                 null|                                 null|                  null|                                   null|                                   null|                    null|                                     null|                               null|                null|                                 null|                                     null|                      null|                                       null|                                null|                 null|                                  null|                                null|                 null|                                  null|                                   884|     132.00000000000003|                                  778726|                              352|             248.1|                             721868|                                      null|                       null|                                        null|                                   null|                    null|                                     null|                               null|                null|                                 null|                                null|                 null|                                  null|                                     null|                      null|                                       null|                             null|              null|                               null|                                              null|                               null|                                                null|                                       13324|            6923.149999999982|                                      25026724|                                     null|                      null|                                       null|\n",
      "|2011-10-18|                                   null|                    null|                                     null|                                  491|    187.15000000000006|                                 667440|                                 null|                  null|                                   null|                                 null|                  null|                                   null|                                null|                 null|                                  null|                                null|                 null|                                  null|                                         null|                          null|                                           null|                                null|                 null|                                  null|                                        null|                         null|                                          null|                                 null|                  null|                                   null|                               625| 193.95999999999998|                              743096|                                            null|                             null|                                              null|                                 null|                  null|                                   null|                                  -2|                 2.12|                                 25358|                                  725|    218.19999999999993|                                 784664|                                null|                 null|                                  null|                                    236|                   99.76|                                     null|                                 null|                  null|                                   null|                                null|                 null|                                  null|                                846|   173.8799999999999|                               819715|                               null|                null|                                 null|                                 null|                  null|                                   null|                                   null|                    null|                                     null|                               null|                null|                                 null|                                      272|        103.69000000000001|                                     370011|                                null|                 null|                                  null|                                null|                 null|                                  null|                                  null|                   null|                                    null|                             null|              null|                               null|                                      null|                       null|                                        null|                                   null|                    null|                                     null|                                724|   98.77000000000001|                               514140|                                null|                 null|                                  null|                                     null|                      null|                                       null|                             null|              null|                               null|                                              null|                               null|                                                null|                                       25043|            8142.909999999954|                                      27335197|                                     null|                      null|                                       null|\n",
      "+----------+---------------------------------------+------------------------+-----------------------------------------+-------------------------------------+----------------------+---------------------------------------+-------------------------------------+----------------------+---------------------------------------+-------------------------------------+----------------------+---------------------------------------+------------------------------------+---------------------+--------------------------------------+------------------------------------+---------------------+--------------------------------------+---------------------------------------------+------------------------------+-----------------------------------------------+------------------------------------+---------------------+--------------------------------------+--------------------------------------------+-----------------------------+----------------------------------------------+-------------------------------------+----------------------+---------------------------------------+----------------------------------+-------------------+------------------------------------+------------------------------------------------+---------------------------------+--------------------------------------------------+-------------------------------------+----------------------+---------------------------------------+------------------------------------+---------------------+--------------------------------------+-------------------------------------+----------------------+---------------------------------------+------------------------------------+---------------------+--------------------------------------+---------------------------------------+------------------------+-----------------------------------------+-------------------------------------+----------------------+---------------------------------------+------------------------------------+---------------------+--------------------------------------+-----------------------------------+--------------------+-------------------------------------+-----------------------------------+--------------------+-------------------------------------+-------------------------------------+----------------------+---------------------------------------+---------------------------------------+------------------------+-----------------------------------------+-----------------------------------+--------------------+-------------------------------------+-----------------------------------------+--------------------------+-------------------------------------------+------------------------------------+---------------------+--------------------------------------+------------------------------------+---------------------+--------------------------------------+--------------------------------------+-----------------------+----------------------------------------+---------------------------------+------------------+-----------------------------------+------------------------------------------+---------------------------+--------------------------------------------+---------------------------------------+------------------------+-----------------------------------------+-----------------------------------+--------------------+-------------------------------------+------------------------------------+---------------------+--------------------------------------+-----------------------------------------+--------------------------+-------------------------------------------+---------------------------------+------------------+-----------------------------------+--------------------------------------------------+-----------------------------------+----------------------------------------------------+--------------------------------------------+-----------------------------+----------------------------------------------+-----------------------------------------+--------------------------+-------------------------------------------+\n",
      "only showing top 20 rows\n",
      "\n"
     ]
    }
   ],
   "source": [
    "pivoted = dfWithDate.groupBy(\"date\").pivot(\"Country\").sum()\n",
    "pivoted.show()"
   ]
  },
  {
   "cell_type": "code",
   "execution_count": 217,
   "id": "990ef55d",
   "metadata": {},
   "outputs": [
    {
     "name": "stdout",
     "output_type": "stream",
     "text": [
      "+----------+---------------------------------+\n",
      "|      date|USA_sum(CAST(Quantity AS BIGINT))|\n",
      "+----------+---------------------------------+\n",
      "|2011-12-07|                             null|\n",
      "|2011-12-06|                             null|\n",
      "|2011-12-08|                             -196|\n",
      "|2011-12-09|                             null|\n",
      "+----------+---------------------------------+\n",
      "\n"
     ]
    }
   ],
   "source": [
    "pivoted.where(\"date>'2011-12-05'\").select(\"date\",\"`USA_sum(CAST(Quantity AS BIGINT))`\").show()"
   ]
  },
  {
   "cell_type": "markdown",
   "id": "3374c237",
   "metadata": {},
   "source": [
    "# JOIN"
   ]
  },
  {
   "cell_type": "code",
   "execution_count": 218,
   "id": "e4a1b2e1",
   "metadata": {},
   "outputs": [],
   "source": [
    "person = spark.createDataFrame([(0, \"Bill Chambers\", 0, [100]),(1, \"Matei Zaharia\", 1, [500, 250, 100]),\n",
    "(2, \"Michael Armbrust\", 1, [250, 100])]).toDF(\"id\", \"name\", \"graduate_program\", \"spark_status\")"
   ]
  },
  {
   "cell_type": "code",
   "execution_count": 219,
   "id": "72f9fdcf",
   "metadata": {},
   "outputs": [],
   "source": [
    "graduateProgram = spark.createDataFrame([\n",
    "(0, \"Masters\", \"School of Information\", \"UC Berkeley\"),\n",
    "(2, \"Masters\", \"EECS\", \"UC Berkeley\"),\n",
    "(1, \"Ph.D.\", \"EECS\", \"UC Berkeley\")]).toDF(\"id\", \"degree\", \"department\", \"school\")"
   ]
  },
  {
   "cell_type": "code",
   "execution_count": 220,
   "id": "10ac3a89",
   "metadata": {},
   "outputs": [],
   "source": [
    "sparkStatus = spark.createDataFrame([\n",
    "(500, \"Vice President\"),\n",
    "(250, \"PMC Member\"),\n",
    "(100, \"Contributor\")]).toDF(\"id\", \"status\")"
   ]
  },
  {
   "cell_type": "code",
   "execution_count": 221,
   "id": "2b7a72b4",
   "metadata": {},
   "outputs": [],
   "source": [
    "# register as database tables by creating view\n",
    "person.createOrReplaceTempView(\"person\")\n",
    "graduateProgram.createOrReplaceTempView(\"graduateProgram\")\n",
    "sparkStatus.createOrReplaceTempView(\"sparkStatus\")"
   ]
  },
  {
   "cell_type": "markdown",
   "id": "049ccf36",
   "metadata": {},
   "source": [
    "Inner Join "
   ]
  },
  {
   "cell_type": "code",
   "execution_count": 222,
   "id": "9a77544b",
   "metadata": {},
   "outputs": [],
   "source": [
    "joinExpression = person[\"graduate_program\"]==graduateProgram[\"id\"]"
   ]
  },
  {
   "cell_type": "code",
   "execution_count": 223,
   "id": "8092d1d9",
   "metadata": {},
   "outputs": [
    {
     "name": "stdout",
     "output_type": "stream",
     "text": [
      "+---+----------------+----------------+---------------+---+-------+--------------------+-----------+\n",
      "| id|            name|graduate_program|   spark_status| id| degree|          department|     school|\n",
      "+---+----------------+----------------+---------------+---+-------+--------------------+-----------+\n",
      "|  0|   Bill Chambers|               0|          [100]|  0|Masters|School of Informa...|UC Berkeley|\n",
      "|  1|   Matei Zaharia|               1|[500, 250, 100]|  1|  Ph.D.|                EECS|UC Berkeley|\n",
      "|  2|Michael Armbrust|               1|     [250, 100]|  1|  Ph.D.|                EECS|UC Berkeley|\n",
      "+---+----------------+----------------+---------------+---+-------+--------------------+-----------+\n",
      "\n"
     ]
    }
   ],
   "source": [
    "person.join(graduateProgram,joinExpression).show()"
   ]
  },
  {
   "cell_type": "code",
   "execution_count": 224,
   "id": "07c9fc50",
   "metadata": {},
   "outputs": [
    {
     "name": "stdout",
     "output_type": "stream",
     "text": [
      "+---+----------------+----------------+---------------+---+-------+--------------------+-----------+\n",
      "| id|            name|graduate_program|   spark_status| id| degree|          department|     school|\n",
      "+---+----------------+----------------+---------------+---+-------+--------------------+-----------+\n",
      "|  0|   Bill Chambers|               0|          [100]|  0|Masters|School of Informa...|UC Berkeley|\n",
      "|  1|   Matei Zaharia|               1|[500, 250, 100]|  1|  Ph.D.|                EECS|UC Berkeley|\n",
      "|  2|Michael Armbrust|               1|     [250, 100]|  1|  Ph.D.|                EECS|UC Berkeley|\n",
      "+---+----------------+----------------+---------------+---+-------+--------------------+-----------+\n",
      "\n"
     ]
    }
   ],
   "source": [
    "spark.sql(\"\"\"SELECT * FROM person JOIN graduateProgram\n",
    "ON person.graduate_program = graduateProgram.id\"\"\").show()"
   ]
  },
  {
   "cell_type": "code",
   "execution_count": 225,
   "id": "d5ff5af3",
   "metadata": {},
   "outputs": [
    {
     "name": "stdout",
     "output_type": "stream",
     "text": [
      "+---+----------------+----------------+---------------+---+-------+--------------------+-----------+\n",
      "| id|            name|graduate_program|   spark_status| id| degree|          department|     school|\n",
      "+---+----------------+----------------+---------------+---+-------+--------------------+-----------+\n",
      "|  0|   Bill Chambers|               0|          [100]|  0|Masters|School of Informa...|UC Berkeley|\n",
      "|  1|   Matei Zaharia|               1|[500, 250, 100]|  1|  Ph.D.|                EECS|UC Berkeley|\n",
      "|  2|Michael Armbrust|               1|     [250, 100]|  1|  Ph.D.|                EECS|UC Berkeley|\n",
      "+---+----------------+----------------+---------------+---+-------+--------------------+-----------+\n",
      "\n"
     ]
    }
   ],
   "source": [
    "joinType=\"inner\"\n",
    "\n",
    "person.join(graduateProgram,joinExpression,joinType).show()"
   ]
  },
  {
   "cell_type": "markdown",
   "id": "c9dbeeb9",
   "metadata": {},
   "source": [
    "OUTER JOIN"
   ]
  },
  {
   "cell_type": "code",
   "execution_count": 226,
   "id": "515e1730",
   "metadata": {},
   "outputs": [
    {
     "name": "stdout",
     "output_type": "stream",
     "text": [
      "+----+----------------+----------------+---------------+---+-------+--------------------+-----------+\n",
      "|  id|            name|graduate_program|   spark_status| id| degree|          department|     school|\n",
      "+----+----------------+----------------+---------------+---+-------+--------------------+-----------+\n",
      "|   0|   Bill Chambers|               0|          [100]|  0|Masters|School of Informa...|UC Berkeley|\n",
      "|null|            null|            null|           null|  2|Masters|                EECS|UC Berkeley|\n",
      "|   1|   Matei Zaharia|               1|[500, 250, 100]|  1|  Ph.D.|                EECS|UC Berkeley|\n",
      "|   2|Michael Armbrust|               1|     [250, 100]|  1|  Ph.D.|                EECS|UC Berkeley|\n",
      "+----+----------------+----------------+---------------+---+-------+--------------------+-----------+\n",
      "\n"
     ]
    }
   ],
   "source": [
    "joinType=\"outer\"\n",
    "\n",
    "person.join(graduateProgram,joinExpression,joinType).show()"
   ]
  },
  {
   "cell_type": "code",
   "execution_count": 227,
   "id": "287b086c",
   "metadata": {},
   "outputs": [
    {
     "name": "stdout",
     "output_type": "stream",
     "text": [
      "+---+-------+--------------------+-----------+----+----------------+----------------+---------------+\n",
      "| id| degree|          department|     school|  id|            name|graduate_program|   spark_status|\n",
      "+---+-------+--------------------+-----------+----+----------------+----------------+---------------+\n",
      "|  0|Masters|School of Informa...|UC Berkeley|   0|   Bill Chambers|               0|          [100]|\n",
      "|  2|Masters|                EECS|UC Berkeley|null|            null|            null|           null|\n",
      "|  1|  Ph.D.|                EECS|UC Berkeley|   1|   Matei Zaharia|               1|[500, 250, 100]|\n",
      "|  1|  Ph.D.|                EECS|UC Berkeley|   2|Michael Armbrust|               1|     [250, 100]|\n",
      "+---+-------+--------------------+-----------+----+----------------+----------------+---------------+\n",
      "\n"
     ]
    }
   ],
   "source": [
    "joinType=\"left_outer\"\n",
    "\n",
    "graduateProgram.join(person,joinExpression,joinType).show()"
   ]
  },
  {
   "cell_type": "code",
   "execution_count": 228,
   "id": "6b566a77",
   "metadata": {},
   "outputs": [
    {
     "name": "stdout",
     "output_type": "stream",
     "text": [
      "+---+-------+--------------------+-----------+----+----------------+----------------+---------------+\n",
      "| id| degree|          department|     school|  id|            name|graduate_program|   spark_status|\n",
      "+---+-------+--------------------+-----------+----+----------------+----------------+---------------+\n",
      "|  0|Masters|School of Informa...|UC Berkeley|   0|   Bill Chambers|               0|          [100]|\n",
      "|  2|Masters|                EECS|UC Berkeley|null|            null|            null|           null|\n",
      "|  1|  Ph.D.|                EECS|UC Berkeley|   1|   Matei Zaharia|               1|[500, 250, 100]|\n",
      "|  1|  Ph.D.|                EECS|UC Berkeley|   2|Michael Armbrust|               1|     [250, 100]|\n",
      "+---+-------+--------------------+-----------+----+----------------+----------------+---------------+\n",
      "\n"
     ]
    }
   ],
   "source": [
    "spark.sql(\"\"\"SELECT * FROM graduateProgram LEFT OUTER JOIN person\n",
    "ON person.graduate_program = graduateProgram.id\"\"\").show()"
   ]
  },
  {
   "cell_type": "code",
   "execution_count": 229,
   "id": "c22d958d",
   "metadata": {},
   "outputs": [
    {
     "name": "stdout",
     "output_type": "stream",
     "text": [
      "+----+----------------+----------------+---------------+---+-------+--------------------+-----------+\n",
      "|  id|            name|graduate_program|   spark_status| id| degree|          department|     school|\n",
      "+----+----------------+----------------+---------------+---+-------+--------------------+-----------+\n",
      "|   0|   Bill Chambers|               0|          [100]|  0|Masters|School of Informa...|UC Berkeley|\n",
      "|null|            null|            null|           null|  2|Masters|                EECS|UC Berkeley|\n",
      "|   1|   Matei Zaharia|               1|[500, 250, 100]|  1|  Ph.D.|                EECS|UC Berkeley|\n",
      "|   2|Michael Armbrust|               1|     [250, 100]|  1|  Ph.D.|                EECS|UC Berkeley|\n",
      "+----+----------------+----------------+---------------+---+-------+--------------------+-----------+\n",
      "\n"
     ]
    }
   ],
   "source": [
    "joinType = \"right_outer\"\n",
    "person.join(graduateProgram, joinExpression, joinType).show()"
   ]
  },
  {
   "cell_type": "code",
   "execution_count": 230,
   "id": "216d80d7",
   "metadata": {},
   "outputs": [
    {
     "name": "stdout",
     "output_type": "stream",
     "text": [
      "+----+----------------+----------------+---------------+---+-------+--------------------+-----------+\n",
      "|  id|            name|graduate_program|   spark_status| id| degree|          department|     school|\n",
      "+----+----------------+----------------+---------------+---+-------+--------------------+-----------+\n",
      "|   0|   Bill Chambers|               0|          [100]|  0|Masters|School of Informa...|UC Berkeley|\n",
      "|null|            null|            null|           null|  2|Masters|                EECS|UC Berkeley|\n",
      "|   1|   Matei Zaharia|               1|[500, 250, 100]|  1|  Ph.D.|                EECS|UC Berkeley|\n",
      "|   2|Michael Armbrust|               1|     [250, 100]|  1|  Ph.D.|                EECS|UC Berkeley|\n",
      "+----+----------------+----------------+---------------+---+-------+--------------------+-----------+\n",
      "\n"
     ]
    }
   ],
   "source": [
    "spark.sql(\"\"\"SELECT * FROM person RIGHT OUTER JOIN graduateProgram\n",
    "ON person.graduate_program = graduateProgram.id\"\"\").show()"
   ]
  },
  {
   "cell_type": "code",
   "execution_count": 231,
   "id": "500f1f69",
   "metadata": {},
   "outputs": [
    {
     "name": "stdout",
     "output_type": "stream",
     "text": [
      "+---+-------+--------------------+-----------+\n",
      "| id| degree|          department|     school|\n",
      "+---+-------+--------------------+-----------+\n",
      "|  0|Masters|School of Informa...|UC Berkeley|\n",
      "|  1|  Ph.D.|                EECS|UC Berkeley|\n",
      "+---+-------+--------------------+-----------+\n",
      "\n"
     ]
    }
   ],
   "source": [
    "joinType=\"left_semi\"\n",
    "\n",
    "graduateProgram.join(person,joinExpression,joinType).show()"
   ]
  },
  {
   "cell_type": "code",
   "execution_count": 232,
   "id": "076a3a10",
   "metadata": {},
   "outputs": [],
   "source": [
    "gradProgram2 = graduateProgram.union(spark.createDataFrame([(0, \"Masters\", \"Duplicated Row\", \"Duplicated School\")]))"
   ]
  },
  {
   "cell_type": "code",
   "execution_count": 233,
   "id": "9ce899fc",
   "metadata": {},
   "outputs": [],
   "source": [
    "gradProgram2.createOrReplaceTempView(\"gradProgram2\")"
   ]
  },
  {
   "cell_type": "code",
   "execution_count": 234,
   "id": "1343767f",
   "metadata": {},
   "outputs": [
    {
     "name": "stdout",
     "output_type": "stream",
     "text": [
      "+---+-------+--------------------+-----------------+\n",
      "| id| degree|          department|           school|\n",
      "+---+-------+--------------------+-----------------+\n",
      "|  0|Masters|School of Informa...|      UC Berkeley|\n",
      "|  1|  Ph.D.|                EECS|      UC Berkeley|\n",
      "|  0|Masters|      Duplicated Row|Duplicated School|\n",
      "+---+-------+--------------------+-----------------+\n",
      "\n"
     ]
    }
   ],
   "source": [
    "gradProgram2.join(person,joinExpression,joinType).show()"
   ]
  },
  {
   "cell_type": "code",
   "execution_count": 235,
   "id": "0d15f02b",
   "metadata": {},
   "outputs": [],
   "source": [
    "gradProgram2.createOrReplaceTempView(\"gradProgram2\")"
   ]
  },
  {
   "cell_type": "code",
   "execution_count": 236,
   "id": "7a919a74",
   "metadata": {},
   "outputs": [
    {
     "name": "stdout",
     "output_type": "stream",
     "text": [
      "+---+-------+--------------------+-----------------+\n",
      "| id| degree|          department|           school|\n",
      "+---+-------+--------------------+-----------------+\n",
      "|  0|Masters|School of Informa...|      UC Berkeley|\n",
      "|  1|  Ph.D.|                EECS|      UC Berkeley|\n",
      "|  0|Masters|      Duplicated Row|Duplicated School|\n",
      "+---+-------+--------------------+-----------------+\n",
      "\n"
     ]
    }
   ],
   "source": [
    "gradProgram2.join(person,joinExpression,joinType).show()"
   ]
  },
  {
   "cell_type": "code",
   "execution_count": 237,
   "id": "6e2bc559",
   "metadata": {},
   "outputs": [
    {
     "name": "stdout",
     "output_type": "stream",
     "text": [
      "+---+-------+--------------------+-----------------+\n",
      "| id| degree|          department|           school|\n",
      "+---+-------+--------------------+-----------------+\n",
      "|  0|Masters|School of Informa...|      UC Berkeley|\n",
      "|  1|  Ph.D.|                EECS|      UC Berkeley|\n",
      "|  0|Masters|      Duplicated Row|Duplicated School|\n",
      "+---+-------+--------------------+-----------------+\n",
      "\n"
     ]
    }
   ],
   "source": [
    "spark.sql(\"\"\"SELECT * FROM gradProgram2 LEFT SEMI JOIN person\n",
    "ON gradProgram2.id = person.graduate_program\"\"\").show()"
   ]
  },
  {
   "cell_type": "markdown",
   "id": "0527c4bb",
   "metadata": {},
   "source": [
    "LEFT ANTI JOIN"
   ]
  },
  {
   "cell_type": "code",
   "execution_count": 238,
   "id": "84356030",
   "metadata": {},
   "outputs": [
    {
     "name": "stdout",
     "output_type": "stream",
     "text": [
      "+---+-------+----------+-----------+\n",
      "| id| degree|department|     school|\n",
      "+---+-------+----------+-----------+\n",
      "|  2|Masters|      EECS|UC Berkeley|\n",
      "+---+-------+----------+-----------+\n",
      "\n"
     ]
    }
   ],
   "source": [
    "joinType=\"left_anti\"\n",
    "graduateProgram.join(person,joinExpression,joinType).show()"
   ]
  },
  {
   "cell_type": "code",
   "execution_count": 239,
   "id": "d97abf4f",
   "metadata": {},
   "outputs": [
    {
     "name": "stdout",
     "output_type": "stream",
     "text": [
      "+---+-------+----------+-----------+\n",
      "| id| degree|department|     school|\n",
      "+---+-------+----------+-----------+\n",
      "|  2|Masters|      EECS|UC Berkeley|\n",
      "+---+-------+----------+-----------+\n",
      "\n"
     ]
    }
   ],
   "source": [
    "spark.sql(\"\"\"SELECT * FROM graduateProgram LEFT ANTI JOIN person\n",
    "ON graduateProgram.id = person.graduate_program\"\"\").show()"
   ]
  },
  {
   "cell_type": "markdown",
   "id": "525a30f4",
   "metadata": {},
   "source": [
    "CROSS JOIN"
   ]
  },
  {
   "cell_type": "code",
   "execution_count": 240,
   "id": "53400852",
   "metadata": {},
   "outputs": [
    {
     "name": "stdout",
     "output_type": "stream",
     "text": [
      "+---+-------+--------------------+-----------+---+----------------+----------------+---------------+\n",
      "| id| degree|          department|     school| id|            name|graduate_program|   spark_status|\n",
      "+---+-------+--------------------+-----------+---+----------------+----------------+---------------+\n",
      "|  0|Masters|School of Informa...|UC Berkeley|  0|   Bill Chambers|               0|          [100]|\n",
      "|  1|  Ph.D.|                EECS|UC Berkeley|  1|   Matei Zaharia|               1|[500, 250, 100]|\n",
      "|  1|  Ph.D.|                EECS|UC Berkeley|  2|Michael Armbrust|               1|     [250, 100]|\n",
      "+---+-------+--------------------+-----------+---+----------------+----------------+---------------+\n",
      "\n"
     ]
    }
   ],
   "source": [
    "joinType=\"cross\"\n",
    "graduateProgram.join(person,joinExpression,joinType).show()"
   ]
  },
  {
   "cell_type": "code",
   "execution_count": 241,
   "id": "0b271fa1",
   "metadata": {},
   "outputs": [
    {
     "name": "stdout",
     "output_type": "stream",
     "text": [
      "+---+-------+--------------------+-----------+---+----------------+----------------+---------------+\n",
      "| id| degree|          department|     school| id|            name|graduate_program|   spark_status|\n",
      "+---+-------+--------------------+-----------+---+----------------+----------------+---------------+\n",
      "|  0|Masters|School of Informa...|UC Berkeley|  0|   Bill Chambers|               0|          [100]|\n",
      "|  1|  Ph.D.|                EECS|UC Berkeley|  1|   Matei Zaharia|               1|[500, 250, 100]|\n",
      "|  1|  Ph.D.|                EECS|UC Berkeley|  2|Michael Armbrust|               1|     [250, 100]|\n",
      "+---+-------+--------------------+-----------+---+----------------+----------------+---------------+\n",
      "\n"
     ]
    }
   ],
   "source": [
    "spark.sql(\"\"\"SELECT * FROM graduateProgram CROSS JOIN person\n",
    "ON graduateProgram.id = person.graduate_program\n",
    "\"\"\").show()"
   ]
  },
  {
   "cell_type": "code",
   "execution_count": 242,
   "id": "032ac987",
   "metadata": {},
   "outputs": [
    {
     "name": "stdout",
     "output_type": "stream",
     "text": [
      "+---+----------------+----------------+---------------+---+-------+--------------------+-----------+\n",
      "| id|            name|graduate_program|   spark_status| id| degree|          department|     school|\n",
      "+---+----------------+----------------+---------------+---+-------+--------------------+-----------+\n",
      "|  0|   Bill Chambers|               0|          [100]|  0|Masters|School of Informa...|UC Berkeley|\n",
      "|  0|   Bill Chambers|               0|          [100]|  2|Masters|                EECS|UC Berkeley|\n",
      "|  0|   Bill Chambers|               0|          [100]|  1|  Ph.D.|                EECS|UC Berkeley|\n",
      "|  1|   Matei Zaharia|               1|[500, 250, 100]|  0|Masters|School of Informa...|UC Berkeley|\n",
      "|  1|   Matei Zaharia|               1|[500, 250, 100]|  2|Masters|                EECS|UC Berkeley|\n",
      "|  1|   Matei Zaharia|               1|[500, 250, 100]|  1|  Ph.D.|                EECS|UC Berkeley|\n",
      "|  2|Michael Armbrust|               1|     [250, 100]|  0|Masters|School of Informa...|UC Berkeley|\n",
      "|  2|Michael Armbrust|               1|     [250, 100]|  2|Masters|                EECS|UC Berkeley|\n",
      "|  2|Michael Armbrust|               1|     [250, 100]|  1|  Ph.D.|                EECS|UC Berkeley|\n",
      "+---+----------------+----------------+---------------+---+-------+--------------------+-----------+\n",
      "\n"
     ]
    }
   ],
   "source": [
    "person.crossJoin(graduateProgram).show()"
   ]
  },
  {
   "cell_type": "code",
   "execution_count": 243,
   "id": "3ae7a91e",
   "metadata": {},
   "outputs": [
    {
     "name": "stdout",
     "output_type": "stream",
     "text": [
      "+--------+----------------+----------------+---------------+---+--------------+\n",
      "|personId|            name|graduate_program|   spark_status| id|        status|\n",
      "+--------+----------------+----------------+---------------+---+--------------+\n",
      "|       0|   Bill Chambers|               0|          [100]|100|   Contributor|\n",
      "|       1|   Matei Zaharia|               1|[500, 250, 100]|500|Vice President|\n",
      "|       1|   Matei Zaharia|               1|[500, 250, 100]|250|    PMC Member|\n",
      "|       1|   Matei Zaharia|               1|[500, 250, 100]|100|   Contributor|\n",
      "|       2|Michael Armbrust|               1|     [250, 100]|250|    PMC Member|\n",
      "|       2|Michael Armbrust|               1|     [250, 100]|100|   Contributor|\n",
      "+--------+----------------+----------------+---------------+---+--------------+\n",
      "\n"
     ]
    }
   ],
   "source": [
    "from pyspark.sql.functions import expr\n",
    "person.withColumnRenamed(\"id\",\"personId\").join(sparkStatus,expr(\"array_contains(spark_status,id)\")).show()"
   ]
  },
  {
   "cell_type": "code",
   "execution_count": 244,
   "id": "96737bd9",
   "metadata": {},
   "outputs": [
    {
     "name": "stdout",
     "output_type": "stream",
     "text": [
      "+--------+----------------+----------------+---------------+---+--------------+\n",
      "|personId|            name|graduate_program|   spark_status| id|        status|\n",
      "+--------+----------------+----------------+---------------+---+--------------+\n",
      "|       0|   Bill Chambers|               0|          [100]|100|   Contributor|\n",
      "|       1|   Matei Zaharia|               1|[500, 250, 100]|500|Vice President|\n",
      "|       1|   Matei Zaharia|               1|[500, 250, 100]|250|    PMC Member|\n",
      "|       1|   Matei Zaharia|               1|[500, 250, 100]|100|   Contributor|\n",
      "|       2|Michael Armbrust|               1|     [250, 100]|250|    PMC Member|\n",
      "|       2|Michael Armbrust|               1|     [250, 100]|100|   Contributor|\n",
      "+--------+----------------+----------------+---------------+---+--------------+\n",
      "\n"
     ]
    }
   ],
   "source": [
    "spark.sql(\"\"\"SELECT * FROM\n",
    "(select id as personId, name, graduate_program, spark_status FROM person)\n",
    "INNER JOIN sparkStatus ON array_contains(spark_status, id)\"\"\").show()"
   ]
  },
  {
   "cell_type": "markdown",
   "id": "bbdfe022",
   "metadata": {},
   "source": [
    "# READ/WRITE Files"
   ]
  },
  {
   "cell_type": "markdown",
   "id": "3cdc7557",
   "metadata": {},
   "source": [
    "CSV"
   ]
  },
  {
   "cell_type": "code",
   "execution_count": 245,
   "id": "450985c6",
   "metadata": {},
   "outputs": [],
   "source": [
    "csvFile=spark.read.format(\"csv\")\\\n",
    ".option(\"header\",\"true\")\\\n",
    ".option(\"mode\",\"FAILFAST\")\\\n",
    ".option(\"inferSchema\",\"true\")\\\n",
    ".load(r\"C:\\Users\\Admin\\Documents\\spark\\Spark-The-Definitive-Guide-master\\data\\flight-data\\csv\\2010-summary.csv\")"
   ]
  },
  {
   "cell_type": "code",
   "execution_count": 246,
   "id": "3bb99a0f",
   "metadata": {},
   "outputs": [
    {
     "name": "stdout",
     "output_type": "stream",
     "text": [
      "+-----------------+-------------------+-----+\n",
      "|DEST_COUNTRY_NAME|ORIGIN_COUNTRY_NAME|count|\n",
      "+-----------------+-------------------+-----+\n",
      "|    United States|            Romania|    1|\n",
      "|    United States|            Ireland|  264|\n",
      "|    United States|              India|   69|\n",
      "|            Egypt|      United States|   24|\n",
      "|Equatorial Guinea|      United States|    1|\n",
      "+-----------------+-------------------+-----+\n",
      "only showing top 5 rows\n",
      "\n"
     ]
    }
   ],
   "source": [
    "csvFile.show(5)"
   ]
  },
  {
   "cell_type": "markdown",
   "id": "631fe409",
   "metadata": {},
   "source": [
    "WRITE FILE"
   ]
  },
  {
   "cell_type": "code",
   "execution_count": 247,
   "id": "6d25a481",
   "metadata": {},
   "outputs": [],
   "source": [
    "csvFile.write.format(\"csv\").mode(\"overwrite\").option(\"sep\",\"\\t\").save(r\"D:\\sparkbookwritedemo\\my-tsv-file.tsv\")"
   ]
  },
  {
   "cell_type": "markdown",
   "id": "2f8b9b0b",
   "metadata": {},
   "source": [
    "JSON"
   ]
  },
  {
   "cell_type": "code",
   "execution_count": 248,
   "id": "80abd1c7",
   "metadata": {},
   "outputs": [
    {
     "name": "stdout",
     "output_type": "stream",
     "text": [
      "+--------------------+-------------------+-----+\n",
      "|   DEST_COUNTRY_NAME|ORIGIN_COUNTRY_NAME|count|\n",
      "+--------------------+-------------------+-----+\n",
      "|       United States|            Romania|    1|\n",
      "|       United States|            Ireland|  264|\n",
      "|       United States|              India|   69|\n",
      "|               Egypt|      United States|   24|\n",
      "|   Equatorial Guinea|      United States|    1|\n",
      "|       United States|          Singapore|   25|\n",
      "|       United States|            Grenada|   54|\n",
      "|          Costa Rica|      United States|  477|\n",
      "|             Senegal|      United States|   29|\n",
      "|       United States|   Marshall Islands|   44|\n",
      "|              Guyana|      United States|   17|\n",
      "|       United States|       Sint Maarten|   53|\n",
      "|               Malta|      United States|    1|\n",
      "|             Bolivia|      United States|   46|\n",
      "|            Anguilla|      United States|   21|\n",
      "|Turks and Caicos ...|      United States|  136|\n",
      "|       United States|        Afghanistan|    2|\n",
      "|Saint Vincent and...|      United States|    1|\n",
      "|               Italy|      United States|  390|\n",
      "|       United States|             Russia|  156|\n",
      "+--------------------+-------------------+-----+\n",
      "only showing top 20 rows\n",
      "\n"
     ]
    }
   ],
   "source": [
    "spark.read.format(\"json\").option(\"mode\",\"FAILFAST\").option(\"inferSchema\",\"true\")\\\n",
    ".load(\"C:/Users/Admin/Documents/spark/Spark-The-Definitive-Guide-master/data/flight-data/json/2010-summary.json\").show()"
   ]
  },
  {
   "cell_type": "markdown",
   "id": "c767d1db",
   "metadata": {},
   "source": [
    "WRITING JSON"
   ]
  },
  {
   "cell_type": "code",
   "execution_count": 249,
   "id": "4a73d9b6",
   "metadata": {},
   "outputs": [],
   "source": [
    "Path=\"D:/sparkbookwritedemo/\"\n",
    "csvFile.write.format(\"json\").mode(\"overwrite\").save(Path+\"my-json-file.json\")"
   ]
  },
  {
   "cell_type": "markdown",
   "id": "32f83ee5",
   "metadata": {},
   "source": [
    "Parquet"
   ]
  },
  {
   "cell_type": "code",
   "execution_count": 250,
   "id": "328db6c0",
   "metadata": {},
   "outputs": [
    {
     "name": "stdout",
     "output_type": "stream",
     "text": [
      "+-----------------+-------------------+-----+\n",
      "|DEST_COUNTRY_NAME|ORIGIN_COUNTRY_NAME|count|\n",
      "+-----------------+-------------------+-----+\n",
      "|    United States|            Romania|    1|\n",
      "|    United States|            Ireland|  264|\n",
      "|    United States|              India|   69|\n",
      "|            Egypt|      United States|   24|\n",
      "|Equatorial Guinea|      United States|    1|\n",
      "+-----------------+-------------------+-----+\n",
      "only showing top 5 rows\n",
      "\n"
     ]
    }
   ],
   "source": [
    "path=\"C:/Users/Admin/Documents/spark/Spark-The-Definitive-Guide-master/data/\"\n",
    "spark.read.format(\"parquet\").load(path+\"flight-data/parquet/2010-summary.parquet\").show(5)"
   ]
  },
  {
   "cell_type": "code",
   "execution_count": 251,
   "id": "93e8b3a4",
   "metadata": {},
   "outputs": [],
   "source": [
    "csvFile.write.format(\"parquet\").mode(\"overwrite\").save(Path+\"my-parquet-file.parquet\")"
   ]
  },
  {
   "cell_type": "markdown",
   "id": "bf961ee9",
   "metadata": {},
   "source": [
    "ORC Files"
   ]
  },
  {
   "cell_type": "code",
   "execution_count": 252,
   "id": "0952b39a",
   "metadata": {},
   "outputs": [
    {
     "name": "stdout",
     "output_type": "stream",
     "text": [
      "+-----------------+-------------------+-----+\n",
      "|DEST_COUNTRY_NAME|ORIGIN_COUNTRY_NAME|count|\n",
      "+-----------------+-------------------+-----+\n",
      "|    United States|            Romania|    1|\n",
      "|    United States|            Ireland|  264|\n",
      "|    United States|              India|   69|\n",
      "|            Egypt|      United States|   24|\n",
      "|Equatorial Guinea|      United States|    1|\n",
      "+-----------------+-------------------+-----+\n",
      "only showing top 5 rows\n",
      "\n"
     ]
    }
   ],
   "source": [
    "spark.read.format(\"orc\").load(path+\"flight-data/orc/2010-summary.orc\").show(5)"
   ]
  },
  {
   "cell_type": "code",
   "execution_count": 253,
   "id": "2133b93c",
   "metadata": {},
   "outputs": [],
   "source": [
    "csvFile.write.format(\"orc\").mode(\"overwrite\").save(Path+\"my-json-file.orc\")"
   ]
  },
  {
   "cell_type": "markdown",
   "id": "abc2cca8",
   "metadata": {},
   "source": [
    "Text Files"
   ]
  },
  {
   "cell_type": "code",
   "execution_count": 254,
   "id": "07dbc279",
   "metadata": {},
   "outputs": [
    {
     "name": "stdout",
     "output_type": "stream",
     "text": [
      "+--------------------+\n",
      "|                 row|\n",
      "+--------------------+\n",
      "|[DEST_COUNTRY_NAM...|\n",
      "|[United States, R...|\n",
      "|[United States, I...|\n",
      "|[United States, I...|\n",
      "|[Egypt, United St...|\n",
      "|[Equatorial Guine...|\n",
      "|[United States, S...|\n",
      "|[United States, G...|\n",
      "|[Costa Rica, Unit...|\n",
      "|[Senegal, United ...|\n",
      "|[United States, M...|\n",
      "|[Guyana, United S...|\n",
      "|[United States, S...|\n",
      "|[Malta, United St...|\n",
      "|[Bolivia, United ...|\n",
      "|[Anguilla, United...|\n",
      "|[Turks and Caicos...|\n",
      "|[United States, A...|\n",
      "|[Saint Vincent an...|\n",
      "|[Italy, United St...|\n",
      "+--------------------+\n",
      "only showing top 20 rows\n",
      "\n"
     ]
    }
   ],
   "source": [
    "spark.read.text(path+\"flight-data/csv/2010-summary.csv\").selectExpr(\"split(value,',') as row\").show()"
   ]
  },
  {
   "cell_type": "code",
   "execution_count": 255,
   "id": "16f4b1a8",
   "metadata": {},
   "outputs": [],
   "source": [
    "csvFile.select(\"DEST_COUNTRY_NAME\").write.mode(\"overwrite\").text(Path+\"/simple-text-file.txt\")"
   ]
  },
  {
   "cell_type": "code",
   "execution_count": 256,
   "id": "39a35be2",
   "metadata": {},
   "outputs": [],
   "source": [
    "csvFile.limit(10).select(\"DEST_COUNTRY_NAME\", \"count\")\\\n",
    ".write.mode(\"overwrite\").partitionBy(\"count\").text(Path+\"five-csv-files2py.csv\")"
   ]
  },
  {
   "cell_type": "markdown",
   "id": "5b3ae053",
   "metadata": {},
   "source": [
    "Bucket"
   ]
  },
  {
   "cell_type": "code",
   "execution_count": 257,
   "id": "8a28248f",
   "metadata": {},
   "outputs": [],
   "source": [
    "numberBuckets=10\n",
    "columnToBucketBy=\"count\"\n",
    "\n",
    "#csvFile.write.format(\"parquet\").mode(\"overwrite\").bucketBy(numberBuckets,columnToBucketBy).saveAsTable(\"bucketedFiles\")"
   ]
  },
  {
   "cell_type": "markdown",
   "id": "c7aac926",
   "metadata": {},
   "source": [
    "# SPARK SQL"
   ]
  },
  {
   "cell_type": "code",
   "execution_count": 258,
   "id": "002e6e86",
   "metadata": {},
   "outputs": [],
   "source": [
    "spark.read.json(path+\"flight-data/json/2015-summary.json\").createOrReplaceTempView(\"some_sql_view\")"
   ]
  },
  {
   "cell_type": "code",
   "execution_count": 259,
   "id": "1b2a7f0c",
   "metadata": {},
   "outputs": [
    {
     "data": {
      "text/plain": [
       "12"
      ]
     },
     "execution_count": 259,
     "metadata": {},
     "output_type": "execute_result"
    }
   ],
   "source": [
    "# you can use spark sql and dataframe function simultaneously\n",
    "spark.sql(\"\"\"\n",
    "    SELECT DEST_COUNTRY_NAME, sum(count)\n",
    "FROM some_sql_view GROUP BY DEST_COUNTRY_NAME\n",
    "\"\"\").where(\"DEST_COUNTRY_NAME like 'S%'\").where(\"`sum(count)` > 10\").count()"
   ]
  },
  {
   "cell_type": "markdown",
   "id": "ef32dcec",
   "metadata": {},
   "source": [
    "Creating Tables"
   ]
  },
  {
   "cell_type": "code",
   "execution_count": 260,
   "id": "d1a6a9d0",
   "metadata": {},
   "outputs": [
    {
     "name": "stdout",
     "output_type": "stream",
     "text": [
      "++\n",
      "||\n",
      "++\n",
      "++\n",
      "\n"
     ]
    }
   ],
   "source": [
    "spark.sql(\"\"\"\n",
    "    CREATE TABLE flights (\n",
    "        DEST_COUNTRY_NAME STRING,\n",
    "        ORIGIN_COUNTRY_NAME STRING,\n",
    "        count LONG)\n",
    "        USING JSON OPTIONS \n",
    "        (path 'C:/Users/Admin/Documents/spark/Spark-The-Definitive-Guide-master/data/flight-data/json/2015-summary.json')\n",
    "\"\"\").show()"
   ]
  },
  {
   "cell_type": "code",
   "execution_count": 261,
   "id": "b91be5bd",
   "metadata": {},
   "outputs": [
    {
     "name": "stdout",
     "output_type": "stream",
     "text": [
      "+-----------------+-------------------+-----+\n",
      "|DEST_COUNTRY_NAME|ORIGIN_COUNTRY_NAME|count|\n",
      "+-----------------+-------------------+-----+\n",
      "|    United States|            Romania|   15|\n",
      "|    United States|            Croatia|    1|\n",
      "|    United States|            Ireland|  344|\n",
      "|            Egypt|      United States|   15|\n",
      "|    United States|              India|   62|\n",
      "+-----------------+-------------------+-----+\n",
      "only showing top 5 rows\n",
      "\n"
     ]
    }
   ],
   "source": [
    "spark.sql(\"select * from flights\").show(5)"
   ]
  },
  {
   "cell_type": "code",
   "execution_count": 262,
   "id": "4306ca7d",
   "metadata": {},
   "outputs": [
    {
     "data": {
      "text/plain": [
       "DataFrame[]"
      ]
     },
     "execution_count": 262,
     "metadata": {},
     "output_type": "execute_result"
    }
   ],
   "source": [
    "spark.sql(\"\"\"\n",
    "CREATE TABLE flights_csv (\n",
    "    DEST_COUNTRY_NAME STRING,\n",
    "    ORIGIN_COUNTRY_NAME STRING COMMENT \"remember, the US will be most prevalent\",\n",
    "    count LONG)\n",
    "USING csv OPTIONS \n",
    "(header true, path 'C:/Users/Admin/Documents/spark/Spark-The-Definitive-Guide-master/data/flight-data/csv/2015-summary.csv')\n",
    "\"\"\")"
   ]
  },
  {
   "cell_type": "code",
   "execution_count": 263,
   "id": "90cf2602",
   "metadata": {},
   "outputs": [
    {
     "name": "stdout",
     "output_type": "stream",
     "text": [
      "+-----------------+-------------------+-----+\n",
      "|DEST_COUNTRY_NAME|ORIGIN_COUNTRY_NAME|count|\n",
      "+-----------------+-------------------+-----+\n",
      "|    United States|            Romania|   15|\n",
      "|    United States|            Croatia|    1|\n",
      "|    United States|            Ireland|  344|\n",
      "|            Egypt|      United States|   15|\n",
      "|    United States|              India|   62|\n",
      "+-----------------+-------------------+-----+\n",
      "only showing top 5 rows\n",
      "\n"
     ]
    }
   ],
   "source": [
    "spark.sql(\"select * from flights_csv\").show(5)"
   ]
  },
  {
   "cell_type": "code",
   "execution_count": 269,
   "id": "438a108f",
   "metadata": {},
   "outputs": [
    {
     "data": {
      "text/plain": [
       "DataFrame[]"
      ]
     },
     "execution_count": 269,
     "metadata": {},
     "output_type": "execute_result"
    }
   ],
   "source": [
    "\"\"\"In this example, we are creating a Hive-compatible table because we did not explicitly specify the\n",
    "format via USING\"\"\"\n",
    "\n",
    "spark.sql(\"\"\"\n",
    "CREATE TABLE flights_from_select USING parquet AS SELECT * FROM flights\"\"\")"
   ]
  },
  {
   "cell_type": "code",
   "execution_count": 270,
   "id": "ee257ddc",
   "metadata": {},
   "outputs": [
    {
     "data": {
      "text/plain": [
       "DataFrame[]"
      ]
     },
     "execution_count": 270,
     "metadata": {},
     "output_type": "execute_result"
    }
   ],
   "source": [
    "spark.sql(\"\"\"CREATE TABLE IF NOT EXISTS flights_from_select\n",
    "AS SELECT * FROM flights\"\"\")"
   ]
  },
  {
   "cell_type": "code",
   "execution_count": 271,
   "id": "7cd3a701",
   "metadata": {},
   "outputs": [
    {
     "name": "stdout",
     "output_type": "stream",
     "text": [
      "+-----------------+-------------------+-----+\n",
      "|DEST_COUNTRY_NAME|ORIGIN_COUNTRY_NAME|count|\n",
      "+-----------------+-------------------+-----+\n",
      "|    United States|            Romania|   15|\n",
      "|    United States|            Croatia|    1|\n",
      "|    United States|            Ireland|  344|\n",
      "|            Egypt|      United States|   15|\n",
      "|    United States|              India|   62|\n",
      "+-----------------+-------------------+-----+\n",
      "only showing top 5 rows\n",
      "\n"
     ]
    }
   ],
   "source": [
    "spark.sql(\"\"\"select * from flights_from_select\"\"\").show(5)"
   ]
  },
  {
   "cell_type": "code",
   "execution_count": 274,
   "id": "0159f4eb",
   "metadata": {},
   "outputs": [
    {
     "data": {
      "text/plain": [
       "DataFrame[]"
      ]
     },
     "execution_count": 274,
     "metadata": {},
     "output_type": "execute_result"
    }
   ],
   "source": [
    "\"\"\"you can control the layout of the data by writing out a partitioned dataset\"\"\"\n",
    "\n",
    "spark.sql(\"\"\"CREATE TABLE partitioned_flights USING parquet PARTITIONED BY (DEST_COUNTRY_NAME)\n",
    "AS SELECT DEST_COUNTRY_NAME, ORIGIN_COUNTRY_NAME, count FROM flights LIMIT 5\"\"\")"
   ]
  },
  {
   "cell_type": "code",
   "execution_count": 275,
   "id": "bdd6c8ad",
   "metadata": {},
   "outputs": [
    {
     "name": "stdout",
     "output_type": "stream",
     "text": [
      "+-------------------+-----+-----------------+\n",
      "|ORIGIN_COUNTRY_NAME|count|DEST_COUNTRY_NAME|\n",
      "+-------------------+-----+-----------------+\n",
      "|      United States|   15|            Egypt|\n",
      "|            Romania|   15|    United States|\n",
      "|            Croatia|    1|    United States|\n",
      "+-------------------+-----+-----------------+\n",
      "only showing top 3 rows\n",
      "\n"
     ]
    }
   ],
   "source": [
    "spark.sql(\"select * from partitioned_flights\").show(3)"
   ]
  },
  {
   "cell_type": "code",
   "execution_count": 279,
   "id": "2b36b660",
   "metadata": {},
   "outputs": [
    {
     "data": {
      "text/plain": [
       "<re.Match object; span=(0, 6), match='xhello'>"
      ]
     },
     "execution_count": 279,
     "metadata": {},
     "output_type": "execute_result"
    }
   ],
   "source": [
    "import re\n",
    "re.match(r\".*?hello\", \"xhelloxxxxxx xhelloxxxxxx xhelloxxxxxx\")"
   ]
  },
  {
   "cell_type": "code",
   "execution_count": 282,
   "id": "8dcb4cf6",
   "metadata": {},
   "outputs": [
    {
     "data": {
      "text/plain": [
       "'John'"
      ]
     },
     "execution_count": 282,
     "metadata": {},
     "output_type": "execute_result"
    }
   ],
   "source": [
    "pets = re.findall(r'([A-Za-z]+)\\s\\w+\\s(\\d+)\\s(\\w+)', \"Clary has 2 dogs but John has 3 cats\")\n",
    "pets[1][0]"
   ]
  },
  {
   "cell_type": "code",
   "execution_count": null,
   "id": "3c1d67dd",
   "metadata": {},
   "outputs": [],
   "source": []
  }
 ],
 "metadata": {
  "kernelspec": {
   "display_name": "Python 3",
   "language": "python",
   "name": "python3"
  },
  "language_info": {
   "codemirror_mode": {
    "name": "ipython",
    "version": 3
   },
   "file_extension": ".py",
   "mimetype": "text/x-python",
   "name": "python",
   "nbconvert_exporter": "python",
   "pygments_lexer": "ipython3",
   "version": "3.8.8"
  }
 },
 "nbformat": 4,
 "nbformat_minor": 5
}
